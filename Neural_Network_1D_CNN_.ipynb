{
  "nbformat": 4,
  "nbformat_minor": 0,
  "metadata": {
    "colab": {
      "provenance": [],
      "gpuType": "T4",
      "authorship_tag": "ABX9TyNOX+RkBlLvJp/6od1VeRNs",
      "include_colab_link": true
    },
    "kernelspec": {
      "name": "python3",
      "display_name": "Python 3"
    },
    "language_info": {
      "name": "python"
    },
    "accelerator": "GPU"
  },
  "cells": [
    {
      "cell_type": "markdown",
      "metadata": {
        "id": "view-in-github",
        "colab_type": "text"
      },
      "source": [
        "<a href=\"https://colab.research.google.com/github/MereumF/EMBSEEGCOMP/blob/main/Neural_Network_1D_CNN_.ipynb\" target=\"_parent\"><img src=\"https://colab.research.google.com/assets/colab-badge.svg\" alt=\"Open In Colab\"/></a>"
      ]
    },
    {
      "cell_type": "code",
      "execution_count": 3,
      "metadata": {
        "colab": {
          "base_uri": "https://localhost:8080/"
        },
        "id": "2EFRnxb-U1W7",
        "outputId": "987aeec5-c604-4c87-84d9-599596f94f46"
      },
      "outputs": [
        {
          "output_type": "stream",
          "name": "stdout",
          "text": [
            "CUDA-enabled GPU found. Training should be faster.\n"
          ]
        }
      ],
      "source": [
        "# Identify whether a CUDA-enabled GPU is available\n",
        "import torch\n",
        "\n",
        "device = \"cuda\" if torch.cuda.is_available() else \"cpu\"\n",
        "if device == \"cuda\":\n",
        "    msg ='CUDA-enabled GPU found. Training should be faster.'\n",
        "else:\n",
        "    msg = (\n",
        "        \"No GPU found. Training will be carried out on CPU, which might be \"\n",
        "        \"slower.\\n\\nIf running on Google Colab, you can request a GPU runtime by\"\n",
        "        \" clicking\\n`Runtime/Change runtime type` in the top bar menu, then \"\n",
        "        \"selecting \\'T4 GPU\\'\\nunder \\'Hardware accelerator\\'.\"\n",
        "    )\n",
        "print(msg)"
      ]
    },
    {
      "cell_type": "code",
      "source": [
        "#@title ▶️ Install additional required packages for colab\n",
        "!pip install braindecode\n",
        "!pip install eegdash"
      ],
      "metadata": {
        "colab": {
          "base_uri": "https://localhost:8080/"
        },
        "collapsed": true,
        "id": "xYoIzSDyVKPH",
        "outputId": "eba310ca-8b17-471d-944f-ffd0ccebaf44"
      },
      "execution_count": 4,
      "outputs": [
        {
          "output_type": "stream",
          "name": "stdout",
          "text": [
            "Collecting braindecode\n",
            "  Downloading braindecode-1.2.0-py3-none-any.whl.metadata (7.1 kB)\n",
            "Collecting mne>=1.10.0 (from braindecode)\n",
            "  Downloading mne-1.10.2-py3-none-any.whl.metadata (21 kB)\n",
            "Collecting mne_bids>=0.16 (from braindecode)\n",
            "  Downloading mne_bids-0.17.0-py3-none-any.whl.metadata (7.3 kB)\n",
            "Requirement already satisfied: numpy in /usr/local/lib/python3.12/dist-packages (from braindecode) (2.0.2)\n",
            "Requirement already satisfied: pandas in /usr/local/lib/python3.12/dist-packages (from braindecode) (2.2.2)\n",
            "Requirement already satisfied: scipy in /usr/local/lib/python3.12/dist-packages (from braindecode) (1.16.2)\n",
            "Requirement already satisfied: matplotlib in /usr/local/lib/python3.12/dist-packages (from braindecode) (3.10.0)\n",
            "Requirement already satisfied: h5py in /usr/local/lib/python3.12/dist-packages (from braindecode) (3.15.1)\n",
            "Collecting skorch>=1.2.0 (from braindecode)\n",
            "  Downloading skorch-1.2.0-py3-none-any.whl.metadata (11 kB)\n",
            "Requirement already satisfied: torch<3.0,>=2.0 in /usr/local/lib/python3.12/dist-packages (from braindecode) (2.8.0+cu126)\n",
            "Requirement already satisfied: torchaudio<3.0,>=2.0 in /usr/local/lib/python3.12/dist-packages (from braindecode) (2.8.0+cu126)\n",
            "Requirement already satisfied: einops in /usr/local/lib/python3.12/dist-packages (from braindecode) (0.8.1)\n",
            "Requirement already satisfied: joblib in /usr/local/lib/python3.12/dist-packages (from braindecode) (1.5.2)\n",
            "Collecting torchinfo~=1.8 (from braindecode)\n",
            "  Downloading torchinfo-1.8.0-py3-none-any.whl.metadata (21 kB)\n",
            "Collecting wfdb (from braindecode)\n",
            "  Downloading wfdb-4.3.0-py3-none-any.whl.metadata (3.8 kB)\n",
            "Collecting linear_attention_transformer (from braindecode)\n",
            "  Downloading linear_attention_transformer-0.19.1-py3-none-any.whl.metadata (787 bytes)\n",
            "Collecting docstring_inheritance (from braindecode)\n",
            "  Downloading docstring_inheritance-2.2.2-py3-none-any.whl.metadata (11 kB)\n",
            "Requirement already satisfied: decorator in /usr/local/lib/python3.12/dist-packages (from mne>=1.10.0->braindecode) (4.4.2)\n",
            "Requirement already satisfied: jinja2 in /usr/local/lib/python3.12/dist-packages (from mne>=1.10.0->braindecode) (3.1.6)\n",
            "Requirement already satisfied: lazy-loader>=0.3 in /usr/local/lib/python3.12/dist-packages (from mne>=1.10.0->braindecode) (0.4)\n",
            "Requirement already satisfied: packaging in /usr/local/lib/python3.12/dist-packages (from mne>=1.10.0->braindecode) (25.0)\n",
            "Requirement already satisfied: pooch>=1.5 in /usr/local/lib/python3.12/dist-packages (from mne>=1.10.0->braindecode) (1.8.2)\n",
            "Requirement already satisfied: tqdm in /usr/local/lib/python3.12/dist-packages (from mne>=1.10.0->braindecode) (4.67.1)\n",
            "Requirement already satisfied: contourpy>=1.0.1 in /usr/local/lib/python3.12/dist-packages (from matplotlib->braindecode) (1.3.3)\n",
            "Requirement already satisfied: cycler>=0.10 in /usr/local/lib/python3.12/dist-packages (from matplotlib->braindecode) (0.12.1)\n",
            "Requirement already satisfied: fonttools>=4.22.0 in /usr/local/lib/python3.12/dist-packages (from matplotlib->braindecode) (4.60.1)\n",
            "Requirement already satisfied: kiwisolver>=1.3.1 in /usr/local/lib/python3.12/dist-packages (from matplotlib->braindecode) (1.4.9)\n",
            "Requirement already satisfied: pillow>=8 in /usr/local/lib/python3.12/dist-packages (from matplotlib->braindecode) (11.3.0)\n",
            "Requirement already satisfied: pyparsing>=2.3.1 in /usr/local/lib/python3.12/dist-packages (from matplotlib->braindecode) (3.2.5)\n",
            "Requirement already satisfied: python-dateutil>=2.7 in /usr/local/lib/python3.12/dist-packages (from matplotlib->braindecode) (2.9.0.post0)\n",
            "Requirement already satisfied: scikit-learn>=0.22.0 in /usr/local/lib/python3.12/dist-packages (from skorch>=1.2.0->braindecode) (1.6.1)\n",
            "Requirement already satisfied: tabulate>=0.7.7 in /usr/local/lib/python3.12/dist-packages (from skorch>=1.2.0->braindecode) (0.9.0)\n",
            "Requirement already satisfied: filelock in /usr/local/lib/python3.12/dist-packages (from torch<3.0,>=2.0->braindecode) (3.20.0)\n",
            "Requirement already satisfied: typing-extensions>=4.10.0 in /usr/local/lib/python3.12/dist-packages (from torch<3.0,>=2.0->braindecode) (4.15.0)\n",
            "Requirement already satisfied: setuptools in /usr/local/lib/python3.12/dist-packages (from torch<3.0,>=2.0->braindecode) (75.2.0)\n",
            "Requirement already satisfied: sympy>=1.13.3 in /usr/local/lib/python3.12/dist-packages (from torch<3.0,>=2.0->braindecode) (1.13.3)\n",
            "Requirement already satisfied: networkx in /usr/local/lib/python3.12/dist-packages (from torch<3.0,>=2.0->braindecode) (3.5)\n",
            "Requirement already satisfied: fsspec in /usr/local/lib/python3.12/dist-packages (from torch<3.0,>=2.0->braindecode) (2025.3.0)\n",
            "Requirement already satisfied: nvidia-cuda-nvrtc-cu12==12.6.77 in /usr/local/lib/python3.12/dist-packages (from torch<3.0,>=2.0->braindecode) (12.6.77)\n",
            "Requirement already satisfied: nvidia-cuda-runtime-cu12==12.6.77 in /usr/local/lib/python3.12/dist-packages (from torch<3.0,>=2.0->braindecode) (12.6.77)\n",
            "Requirement already satisfied: nvidia-cuda-cupti-cu12==12.6.80 in /usr/local/lib/python3.12/dist-packages (from torch<3.0,>=2.0->braindecode) (12.6.80)\n",
            "Requirement already satisfied: nvidia-cudnn-cu12==9.10.2.21 in /usr/local/lib/python3.12/dist-packages (from torch<3.0,>=2.0->braindecode) (9.10.2.21)\n",
            "Requirement already satisfied: nvidia-cublas-cu12==12.6.4.1 in /usr/local/lib/python3.12/dist-packages (from torch<3.0,>=2.0->braindecode) (12.6.4.1)\n",
            "Requirement already satisfied: nvidia-cufft-cu12==11.3.0.4 in /usr/local/lib/python3.12/dist-packages (from torch<3.0,>=2.0->braindecode) (11.3.0.4)\n",
            "Requirement already satisfied: nvidia-curand-cu12==10.3.7.77 in /usr/local/lib/python3.12/dist-packages (from torch<3.0,>=2.0->braindecode) (10.3.7.77)\n",
            "Requirement already satisfied: nvidia-cusolver-cu12==11.7.1.2 in /usr/local/lib/python3.12/dist-packages (from torch<3.0,>=2.0->braindecode) (11.7.1.2)\n",
            "Requirement already satisfied: nvidia-cusparse-cu12==12.5.4.2 in /usr/local/lib/python3.12/dist-packages (from torch<3.0,>=2.0->braindecode) (12.5.4.2)\n",
            "Requirement already satisfied: nvidia-cusparselt-cu12==0.7.1 in /usr/local/lib/python3.12/dist-packages (from torch<3.0,>=2.0->braindecode) (0.7.1)\n",
            "Requirement already satisfied: nvidia-nccl-cu12==2.27.3 in /usr/local/lib/python3.12/dist-packages (from torch<3.0,>=2.0->braindecode) (2.27.3)\n",
            "Requirement already satisfied: nvidia-nvtx-cu12==12.6.77 in /usr/local/lib/python3.12/dist-packages (from torch<3.0,>=2.0->braindecode) (12.6.77)\n",
            "Requirement already satisfied: nvidia-nvjitlink-cu12==12.6.85 in /usr/local/lib/python3.12/dist-packages (from torch<3.0,>=2.0->braindecode) (12.6.85)\n",
            "Requirement already satisfied: nvidia-cufile-cu12==1.11.1.6 in /usr/local/lib/python3.12/dist-packages (from torch<3.0,>=2.0->braindecode) (1.11.1.6)\n",
            "Requirement already satisfied: triton==3.4.0 in /usr/local/lib/python3.12/dist-packages (from torch<3.0,>=2.0->braindecode) (3.4.0)\n",
            "Collecting axial-positional-embedding (from linear_attention_transformer->braindecode)\n",
            "  Downloading axial_positional_embedding-0.3.12-py3-none-any.whl.metadata (4.3 kB)\n",
            "Collecting linformer>=0.1.0 (from linear_attention_transformer->braindecode)\n",
            "  Downloading linformer-0.2.3-py3-none-any.whl.metadata (602 bytes)\n",
            "Collecting local-attention (from linear_attention_transformer->braindecode)\n",
            "  Downloading local_attention-1.11.2-py3-none-any.whl.metadata (929 bytes)\n",
            "Collecting product-key-memory>=0.1.5 (from linear_attention_transformer->braindecode)\n",
            "  Downloading product_key_memory-0.2.11-py3-none-any.whl.metadata (717 bytes)\n",
            "Requirement already satisfied: pytz>=2020.1 in /usr/local/lib/python3.12/dist-packages (from pandas->braindecode) (2025.2)\n",
            "Requirement already satisfied: tzdata>=2022.7 in /usr/local/lib/python3.12/dist-packages (from pandas->braindecode) (2025.2)\n",
            "Requirement already satisfied: aiohttp>=3.10.11 in /usr/local/lib/python3.12/dist-packages (from wfdb->braindecode) (3.13.1)\n",
            "Collecting pandas (from braindecode)\n",
            "  Downloading pandas-2.3.3-cp312-cp312-manylinux_2_24_x86_64.manylinux_2_28_x86_64.whl.metadata (91 kB)\n",
            "\u001b[2K     \u001b[90m━━━━━━━━━━━━━━━━━━━━━━━━━━━━━━━━━━━━━━━━\u001b[0m \u001b[32m91.2/91.2 kB\u001b[0m \u001b[31m6.9 MB/s\u001b[0m eta \u001b[36m0:00:00\u001b[0m\n",
            "\u001b[?25hRequirement already satisfied: requests>=2.8.1 in /usr/local/lib/python3.12/dist-packages (from wfdb->braindecode) (2.32.4)\n",
            "Requirement already satisfied: soundfile>=0.10.0 in /usr/local/lib/python3.12/dist-packages (from wfdb->braindecode) (0.13.1)\n",
            "Requirement already satisfied: aiohappyeyeballs>=2.5.0 in /usr/local/lib/python3.12/dist-packages (from aiohttp>=3.10.11->wfdb->braindecode) (2.6.1)\n",
            "Requirement already satisfied: aiosignal>=1.4.0 in /usr/local/lib/python3.12/dist-packages (from aiohttp>=3.10.11->wfdb->braindecode) (1.4.0)\n",
            "Requirement already satisfied: attrs>=17.3.0 in /usr/local/lib/python3.12/dist-packages (from aiohttp>=3.10.11->wfdb->braindecode) (25.4.0)\n",
            "Requirement already satisfied: frozenlist>=1.1.1 in /usr/local/lib/python3.12/dist-packages (from aiohttp>=3.10.11->wfdb->braindecode) (1.8.0)\n",
            "Requirement already satisfied: multidict<7.0,>=4.5 in /usr/local/lib/python3.12/dist-packages (from aiohttp>=3.10.11->wfdb->braindecode) (6.7.0)\n",
            "Requirement already satisfied: propcache>=0.2.0 in /usr/local/lib/python3.12/dist-packages (from aiohttp>=3.10.11->wfdb->braindecode) (0.4.1)\n",
            "Requirement already satisfied: yarl<2.0,>=1.17.0 in /usr/local/lib/python3.12/dist-packages (from aiohttp>=3.10.11->wfdb->braindecode) (1.22.0)\n",
            "Requirement already satisfied: platformdirs>=2.5.0 in /usr/local/lib/python3.12/dist-packages (from pooch>=1.5->mne>=1.10.0->braindecode) (4.5.0)\n",
            "Collecting colt5-attention>=0.10.14 (from product-key-memory>=0.1.5->linear_attention_transformer->braindecode)\n",
            "  Downloading CoLT5_attention-0.11.1-py3-none-any.whl.metadata (737 bytes)\n",
            "Requirement already satisfied: six>=1.5 in /usr/local/lib/python3.12/dist-packages (from python-dateutil>=2.7->matplotlib->braindecode) (1.17.0)\n",
            "Requirement already satisfied: charset_normalizer<4,>=2 in /usr/local/lib/python3.12/dist-packages (from requests>=2.8.1->wfdb->braindecode) (3.4.4)\n",
            "Requirement already satisfied: idna<4,>=2.5 in /usr/local/lib/python3.12/dist-packages (from requests>=2.8.1->wfdb->braindecode) (3.11)\n",
            "Requirement already satisfied: urllib3<3,>=1.21.1 in /usr/local/lib/python3.12/dist-packages (from requests>=2.8.1->wfdb->braindecode) (2.5.0)\n",
            "Requirement already satisfied: certifi>=2017.4.17 in /usr/local/lib/python3.12/dist-packages (from requests>=2.8.1->wfdb->braindecode) (2025.10.5)\n",
            "Requirement already satisfied: threadpoolctl>=3.1.0 in /usr/local/lib/python3.12/dist-packages (from scikit-learn>=0.22.0->skorch>=1.2.0->braindecode) (3.6.0)\n",
            "Requirement already satisfied: cffi>=1.0 in /usr/local/lib/python3.12/dist-packages (from soundfile>=0.10.0->wfdb->braindecode) (2.0.0)\n",
            "Requirement already satisfied: mpmath<1.4,>=1.1.0 in /usr/local/lib/python3.12/dist-packages (from sympy>=1.13.3->torch<3.0,>=2.0->braindecode) (1.3.0)\n",
            "Requirement already satisfied: MarkupSafe>=2.0 in /usr/local/lib/python3.12/dist-packages (from jinja2->mne>=1.10.0->braindecode) (3.0.3)\n",
            "Collecting hyper-connections>=0.1.8 (from local-attention->linear_attention_transformer->braindecode)\n",
            "  Downloading hyper_connections-0.2.1-py3-none-any.whl.metadata (6.0 kB)\n",
            "Requirement already satisfied: pycparser in /usr/local/lib/python3.12/dist-packages (from cffi>=1.0->soundfile>=0.10.0->wfdb->braindecode) (2.23)\n",
            "Downloading braindecode-1.2.0-py3-none-any.whl (305 kB)\n",
            "\u001b[2K   \u001b[90m━━━━━━━━━━━━━━━━━━━━━━━━━━━━━━━━━━━━━━━━\u001b[0m \u001b[32m305.2/305.2 kB\u001b[0m \u001b[31m27.9 MB/s\u001b[0m eta \u001b[36m0:00:00\u001b[0m\n",
            "\u001b[?25hDownloading mne-1.10.2-py3-none-any.whl (7.4 MB)\n",
            "\u001b[2K   \u001b[90m━━━━━━━━━━━━━━━━━━━━━━━━━━━━━━━━━━━━━━━━\u001b[0m \u001b[32m7.4/7.4 MB\u001b[0m \u001b[31m94.7 MB/s\u001b[0m eta \u001b[36m0:00:00\u001b[0m\n",
            "\u001b[?25hDownloading mne_bids-0.17.0-py3-none-any.whl (168 kB)\n",
            "\u001b[2K   \u001b[90m━━━━━━━━━━━━━━━━━━━━━━━━━━━━━━━━━━━━━━━━\u001b[0m \u001b[32m168.9/168.9 kB\u001b[0m \u001b[31m12.7 MB/s\u001b[0m eta \u001b[36m0:00:00\u001b[0m\n",
            "\u001b[?25hDownloading skorch-1.2.0-py3-none-any.whl (263 kB)\n",
            "\u001b[2K   \u001b[90m━━━━━━━━━━━━━━━━━━━━━━━━━━━━━━━━━━━━━━━━\u001b[0m \u001b[32m263.1/263.1 kB\u001b[0m \u001b[31m16.9 MB/s\u001b[0m eta \u001b[36m0:00:00\u001b[0m\n",
            "\u001b[?25hDownloading torchinfo-1.8.0-py3-none-any.whl (23 kB)\n",
            "Downloading docstring_inheritance-2.2.2-py3-none-any.whl (24 kB)\n",
            "Downloading linear_attention_transformer-0.19.1-py3-none-any.whl (12 kB)\n",
            "Downloading wfdb-4.3.0-py3-none-any.whl (163 kB)\n",
            "\u001b[2K   \u001b[90m━━━━━━━━━━━━━━━━━━━━━━━━━━━━━━━━━━━━━━━━\u001b[0m \u001b[32m163.8/163.8 kB\u001b[0m \u001b[31m12.2 MB/s\u001b[0m eta \u001b[36m0:00:00\u001b[0m\n",
            "\u001b[?25hDownloading pandas-2.3.3-cp312-cp312-manylinux_2_24_x86_64.manylinux_2_28_x86_64.whl (12.4 MB)\n",
            "\u001b[2K   \u001b[90m━━━━━━━━━━━━━━━━━━━━━━━━━━━━━━━━━━━━━━━━\u001b[0m \u001b[32m12.4/12.4 MB\u001b[0m \u001b[31m106.0 MB/s\u001b[0m eta \u001b[36m0:00:00\u001b[0m\n",
            "\u001b[?25hDownloading linformer-0.2.3-py3-none-any.whl (6.2 kB)\n",
            "Downloading product_key_memory-0.2.11-py3-none-any.whl (6.5 kB)\n",
            "Downloading axial_positional_embedding-0.3.12-py3-none-any.whl (6.7 kB)\n",
            "Downloading local_attention-1.11.2-py3-none-any.whl (9.5 kB)\n",
            "Downloading CoLT5_attention-0.11.1-py3-none-any.whl (18 kB)\n",
            "Downloading hyper_connections-0.2.1-py3-none-any.whl (16 kB)\n",
            "Installing collected packages: torchinfo, docstring_inheritance, pandas, wfdb, skorch, mne, mne_bids, linformer, hyper-connections, axial-positional-embedding, local-attention, colt5-attention, product-key-memory, linear_attention_transformer, braindecode\n",
            "  Attempting uninstall: pandas\n",
            "    Found existing installation: pandas 2.2.2\n",
            "    Uninstalling pandas-2.2.2:\n",
            "      Successfully uninstalled pandas-2.2.2\n",
            "\u001b[31mERROR: pip's dependency resolver does not currently take into account all the packages that are installed. This behaviour is the source of the following dependency conflicts.\n",
            "google-colab 1.0.0 requires pandas==2.2.2, but you have pandas 2.3.3 which is incompatible.\n",
            "cudf-cu12 25.6.0 requires pandas<2.2.4dev0,>=2.0, but you have pandas 2.3.3 which is incompatible.\n",
            "dask-cudf-cu12 25.6.0 requires pandas<2.2.4dev0,>=2.0, but you have pandas 2.3.3 which is incompatible.\u001b[0m\u001b[31m\n",
            "\u001b[0mSuccessfully installed axial-positional-embedding-0.3.12 braindecode-1.2.0 colt5-attention-0.11.1 docstring_inheritance-2.2.2 hyper-connections-0.2.1 linear_attention_transformer-0.19.1 linformer-0.2.3 local-attention-1.11.2 mne-1.10.2 mne_bids-0.17.0 pandas-2.3.3 product-key-memory-0.2.11 skorch-1.2.0 torchinfo-1.8.0 wfdb-4.3.0\n",
            "Collecting eegdash\n",
            "  Downloading eegdash-0.4.1-py3-none-any.whl.metadata (6.8 kB)\n",
            "Requirement already satisfied: braindecode>=1.0 in /usr/local/lib/python3.12/dist-packages (from eegdash) (1.2.0)\n",
            "Requirement already satisfied: mne_bids>=0.17.0 in /usr/local/lib/python3.12/dist-packages (from eegdash) (0.17.0)\n",
            "Requirement already satisfied: numba in /usr/local/lib/python3.12/dist-packages (from eegdash) (0.60.0)\n",
            "Collecting pymongo (from eegdash)\n",
            "  Downloading pymongo-4.15.3-cp312-cp312-manylinux2014_x86_64.manylinux_2_17_x86_64.manylinux_2_28_x86_64.whl.metadata (22 kB)\n",
            "Collecting s3fs (from eegdash)\n",
            "  Downloading s3fs-2025.9.0-py3-none-any.whl.metadata (1.4 kB)\n",
            "Requirement already satisfied: tqdm in /usr/local/lib/python3.12/dist-packages (from eegdash) (4.67.1)\n",
            "Collecting pymatreader (from eegdash)\n",
            "  Downloading pymatreader-1.1.0-py3-none-any.whl.metadata (1.6 kB)\n",
            "Collecting eeglabio (from eegdash)\n",
            "  Downloading eeglabio-0.1.2-py3-none-any.whl.metadata (3.0 kB)\n",
            "Requirement already satisfied: tabulate in /usr/local/lib/python3.12/dist-packages (from eegdash) (0.9.0)\n",
            "Requirement already satisfied: rich in /usr/local/lib/python3.12/dist-packages (from eegdash) (13.9.4)\n",
            "Requirement already satisfied: mne>=1.10.0 in /usr/local/lib/python3.12/dist-packages (from braindecode>=1.0->eegdash) (1.10.2)\n",
            "Requirement already satisfied: numpy in /usr/local/lib/python3.12/dist-packages (from braindecode>=1.0->eegdash) (2.0.2)\n",
            "Requirement already satisfied: pandas in /usr/local/lib/python3.12/dist-packages (from braindecode>=1.0->eegdash) (2.3.3)\n",
            "Requirement already satisfied: scipy in /usr/local/lib/python3.12/dist-packages (from braindecode>=1.0->eegdash) (1.16.2)\n",
            "Requirement already satisfied: matplotlib in /usr/local/lib/python3.12/dist-packages (from braindecode>=1.0->eegdash) (3.10.0)\n",
            "Requirement already satisfied: h5py in /usr/local/lib/python3.12/dist-packages (from braindecode>=1.0->eegdash) (3.15.1)\n",
            "Requirement already satisfied: skorch>=1.2.0 in /usr/local/lib/python3.12/dist-packages (from braindecode>=1.0->eegdash) (1.2.0)\n",
            "Requirement already satisfied: torch<3.0,>=2.0 in /usr/local/lib/python3.12/dist-packages (from braindecode>=1.0->eegdash) (2.8.0+cu126)\n",
            "Requirement already satisfied: torchaudio<3.0,>=2.0 in /usr/local/lib/python3.12/dist-packages (from braindecode>=1.0->eegdash) (2.8.0+cu126)\n",
            "Requirement already satisfied: einops in /usr/local/lib/python3.12/dist-packages (from braindecode>=1.0->eegdash) (0.8.1)\n",
            "Requirement already satisfied: joblib in /usr/local/lib/python3.12/dist-packages (from braindecode>=1.0->eegdash) (1.5.2)\n",
            "Requirement already satisfied: torchinfo~=1.8 in /usr/local/lib/python3.12/dist-packages (from braindecode>=1.0->eegdash) (1.8.0)\n",
            "Requirement already satisfied: wfdb in /usr/local/lib/python3.12/dist-packages (from braindecode>=1.0->eegdash) (4.3.0)\n",
            "Requirement already satisfied: linear_attention_transformer in /usr/local/lib/python3.12/dist-packages (from braindecode>=1.0->eegdash) (0.19.1)\n",
            "Requirement already satisfied: docstring_inheritance in /usr/local/lib/python3.12/dist-packages (from braindecode>=1.0->eegdash) (2.2.2)\n",
            "Requirement already satisfied: llvmlite<0.44,>=0.43.0dev0 in /usr/local/lib/python3.12/dist-packages (from numba->eegdash) (0.43.0)\n",
            "Collecting xmltodict (from pymatreader->eegdash)\n",
            "  Downloading xmltodict-1.0.2-py3-none-any.whl.metadata (15 kB)\n",
            "Collecting dnspython<3.0.0,>=1.16.0 (from pymongo->eegdash)\n",
            "  Downloading dnspython-2.8.0-py3-none-any.whl.metadata (5.7 kB)\n",
            "Requirement already satisfied: markdown-it-py>=2.2.0 in /usr/local/lib/python3.12/dist-packages (from rich->eegdash) (4.0.0)\n",
            "Requirement already satisfied: pygments<3.0.0,>=2.13.0 in /usr/local/lib/python3.12/dist-packages (from rich->eegdash) (2.19.2)\n",
            "Collecting aiobotocore<3.0.0,>=2.5.4 (from s3fs->eegdash)\n",
            "  Downloading aiobotocore-2.25.0-py3-none-any.whl.metadata (25 kB)\n",
            "Collecting fsspec==2025.9.0 (from s3fs->eegdash)\n",
            "  Downloading fsspec-2025.9.0-py3-none-any.whl.metadata (10 kB)\n",
            "Requirement already satisfied: aiohttp!=4.0.0a0,!=4.0.0a1 in /usr/local/lib/python3.12/dist-packages (from s3fs->eegdash) (3.13.1)\n",
            "Collecting aioitertools<1.0.0,>=0.5.1 (from aiobotocore<3.0.0,>=2.5.4->s3fs->eegdash)\n",
            "  Downloading aioitertools-0.12.0-py3-none-any.whl.metadata (3.8 kB)\n",
            "Collecting botocore<1.40.50,>=1.40.46 (from aiobotocore<3.0.0,>=2.5.4->s3fs->eegdash)\n",
            "  Downloading botocore-1.40.49-py3-none-any.whl.metadata (5.7 kB)\n",
            "Requirement already satisfied: python-dateutil<3.0.0,>=2.1 in /usr/local/lib/python3.12/dist-packages (from aiobotocore<3.0.0,>=2.5.4->s3fs->eegdash) (2.9.0.post0)\n",
            "Collecting jmespath<2.0.0,>=0.7.1 (from aiobotocore<3.0.0,>=2.5.4->s3fs->eegdash)\n",
            "  Downloading jmespath-1.0.1-py3-none-any.whl.metadata (7.6 kB)\n",
            "Requirement already satisfied: multidict<7.0.0,>=6.0.0 in /usr/local/lib/python3.12/dist-packages (from aiobotocore<3.0.0,>=2.5.4->s3fs->eegdash) (6.7.0)\n",
            "Collecting wrapt<2.0.0,>=1.10.10 (from aiobotocore<3.0.0,>=2.5.4->s3fs->eegdash)\n",
            "  Downloading wrapt-1.17.3-cp312-cp312-manylinux1_x86_64.manylinux_2_28_x86_64.manylinux_2_5_x86_64.whl.metadata (6.4 kB)\n",
            "Requirement already satisfied: aiohappyeyeballs>=2.5.0 in /usr/local/lib/python3.12/dist-packages (from aiohttp!=4.0.0a0,!=4.0.0a1->s3fs->eegdash) (2.6.1)\n",
            "Requirement already satisfied: aiosignal>=1.4.0 in /usr/local/lib/python3.12/dist-packages (from aiohttp!=4.0.0a0,!=4.0.0a1->s3fs->eegdash) (1.4.0)\n",
            "Requirement already satisfied: attrs>=17.3.0 in /usr/local/lib/python3.12/dist-packages (from aiohttp!=4.0.0a0,!=4.0.0a1->s3fs->eegdash) (25.4.0)\n",
            "Requirement already satisfied: frozenlist>=1.1.1 in /usr/local/lib/python3.12/dist-packages (from aiohttp!=4.0.0a0,!=4.0.0a1->s3fs->eegdash) (1.8.0)\n",
            "Requirement already satisfied: propcache>=0.2.0 in /usr/local/lib/python3.12/dist-packages (from aiohttp!=4.0.0a0,!=4.0.0a1->s3fs->eegdash) (0.4.1)\n",
            "Requirement already satisfied: yarl<2.0,>=1.17.0 in /usr/local/lib/python3.12/dist-packages (from aiohttp!=4.0.0a0,!=4.0.0a1->s3fs->eegdash) (1.22.0)\n",
            "Requirement already satisfied: mdurl~=0.1 in /usr/local/lib/python3.12/dist-packages (from markdown-it-py>=2.2.0->rich->eegdash) (0.1.2)\n",
            "Requirement already satisfied: decorator in /usr/local/lib/python3.12/dist-packages (from mne>=1.10.0->braindecode>=1.0->eegdash) (4.4.2)\n",
            "Requirement already satisfied: jinja2 in /usr/local/lib/python3.12/dist-packages (from mne>=1.10.0->braindecode>=1.0->eegdash) (3.1.6)\n",
            "Requirement already satisfied: lazy-loader>=0.3 in /usr/local/lib/python3.12/dist-packages (from mne>=1.10.0->braindecode>=1.0->eegdash) (0.4)\n",
            "Requirement already satisfied: packaging in /usr/local/lib/python3.12/dist-packages (from mne>=1.10.0->braindecode>=1.0->eegdash) (25.0)\n",
            "Requirement already satisfied: pooch>=1.5 in /usr/local/lib/python3.12/dist-packages (from mne>=1.10.0->braindecode>=1.0->eegdash) (1.8.2)\n",
            "Requirement already satisfied: contourpy>=1.0.1 in /usr/local/lib/python3.12/dist-packages (from matplotlib->braindecode>=1.0->eegdash) (1.3.3)\n",
            "Requirement already satisfied: cycler>=0.10 in /usr/local/lib/python3.12/dist-packages (from matplotlib->braindecode>=1.0->eegdash) (0.12.1)\n",
            "Requirement already satisfied: fonttools>=4.22.0 in /usr/local/lib/python3.12/dist-packages (from matplotlib->braindecode>=1.0->eegdash) (4.60.1)\n",
            "Requirement already satisfied: kiwisolver>=1.3.1 in /usr/local/lib/python3.12/dist-packages (from matplotlib->braindecode>=1.0->eegdash) (1.4.9)\n",
            "Requirement already satisfied: pillow>=8 in /usr/local/lib/python3.12/dist-packages (from matplotlib->braindecode>=1.0->eegdash) (11.3.0)\n",
            "Requirement already satisfied: pyparsing>=2.3.1 in /usr/local/lib/python3.12/dist-packages (from matplotlib->braindecode>=1.0->eegdash) (3.2.5)\n",
            "Requirement already satisfied: scikit-learn>=0.22.0 in /usr/local/lib/python3.12/dist-packages (from skorch>=1.2.0->braindecode>=1.0->eegdash) (1.6.1)\n",
            "Requirement already satisfied: filelock in /usr/local/lib/python3.12/dist-packages (from torch<3.0,>=2.0->braindecode>=1.0->eegdash) (3.20.0)\n",
            "Requirement already satisfied: typing-extensions>=4.10.0 in /usr/local/lib/python3.12/dist-packages (from torch<3.0,>=2.0->braindecode>=1.0->eegdash) (4.15.0)\n",
            "Requirement already satisfied: setuptools in /usr/local/lib/python3.12/dist-packages (from torch<3.0,>=2.0->braindecode>=1.0->eegdash) (75.2.0)\n",
            "Requirement already satisfied: sympy>=1.13.3 in /usr/local/lib/python3.12/dist-packages (from torch<3.0,>=2.0->braindecode>=1.0->eegdash) (1.13.3)\n",
            "Requirement already satisfied: networkx in /usr/local/lib/python3.12/dist-packages (from torch<3.0,>=2.0->braindecode>=1.0->eegdash) (3.5)\n",
            "Requirement already satisfied: nvidia-cuda-nvrtc-cu12==12.6.77 in /usr/local/lib/python3.12/dist-packages (from torch<3.0,>=2.0->braindecode>=1.0->eegdash) (12.6.77)\n",
            "Requirement already satisfied: nvidia-cuda-runtime-cu12==12.6.77 in /usr/local/lib/python3.12/dist-packages (from torch<3.0,>=2.0->braindecode>=1.0->eegdash) (12.6.77)\n",
            "Requirement already satisfied: nvidia-cuda-cupti-cu12==12.6.80 in /usr/local/lib/python3.12/dist-packages (from torch<3.0,>=2.0->braindecode>=1.0->eegdash) (12.6.80)\n",
            "Requirement already satisfied: nvidia-cudnn-cu12==9.10.2.21 in /usr/local/lib/python3.12/dist-packages (from torch<3.0,>=2.0->braindecode>=1.0->eegdash) (9.10.2.21)\n",
            "Requirement already satisfied: nvidia-cublas-cu12==12.6.4.1 in /usr/local/lib/python3.12/dist-packages (from torch<3.0,>=2.0->braindecode>=1.0->eegdash) (12.6.4.1)\n",
            "Requirement already satisfied: nvidia-cufft-cu12==11.3.0.4 in /usr/local/lib/python3.12/dist-packages (from torch<3.0,>=2.0->braindecode>=1.0->eegdash) (11.3.0.4)\n",
            "Requirement already satisfied: nvidia-curand-cu12==10.3.7.77 in /usr/local/lib/python3.12/dist-packages (from torch<3.0,>=2.0->braindecode>=1.0->eegdash) (10.3.7.77)\n",
            "Requirement already satisfied: nvidia-cusolver-cu12==11.7.1.2 in /usr/local/lib/python3.12/dist-packages (from torch<3.0,>=2.0->braindecode>=1.0->eegdash) (11.7.1.2)\n",
            "Requirement already satisfied: nvidia-cusparse-cu12==12.5.4.2 in /usr/local/lib/python3.12/dist-packages (from torch<3.0,>=2.0->braindecode>=1.0->eegdash) (12.5.4.2)\n",
            "Requirement already satisfied: nvidia-cusparselt-cu12==0.7.1 in /usr/local/lib/python3.12/dist-packages (from torch<3.0,>=2.0->braindecode>=1.0->eegdash) (0.7.1)\n",
            "Requirement already satisfied: nvidia-nccl-cu12==2.27.3 in /usr/local/lib/python3.12/dist-packages (from torch<3.0,>=2.0->braindecode>=1.0->eegdash) (2.27.3)\n",
            "Requirement already satisfied: nvidia-nvtx-cu12==12.6.77 in /usr/local/lib/python3.12/dist-packages (from torch<3.0,>=2.0->braindecode>=1.0->eegdash) (12.6.77)\n",
            "Requirement already satisfied: nvidia-nvjitlink-cu12==12.6.85 in /usr/local/lib/python3.12/dist-packages (from torch<3.0,>=2.0->braindecode>=1.0->eegdash) (12.6.85)\n",
            "Requirement already satisfied: nvidia-cufile-cu12==1.11.1.6 in /usr/local/lib/python3.12/dist-packages (from torch<3.0,>=2.0->braindecode>=1.0->eegdash) (1.11.1.6)\n",
            "Requirement already satisfied: triton==3.4.0 in /usr/local/lib/python3.12/dist-packages (from torch<3.0,>=2.0->braindecode>=1.0->eegdash) (3.4.0)\n",
            "Requirement already satisfied: axial-positional-embedding in /usr/local/lib/python3.12/dist-packages (from linear_attention_transformer->braindecode>=1.0->eegdash) (0.3.12)\n",
            "Requirement already satisfied: linformer>=0.1.0 in /usr/local/lib/python3.12/dist-packages (from linear_attention_transformer->braindecode>=1.0->eegdash) (0.2.3)\n",
            "Requirement already satisfied: local-attention in /usr/local/lib/python3.12/dist-packages (from linear_attention_transformer->braindecode>=1.0->eegdash) (1.11.2)\n",
            "Requirement already satisfied: product-key-memory>=0.1.5 in /usr/local/lib/python3.12/dist-packages (from linear_attention_transformer->braindecode>=1.0->eegdash) (0.2.11)\n",
            "Requirement already satisfied: pytz>=2020.1 in /usr/local/lib/python3.12/dist-packages (from pandas->braindecode>=1.0->eegdash) (2025.2)\n",
            "Requirement already satisfied: tzdata>=2022.7 in /usr/local/lib/python3.12/dist-packages (from pandas->braindecode>=1.0->eegdash) (2025.2)\n",
            "Requirement already satisfied: requests>=2.8.1 in /usr/local/lib/python3.12/dist-packages (from wfdb->braindecode>=1.0->eegdash) (2.32.4)\n",
            "Requirement already satisfied: soundfile>=0.10.0 in /usr/local/lib/python3.12/dist-packages (from wfdb->braindecode>=1.0->eegdash) (0.13.1)\n",
            "Requirement already satisfied: urllib3!=2.2.0,<3,>=1.25.4 in /usr/local/lib/python3.12/dist-packages (from botocore<1.40.50,>=1.40.46->aiobotocore<3.0.0,>=2.5.4->s3fs->eegdash) (2.5.0)\n",
            "Requirement already satisfied: platformdirs>=2.5.0 in /usr/local/lib/python3.12/dist-packages (from pooch>=1.5->mne>=1.10.0->braindecode>=1.0->eegdash) (4.5.0)\n",
            "Requirement already satisfied: colt5-attention>=0.10.14 in /usr/local/lib/python3.12/dist-packages (from product-key-memory>=0.1.5->linear_attention_transformer->braindecode>=1.0->eegdash) (0.11.1)\n",
            "Requirement already satisfied: six>=1.5 in /usr/local/lib/python3.12/dist-packages (from python-dateutil<3.0.0,>=2.1->aiobotocore<3.0.0,>=2.5.4->s3fs->eegdash) (1.17.0)\n",
            "Requirement already satisfied: charset_normalizer<4,>=2 in /usr/local/lib/python3.12/dist-packages (from requests>=2.8.1->wfdb->braindecode>=1.0->eegdash) (3.4.4)\n",
            "Requirement already satisfied: idna<4,>=2.5 in /usr/local/lib/python3.12/dist-packages (from requests>=2.8.1->wfdb->braindecode>=1.0->eegdash) (3.11)\n",
            "Requirement already satisfied: certifi>=2017.4.17 in /usr/local/lib/python3.12/dist-packages (from requests>=2.8.1->wfdb->braindecode>=1.0->eegdash) (2025.10.5)\n",
            "Requirement already satisfied: threadpoolctl>=3.1.0 in /usr/local/lib/python3.12/dist-packages (from scikit-learn>=0.22.0->skorch>=1.2.0->braindecode>=1.0->eegdash) (3.6.0)\n",
            "Requirement already satisfied: cffi>=1.0 in /usr/local/lib/python3.12/dist-packages (from soundfile>=0.10.0->wfdb->braindecode>=1.0->eegdash) (2.0.0)\n",
            "Requirement already satisfied: mpmath<1.4,>=1.1.0 in /usr/local/lib/python3.12/dist-packages (from sympy>=1.13.3->torch<3.0,>=2.0->braindecode>=1.0->eegdash) (1.3.0)\n",
            "Requirement already satisfied: MarkupSafe>=2.0 in /usr/local/lib/python3.12/dist-packages (from jinja2->mne>=1.10.0->braindecode>=1.0->eegdash) (3.0.3)\n",
            "Requirement already satisfied: hyper-connections>=0.1.8 in /usr/local/lib/python3.12/dist-packages (from local-attention->linear_attention_transformer->braindecode>=1.0->eegdash) (0.2.1)\n",
            "Requirement already satisfied: pycparser in /usr/local/lib/python3.12/dist-packages (from cffi>=1.0->soundfile>=0.10.0->wfdb->braindecode>=1.0->eegdash) (2.23)\n",
            "Downloading eegdash-0.4.1-py3-none-any.whl (83 kB)\n",
            "\u001b[2K   \u001b[90m━━━━━━━━━━━━━━━━━━━━━━━━━━━━━━━━━━━━━━━━\u001b[0m \u001b[32m83.4/83.4 kB\u001b[0m \u001b[31m4.4 MB/s\u001b[0m eta \u001b[36m0:00:00\u001b[0m\n",
            "\u001b[?25hDownloading eeglabio-0.1.2-py3-none-any.whl (10 kB)\n",
            "Downloading pymatreader-1.1.0-py3-none-any.whl (9.5 kB)\n",
            "Downloading pymongo-4.15.3-cp312-cp312-manylinux2014_x86_64.manylinux_2_17_x86_64.manylinux_2_28_x86_64.whl (1.7 MB)\n",
            "\u001b[2K   \u001b[90m━━━━━━━━━━━━━━━━━━━━━━━━━━━━━━━━━━━━━━━━\u001b[0m \u001b[32m1.7/1.7 MB\u001b[0m \u001b[31m44.5 MB/s\u001b[0m eta \u001b[36m0:00:00\u001b[0m\n",
            "\u001b[?25hDownloading s3fs-2025.9.0-py3-none-any.whl (30 kB)\n",
            "Downloading fsspec-2025.9.0-py3-none-any.whl (199 kB)\n",
            "\u001b[2K   \u001b[90m━━━━━━━━━━━━━━━━━━━━━━━━━━━━━━━━━━━━━━━━\u001b[0m \u001b[32m199.3/199.3 kB\u001b[0m \u001b[31m21.1 MB/s\u001b[0m eta \u001b[36m0:00:00\u001b[0m\n",
            "\u001b[?25hDownloading aiobotocore-2.25.0-py3-none-any.whl (86 kB)\n",
            "\u001b[2K   \u001b[90m━━━━━━━━━━━━━━━━━━━━━━━━━━━━━━━━━━━━━━━━\u001b[0m \u001b[32m86.0/86.0 kB\u001b[0m \u001b[31m9.6 MB/s\u001b[0m eta \u001b[36m0:00:00\u001b[0m\n",
            "\u001b[?25hDownloading dnspython-2.8.0-py3-none-any.whl (331 kB)\n",
            "\u001b[2K   \u001b[90m━━━━━━━━━━━━━━━━━━━━━━━━━━━━━━━━━━━━━━━━\u001b[0m \u001b[32m331.1/331.1 kB\u001b[0m \u001b[31m32.9 MB/s\u001b[0m eta \u001b[36m0:00:00\u001b[0m\n",
            "\u001b[?25hDownloading xmltodict-1.0.2-py3-none-any.whl (13 kB)\n",
            "Downloading aioitertools-0.12.0-py3-none-any.whl (24 kB)\n",
            "Downloading botocore-1.40.49-py3-none-any.whl (14.1 MB)\n",
            "\u001b[2K   \u001b[90m━━━━━━━━━━━━━━━━━━━━━━━━━━━━━━━━━━━━━━━━\u001b[0m \u001b[32m14.1/14.1 MB\u001b[0m \u001b[31m133.8 MB/s\u001b[0m eta \u001b[36m0:00:00\u001b[0m\n",
            "\u001b[?25hDownloading jmespath-1.0.1-py3-none-any.whl (20 kB)\n",
            "Downloading wrapt-1.17.3-cp312-cp312-manylinux1_x86_64.manylinux_2_28_x86_64.manylinux_2_5_x86_64.whl (88 kB)\n",
            "\u001b[2K   \u001b[90m━━━━━━━━━━━━━━━━━━━━━━━━━━━━━━━━━━━━━━━━\u001b[0m \u001b[32m88.0/88.0 kB\u001b[0m \u001b[31m10.2 MB/s\u001b[0m eta \u001b[36m0:00:00\u001b[0m\n",
            "\u001b[?25hInstalling collected packages: xmltodict, wrapt, jmespath, fsspec, dnspython, aioitertools, pymongo, pymatreader, eeglabio, botocore, aiobotocore, s3fs, eegdash\n",
            "  Attempting uninstall: wrapt\n",
            "    Found existing installation: wrapt 2.0.0\n",
            "    Uninstalling wrapt-2.0.0:\n",
            "      Successfully uninstalled wrapt-2.0.0\n",
            "  Attempting uninstall: fsspec\n",
            "    Found existing installation: fsspec 2025.3.0\n",
            "    Uninstalling fsspec-2025.3.0:\n",
            "      Successfully uninstalled fsspec-2025.3.0\n",
            "\u001b[31mERROR: pip's dependency resolver does not currently take into account all the packages that are installed. This behaviour is the source of the following dependency conflicts.\n",
            "cudf-cu12 25.6.0 requires pandas<2.2.4dev0,>=2.0, but you have pandas 2.3.3 which is incompatible.\n",
            "datasets 4.0.0 requires fsspec[http]<=2025.3.0,>=2023.1.0, but you have fsspec 2025.9.0 which is incompatible.\n",
            "dask-cudf-cu12 25.6.0 requires pandas<2.2.4dev0,>=2.0, but you have pandas 2.3.3 which is incompatible.\n",
            "gcsfs 2025.3.0 requires fsspec==2025.3.0, but you have fsspec 2025.9.0 which is incompatible.\u001b[0m\u001b[31m\n",
            "\u001b[0mSuccessfully installed aiobotocore-2.25.0 aioitertools-0.12.0 botocore-1.40.49 dnspython-2.8.0 eegdash-0.4.1 eeglabio-0.1.2 fsspec-2025.9.0 jmespath-1.0.1 pymatreader-1.1.0 pymongo-4.15.3 s3fs-2025.9.0 wrapt-1.17.3 xmltodict-1.0.2\n"
          ]
        }
      ]
    },
    {
      "cell_type": "code",
      "source": [
        "from pathlib import Path\n",
        "\n",
        "DATA_DIR = Path(\"data\")\n",
        "DATA_DIR.mkdir(parents=True, exist_ok=True)\n",
        "\n",
        "from eegdash.dataset import EEGChallengeDataset\n",
        "\n",
        "dataset_ccd = EEGChallengeDataset(task=\"contrastChangeDetection\",\n",
        "                                  release=\"R1\", cache_dir=DATA_DIR,\n",
        "                                  mini=True)\n"
      ],
      "metadata": {
        "colab": {
          "base_uri": "https://localhost:8080/",
          "height": 287
        },
        "id": "hbhKQZG4VNAf",
        "outputId": "c727fd3b-f358-4ee7-8bb5-0d4f07d31cf5"
      },
      "execution_count": 5,
      "outputs": [
        {
          "output_type": "display_data",
          "data": {
            "text/plain": [
              "\u001b[33m╭─\u001b[0m\u001b[33m──────────────────────────────────────\u001b[0m\u001b[33m \u001b[0m\u001b[33mEEG 2025 Competition Data Notice\u001b[0m\u001b[33m \u001b[0m\u001b[33m───────────────────────────────────────\u001b[0m\u001b[33m─╮\u001b[0m\n",
              "\u001b[33m│\u001b[0m This object loads the HBN dataset that has been preprocessed for the EEG Challenge:                             \u001b[33m│\u001b[0m\n",
              "\u001b[33m│\u001b[0m   * Downsampled from 500Hz to 100Hz                                                                             \u001b[33m│\u001b[0m\n",
              "\u001b[33m│\u001b[0m   * Bandpass filtered (0.5-50 Hz)                                                                               \u001b[33m│\u001b[0m\n",
              "\u001b[33m│\u001b[0m                                                                                                                 \u001b[33m│\u001b[0m\n",
              "\u001b[33m│\u001b[0m For full preprocessing applied for competition details, see:                                                    \u001b[33m│\u001b[0m\n",
              "\u001b[33m│\u001b[0m   \u001b]8;id=109390;https://github.com/eeg2025/downsample-datasets\u001b\\https://github.com/eeg2025/downsample-datasets\u001b]8;;\u001b\\                                                                \u001b[33m│\u001b[0m\n",
              "\u001b[33m│\u001b[0m                                                                                                                 \u001b[33m│\u001b[0m\n",
              "\u001b[33m│\u001b[0m The HBN dataset have some preprocessing applied by the HBN team:                                                \u001b[33m│\u001b[0m\n",
              "\u001b[33m│\u001b[0m   * Re-reference (Cz Channel)                                                                                   \u001b[33m│\u001b[0m\n",
              "\u001b[33m│\u001b[0m                                                                                                                 \u001b[33m│\u001b[0m\n",
              "\u001b[33m│\u001b[0m \u001b[1;31mIMPORTANT\u001b[0m: The data accessed via `EEGChallengeDataset` is \u001b[4mNOT\u001b[0m identical to what you get from \u001b]8;id=979604;https://github.com/sccn/EEGDash/blob/develop/eegdash/api.py\u001b\\EEGDashDataset\u001b]8;;\u001b\\     \u001b[33m│\u001b[0m\n",
              "\u001b[33m│\u001b[0m directly.                                                                                                       \u001b[33m│\u001b[0m\n",
              "\u001b[33m│\u001b[0m If you are participating in the competition, always use `EEGChallengeDataset` to ensure consistency with the    \u001b[33m│\u001b[0m\n",
              "\u001b[33m│\u001b[0m challenge data.                                                                                                 \u001b[33m│\u001b[0m\n",
              "\u001b[33m╰─\u001b[0m\u001b[33m─────────────────────────────────────────\u001b[0m\u001b[33m \u001b[0m\u001b[36mSource: EEGChallengeDataset\u001b[0m\u001b[33m \u001b[0m\u001b[33m─────────────────────────────────────────\u001b[0m\u001b[33m─╯\u001b[0m\n"
            ],
            "text/html": [
              "<pre style=\"white-space:pre;overflow-x:auto;line-height:normal;font-family:Menlo,'DejaVu Sans Mono',consolas,'Courier New',monospace\"><span style=\"color: #808000; text-decoration-color: #808000\">╭─────────────────────────────────────── EEG 2025 Competition Data Notice ────────────────────────────────────────╮</span>\n",
              "<span style=\"color: #808000; text-decoration-color: #808000\">│</span> This object loads the HBN dataset that has been preprocessed for the EEG Challenge:                             <span style=\"color: #808000; text-decoration-color: #808000\">│</span>\n",
              "<span style=\"color: #808000; text-decoration-color: #808000\">│</span>   * Downsampled from 500Hz to 100Hz                                                                             <span style=\"color: #808000; text-decoration-color: #808000\">│</span>\n",
              "<span style=\"color: #808000; text-decoration-color: #808000\">│</span>   * Bandpass filtered (0.5-50 Hz)                                                                               <span style=\"color: #808000; text-decoration-color: #808000\">│</span>\n",
              "<span style=\"color: #808000; text-decoration-color: #808000\">│</span>                                                                                                                 <span style=\"color: #808000; text-decoration-color: #808000\">│</span>\n",
              "<span style=\"color: #808000; text-decoration-color: #808000\">│</span> For full preprocessing applied for competition details, see:                                                    <span style=\"color: #808000; text-decoration-color: #808000\">│</span>\n",
              "<span style=\"color: #808000; text-decoration-color: #808000\">│</span>   <a href=\"https://github.com/eeg2025/downsample-datasets\" target=\"_blank\">https://github.com/eeg2025/downsample-datasets</a>                                                                <span style=\"color: #808000; text-decoration-color: #808000\">│</span>\n",
              "<span style=\"color: #808000; text-decoration-color: #808000\">│</span>                                                                                                                 <span style=\"color: #808000; text-decoration-color: #808000\">│</span>\n",
              "<span style=\"color: #808000; text-decoration-color: #808000\">│</span> The HBN dataset have some preprocessing applied by the HBN team:                                                <span style=\"color: #808000; text-decoration-color: #808000\">│</span>\n",
              "<span style=\"color: #808000; text-decoration-color: #808000\">│</span>   * Re-reference (Cz Channel)                                                                                   <span style=\"color: #808000; text-decoration-color: #808000\">│</span>\n",
              "<span style=\"color: #808000; text-decoration-color: #808000\">│</span>                                                                                                                 <span style=\"color: #808000; text-decoration-color: #808000\">│</span>\n",
              "<span style=\"color: #808000; text-decoration-color: #808000\">│</span> <span style=\"color: #800000; text-decoration-color: #800000; font-weight: bold\">IMPORTANT</span>: The data accessed via `EEGChallengeDataset` is <span style=\"text-decoration: underline\">NOT</span> identical to what you get from <a href=\"https://github.com/sccn/EEGDash/blob/develop/eegdash/api.py\" target=\"_blank\">EEGDashDataset</a>     <span style=\"color: #808000; text-decoration-color: #808000\">│</span>\n",
              "<span style=\"color: #808000; text-decoration-color: #808000\">│</span> directly.                                                                                                       <span style=\"color: #808000; text-decoration-color: #808000\">│</span>\n",
              "<span style=\"color: #808000; text-decoration-color: #808000\">│</span> If you are participating in the competition, always use `EEGChallengeDataset` to ensure consistency with the    <span style=\"color: #808000; text-decoration-color: #808000\">│</span>\n",
              "<span style=\"color: #808000; text-decoration-color: #808000\">│</span> challenge data.                                                                                                 <span style=\"color: #808000; text-decoration-color: #808000\">│</span>\n",
              "<span style=\"color: #808000; text-decoration-color: #808000\">╰────────────────────────────────────────── </span><span style=\"color: #008080; text-decoration-color: #008080\">Source: EEGChallengeDataset</span><span style=\"color: #808000; text-decoration-color: #808000\"> ──────────────────────────────────────────╯</span>\n",
              "</pre>\n"
            ]
          },
          "metadata": {}
        }
      ]
    },
    {
      "cell_type": "code",
      "source": [
        "#@title ▶️ Run this first to get all the utils functions for the epoching\n",
        "from braindecode.datasets import BaseConcatDataset\n"
      ],
      "metadata": {
        "id": "P0QV5tQMVON_"
      },
      "execution_count": 6,
      "outputs": []
    },
    {
      "cell_type": "code",
      "source": [
        "from braindecode.preprocessing import preprocess, Preprocessor, create_windows_from_events\n",
        "from eegdash.hbn.windows import (\n",
        "    annotate_trials_with_target,\n",
        "    add_aux_anchors,\n",
        "    add_extras_columns,\n",
        "    keep_only_recordings_with,\n",
        ")\n",
        "\n",
        "EPOCH_LEN_S = 2.0\n",
        "SFREQ = 100 # by definition here\n",
        "\n",
        "transformation_offline = [\n",
        "    Preprocessor(\n",
        "        annotate_trials_with_target,\n",
        "        target_field=\"rt_from_stimulus\", epoch_length=EPOCH_LEN_S,\n",
        "        require_stimulus=True, require_response=True,\n",
        "        apply_on_array=False,\n",
        "    ),\n",
        "    Preprocessor(add_aux_anchors, apply_on_array=False),\n",
        "]\n",
        "preprocess(dataset_ccd, transformation_offline, n_jobs=1)\n",
        "\n",
        "ANCHOR = \"stimulus_anchor\"\n",
        "\n",
        "SHIFT_AFTER_STIM = 0.5\n",
        "WINDOW_LEN       = 2.0\n",
        "\n",
        "# Keep only recordings that actually contain stimulus anchors\n",
        "dataset = keep_only_recordings_with(ANCHOR, dataset_ccd)\n",
        "\n",
        "# Create single-interval windows (stim-locked, long enough to include the response)\n",
        "single_windows = create_windows_from_events(\n",
        "    dataset,\n",
        "    mapping={ANCHOR: 0},\n",
        "    trial_start_offset_samples=int(SHIFT_AFTER_STIM * SFREQ),                 # +0.5 s\n",
        "    trial_stop_offset_samples=int((SHIFT_AFTER_STIM + WINDOW_LEN) * SFREQ),   # +2.5 s\n",
        "    window_size_samples=int(EPOCH_LEN_S * SFREQ),\n",
        "    window_stride_samples=SFREQ,\n",
        "    preload=True,\n",
        ")\n",
        "\n",
        "# Injecting metadata into the extra mne annotation.\n",
        "single_windows = add_extras_columns(\n",
        "    single_windows,\n",
        "    dataset,\n",
        "    desc=ANCHOR,\n",
        "    keys=(\"target\", \"rt_from_stimulus\", \"rt_from_trialstart\",\n",
        "          \"stimulus_onset\", \"response_onset\", \"correct\", \"response_type\")\n",
        "          )"
      ],
      "metadata": {
        "colab": {
          "base_uri": "https://localhost:8080/"
        },
        "id": "2WKLa1tEX9H4",
        "outputId": "cfd79dd4-edfe-4fe2-a274-4691142139d4"
      },
      "execution_count": 7,
      "outputs": [
        {
          "output_type": "stream",
          "name": "stderr",
          "text": [
            "Downloading dataset_description.json: 100%|██████████| 1.00/1.00 [00:00<00:00, 10.7B/s]\n",
            "Downloading participants.tsv: 100%|██████████| 1.00/1.00 [00:00<00:00, 12.9B/s]\n",
            "Downloading sub-NDARAC904DMU_task-contrastChangeDetection_run-3_events.tsv: 100%|██████████| 1.00/1.00 [00:00<00:00, 11.6B/s]\n",
            "Downloading sub-NDARAC904DMU_task-symbolSearch_events.tsv: 100%|██████████| 1.00/1.00 [00:00<00:00, 12.1B/s]\n",
            "Downloading sub-NDARAC904DMU_task-DespicableMe_events.tsv: 100%|██████████| 1.00/1.00 [00:00<00:00, 11.7B/s]\n",
            "Downloading sub-NDARAC904DMU_task-surroundSupp_run-2_events.tsv: 100%|██████████| 1.00/1.00 [00:00<00:00, 11.4B/s]\n",
            "Downloading sub-NDARAC904DMU_task-contrastChangeDetection_run-1_events.tsv: 100%|██████████| 1.00/1.00 [00:00<00:00, 11.6B/s]\n",
            "Downloading sub-NDARAC904DMU_task-surroundSupp_run-1_events.tsv: 100%|██████████| 1.00/1.00 [00:00<00:00, 11.6B/s]\n",
            "Downloading sub-NDARAC904DMU_task-ThePresent_events.tsv: 100%|██████████| 1.00/1.00 [00:00<00:00, 12.3B/s]\n",
            "Downloading sub-NDARAC904DMU_task-FunwithFractals_events.tsv: 100%|██████████| 1.00/1.00 [00:00<00:00, 12.7B/s]\n",
            "Downloading sub-NDARAC904DMU_task-DiaryOfAWimpyKid_events.tsv: 100%|██████████| 1.00/1.00 [00:00<00:00, 12.7B/s]\n",
            "Downloading sub-NDARAC904DMU_task-RestingState_events.tsv: 100%|██████████| 1.00/1.00 [00:00<00:00, 12.7B/s]\n",
            "Downloading sub-NDARAC904DMU_task-contrastChangeDetection_run-2_events.tsv: 100%|██████████| 1.00/1.00 [00:00<00:00, 12.2B/s]\n",
            "Downloading sub-NDARAC904DMU_task-seqLearning8target_events.tsv: 100%|██████████| 1.00/1.00 [00:00<00:00, 11.5B/s]\n",
            "Downloading task-seqLearning8target_events.json: 100%|██████████| 1.00/1.00 [00:00<00:00, 12.8B/s]\n",
            "Downloading task-RestingState_events.json: 100%|██████████| 1.00/1.00 [00:00<00:00, 13.2B/s]\n",
            "Downloading task-surroundSupp_events.json: 100%|██████████| 1.00/1.00 [00:00<00:00, 8.69B/s]\n",
            "Downloading task-FunwithFractals_events.json: 100%|██████████| 1.00/1.00 [00:00<00:00, 12.1B/s]\n",
            "Downloading task-symbolSearch_events.json: 100%|██████████| 1.00/1.00 [00:00<00:00, 13.3B/s]\n",
            "Downloading task-ThePresent_events.json: 100%|██████████| 1.00/1.00 [00:00<00:00, 12.2B/s]\n",
            "Downloading task-seqLearning6target_events.json: 100%|██████████| 1.00/1.00 [00:00<00:00, 8.26B/s]\n",
            "Downloading task-contrastChangeDetection_events.json: 100%|██████████| 1.00/1.00 [00:00<00:00, 10.2B/s]\n",
            "Downloading task-DespicableMe_events.json: 100%|██████████| 1.00/1.00 [00:00<00:00, 12.3B/s]\n",
            "Downloading task-DiaryOfAWimpyKid_events.json: 100%|██████████| 1.00/1.00 [00:00<00:00, 12.5B/s]\n",
            "Downloading sub-NDARAC904DMU_task-surroundSupp_run-1_eeg.json: 100%|██████████| 1.00/1.00 [00:00<00:00, 13.1B/s]\n",
            "Downloading sub-NDARAC904DMU_task-symbolSearch_eeg.json: 100%|██████████| 1.00/1.00 [00:00<00:00, 11.5B/s]\n",
            "Downloading sub-NDARAC904DMU_task-surroundSupp_run-2_eeg.json: 100%|██████████| 1.00/1.00 [00:00<00:00, 12.3B/s]\n",
            "Downloading sub-NDARAC904DMU_task-contrastChangeDetection_run-1_eeg.json: 100%|██████████| 1.00/1.00 [00:00<00:00, 12.4B/s]\n",
            "Downloading sub-NDARAC904DMU_task-contrastChangeDetection_run-2_eeg.json: 100%|██████████| 1.00/1.00 [00:00<00:00, 9.96B/s]\n",
            "Downloading sub-NDARAC904DMU_task-FunwithFractals_eeg.json: 100%|██████████| 1.00/1.00 [00:00<00:00, 10.6B/s]\n",
            "Downloading sub-NDARAC904DMU_task-contrastChangeDetection_run-3_eeg.json: 100%|██████████| 1.00/1.00 [00:00<00:00, 13.2B/s]\n",
            "Downloading sub-NDARAC904DMU_task-RestingState_eeg.json: 100%|██████████| 1.00/1.00 [00:00<00:00, 12.4B/s]\n",
            "Downloading sub-NDARAC904DMU_task-seqLearning8target_eeg.json: 100%|██████████| 1.00/1.00 [00:00<00:00, 12.0B/s]\n",
            "Downloading sub-NDARAC904DMU_task-DespicableMe_eeg.json: 100%|██████████| 1.00/1.00 [00:00<00:00, 10.0B/s]\n",
            "Downloading sub-NDARAC904DMU_task-DiaryOfAWimpyKid_eeg.json: 100%|██████████| 1.00/1.00 [00:00<00:00, 11.7B/s]\n",
            "Downloading sub-NDARAC904DMU_task-ThePresent_eeg.json: 100%|██████████| 1.00/1.00 [00:00<00:00, 12.7B/s]\n",
            "Downloading task-symbolSearch_eeg.json: 100%|██████████| 1.00/1.00 [00:00<00:00, 12.2B/s]\n",
            "Downloading task-surroundSupp_eeg.json: 100%|██████████| 1.00/1.00 [00:00<00:00, 13.3B/s]\n",
            "Downloading task-contrastChangeDetection_eeg.json: 100%|██████████| 1.00/1.00 [00:00<00:00, 13.3B/s]\n",
            "Downloading task-seqLearning8target_eeg.json: 100%|██████████| 1.00/1.00 [00:00<00:00, 13.4B/s]\n",
            "Downloading task-DespicableMe_eeg.json: 100%|██████████| 1.00/1.00 [00:00<00:00, 12.6B/s]\n",
            "Downloading task-ThePresent_eeg.json: 100%|██████████| 1.00/1.00 [00:00<00:00, 12.1B/s]\n",
            "Downloading task-FunwithFractals_eeg.json: 100%|██████████| 1.00/1.00 [00:00<00:00, 13.1B/s]\n",
            "Downloading task-RestingState_eeg.json: 100%|██████████| 1.00/1.00 [00:00<00:00, 13.0B/s]\n",
            "Downloading task-seqLearning6target_eeg.json: 100%|██████████| 1.00/1.00 [00:00<00:00, 13.4B/s]\n",
            "Downloading task-DiaryOfAWimpyKid_eeg.json: 100%|██████████| 1.00/1.00 [00:00<00:00, 11.2B/s]\n",
            "Downloading sub-NDARAC904DMU_task-surroundSupp_run-1_channels.tsv: 100%|██████████| 1.00/1.00 [00:00<00:00, 13.7B/s]\n",
            "Downloading sub-NDARAC904DMU_task-FunwithFractals_channels.tsv: 100%|██████████| 1.00/1.00 [00:00<00:00, 13.2B/s]\n",
            "Downloading sub-NDARAC904DMU_task-contrastChangeDetection_run-2_channels.tsv: 100%|██████████| 1.00/1.00 [00:00<00:00, 10.3B/s]\n",
            "Downloading sub-NDARAC904DMU_task-seqLearning8target_channels.tsv: 100%|██████████| 1.00/1.00 [00:00<00:00, 9.71B/s]\n",
            "Downloading sub-NDARAC904DMU_task-ThePresent_channels.tsv: 100%|██████████| 1.00/1.00 [00:00<00:00, 11.3B/s]\n",
            "Downloading sub-NDARAC904DMU_task-RestingState_channels.tsv: 100%|██████████| 1.00/1.00 [00:00<00:00, 10.1B/s]\n",
            "Downloading sub-NDARAC904DMU_task-contrastChangeDetection_run-3_channels.tsv: 100%|██████████| 1.00/1.00 [00:00<00:00, 11.1B/s]\n",
            "Downloading sub-NDARAC904DMU_task-surroundSupp_run-2_channels.tsv: 100%|██████████| 1.00/1.00 [00:00<00:00, 8.19B/s]\n",
            "Downloading sub-NDARAC904DMU_task-DiaryOfAWimpyKid_channels.tsv: 100%|██████████| 1.00/1.00 [00:00<00:00, 10.9B/s]\n",
            "Downloading sub-NDARAC904DMU_task-symbolSearch_channels.tsv: 100%|██████████| 1.00/1.00 [00:00<00:00, 12.5B/s]\n",
            "Downloading sub-NDARAC904DMU_task-DespicableMe_channels.tsv: 100%|██████████| 1.00/1.00 [00:00<00:00, 11.7B/s]\n",
            "Downloading sub-NDARAC904DMU_task-contrastChangeDetection_run-1_channels.tsv: 100%|██████████| 1.00/1.00 [00:00<00:00, 8.21B/s]\n",
            "Downloading sub-NDARAC904DMU_task-contrastChangeDetection_run-1_eeg.bdf: 100%|██████████| 1.00/1.00 [00:00<00:00, 1.54B/s]\n",
            "Downloading sub-NDARAC904DMU_task-contrastChangeDetection_run-1_eeg.bdf: 100%|██████████| 1.00/1.00 [00:00<00:00, 3.49B/s]\n",
            "Downloading sub-NDARAC904DMU_task-contrastChangeDetection_run-3_eeg.bdf: 100%|██████████| 1.00/1.00 [00:00<00:00, 3.40B/s]\n",
            "Downloading sub-NDARAC904DMU_task-contrastChangeDetection_run-3_eeg.bdf: 100%|██████████| 1.00/1.00 [00:00<00:00, 3.89B/s]\n",
            "Downloading sub-NDARAC904DMU_task-contrastChangeDetection_run-2_eeg.bdf: 100%|██████████| 1.00/1.00 [00:00<00:00, 3.09B/s]\n",
            "Downloading sub-NDARAC904DMU_task-contrastChangeDetection_run-2_eeg.bdf: 100%|██████████| 1.00/1.00 [00:00<00:00, 3.91B/s]\n",
            "Downloading sub-NDARAM704GKZ_task-ThePresent_events.tsv: 100%|██████████| 1.00/1.00 [00:00<00:00, 14.7B/s]\n",
            "Downloading sub-NDARAM704GKZ_task-RestingState_events.tsv: 100%|██████████| 1.00/1.00 [00:00<00:00, 12.2B/s]\n",
            "Downloading sub-NDARAM704GKZ_task-contrastChangeDetection_run-1_events.tsv: 100%|██████████| 1.00/1.00 [00:00<00:00, 4.80B/s]\n",
            "Downloading sub-NDARAM704GKZ_task-symbolSearch_events.tsv: 100%|██████████| 1.00/1.00 [00:00<00:00, 13.5B/s]\n",
            "Downloading sub-NDARAM704GKZ_task-DespicableMe_events.tsv: 100%|██████████| 1.00/1.00 [00:00<00:00, 12.1B/s]\n",
            "Downloading sub-NDARAM704GKZ_task-contrastChangeDetection_run-2_events.tsv: 100%|██████████| 1.00/1.00 [00:00<00:00, 12.0B/s]\n",
            "Downloading sub-NDARAM704GKZ_task-contrastChangeDetection_run-3_events.tsv: 100%|██████████| 1.00/1.00 [00:00<00:00, 13.4B/s]\n",
            "Downloading sub-NDARAM704GKZ_task-FunwithFractals_events.tsv: 100%|██████████| 1.00/1.00 [00:00<00:00, 13.2B/s]\n",
            "Downloading sub-NDARAM704GKZ_task-DiaryOfAWimpyKid_events.tsv: 100%|██████████| 1.00/1.00 [00:00<00:00, 13.2B/s]\n",
            "Downloading sub-NDARAM704GKZ_task-surroundSupp_run-2_events.tsv: 100%|██████████| 1.00/1.00 [00:00<00:00, 13.4B/s]\n",
            "Downloading sub-NDARAM704GKZ_task-surroundSupp_run-1_events.tsv: 100%|██████████| 1.00/1.00 [00:00<00:00, 13.2B/s]\n",
            "Downloading sub-NDARAM704GKZ_task-contrastChangeDetection_run-3_eeg.json: 100%|██████████| 1.00/1.00 [00:00<00:00, 13.7B/s]\n",
            "Downloading sub-NDARAM704GKZ_task-contrastChangeDetection_run-2_eeg.json: 100%|██████████| 1.00/1.00 [00:00<00:00, 13.2B/s]\n",
            "Downloading sub-NDARAM704GKZ_task-contrastChangeDetection_run-1_eeg.json: 100%|██████████| 1.00/1.00 [00:00<00:00, 12.9B/s]\n",
            "Downloading sub-NDARAM704GKZ_task-FunwithFractals_eeg.json: 100%|██████████| 1.00/1.00 [00:00<00:00, 13.2B/s]\n",
            "Downloading sub-NDARAM704GKZ_task-DespicableMe_eeg.json: 100%|██████████| 1.00/1.00 [00:00<00:00, 12.8B/s]\n",
            "Downloading sub-NDARAM704GKZ_task-RestingState_eeg.json: 100%|██████████| 1.00/1.00 [00:00<00:00, 13.1B/s]\n",
            "Downloading sub-NDARAM704GKZ_task-DiaryOfAWimpyKid_eeg.json: 100%|██████████| 1.00/1.00 [00:00<00:00, 13.6B/s]\n",
            "Downloading sub-NDARAM704GKZ_task-symbolSearch_eeg.json: 100%|██████████| 1.00/1.00 [00:00<00:00, 13.4B/s]\n",
            "Downloading sub-NDARAM704GKZ_task-ThePresent_eeg.json: 100%|██████████| 1.00/1.00 [00:00<00:00, 13.8B/s]\n",
            "Downloading sub-NDARAM704GKZ_task-surroundSupp_run-1_eeg.json: 100%|██████████| 1.00/1.00 [00:00<00:00, 13.4B/s]\n",
            "Downloading sub-NDARAM704GKZ_task-surroundSupp_run-2_eeg.json: 100%|██████████| 1.00/1.00 [00:00<00:00, 12.9B/s]\n",
            "Downloading sub-NDARAM704GKZ_task-RestingState_channels.tsv: 100%|██████████| 1.00/1.00 [00:00<00:00, 12.8B/s]\n",
            "Downloading sub-NDARAM704GKZ_task-surroundSupp_run-1_channels.tsv: 100%|██████████| 1.00/1.00 [00:00<00:00, 11.6B/s]\n",
            "Downloading sub-NDARAM704GKZ_task-symbolSearch_channels.tsv: 100%|██████████| 1.00/1.00 [00:00<00:00, 6.26B/s]\n",
            "Downloading sub-NDARAM704GKZ_task-FunwithFractals_channels.tsv: 100%|██████████| 1.00/1.00 [00:00<00:00, 13.0B/s]\n",
            "Downloading sub-NDARAM704GKZ_task-ThePresent_channels.tsv: 100%|██████████| 1.00/1.00 [00:00<00:00, 12.6B/s]\n",
            "Downloading sub-NDARAM704GKZ_task-contrastChangeDetection_run-2_channels.tsv: 100%|██████████| 1.00/1.00 [00:00<00:00, 13.1B/s]\n",
            "Downloading sub-NDARAM704GKZ_task-surroundSupp_run-2_channels.tsv: 100%|██████████| 1.00/1.00 [00:00<00:00, 10.3B/s]\n",
            "Downloading sub-NDARAM704GKZ_task-DespicableMe_channels.tsv: 100%|██████████| 1.00/1.00 [00:00<00:00, 13.0B/s]\n",
            "Downloading sub-NDARAM704GKZ_task-contrastChangeDetection_run-1_channels.tsv: 100%|██████████| 1.00/1.00 [00:00<00:00, 6.15B/s]\n",
            "Downloading sub-NDARAM704GKZ_task-contrastChangeDetection_run-3_channels.tsv: 100%|██████████| 1.00/1.00 [00:00<00:00, 12.2B/s]\n",
            "Downloading sub-NDARAM704GKZ_task-DiaryOfAWimpyKid_channels.tsv: 100%|██████████| 1.00/1.00 [00:00<00:00, 10.7B/s]\n",
            "Downloading sub-NDARAM704GKZ_task-contrastChangeDetection_run-1_eeg.bdf: 100%|██████████| 1.00/1.00 [00:00<00:00, 1.14B/s]\n",
            "Downloading sub-NDARAM704GKZ_task-contrastChangeDetection_run-1_eeg.bdf: 100%|██████████| 1.00/1.00 [00:00<00:00, 1.97B/s]\n",
            "Downloading sub-NDARAM704GKZ_task-contrastChangeDetection_run-2_eeg.bdf: 100%|██████████| 1.00/1.00 [00:00<00:00, 1.24B/s]\n",
            "Downloading sub-NDARAM704GKZ_task-contrastChangeDetection_run-2_eeg.bdf: 100%|██████████| 1.00/1.00 [00:00<00:00, 1.08B/s]\n",
            "Downloading sub-NDARAM704GKZ_task-contrastChangeDetection_run-3_eeg.bdf: 100%|██████████| 1.00/1.00 [00:00<00:00, 3.12B/s]\n",
            "Downloading sub-NDARAM704GKZ_task-contrastChangeDetection_run-3_eeg.bdf: 100%|██████████| 1.00/1.00 [00:00<00:00, 3.81B/s]\n",
            "Downloading sub-NDARAP359UM6_task-surroundSupp_run-1_events.tsv: 100%|██████████| 1.00/1.00 [00:00<00:00, 11.9B/s]\n",
            "Downloading sub-NDARAP359UM6_task-surroundSupp_run-2_events.tsv: 100%|██████████| 1.00/1.00 [00:00<00:00, 11.9B/s]\n",
            "Downloading sub-NDARAP359UM6_task-seqLearning8target_events.tsv: 100%|██████████| 1.00/1.00 [00:00<00:00, 9.79B/s]\n",
            "Downloading sub-NDARAP359UM6_task-symbolSearch_events.tsv: 100%|██████████| 1.00/1.00 [00:00<00:00, 13.1B/s]\n",
            "Downloading sub-NDARAP359UM6_task-contrastChangeDetection_run-2_events.tsv: 100%|██████████| 1.00/1.00 [00:00<00:00, 12.6B/s]\n",
            "Downloading sub-NDARAP359UM6_task-RestingState_events.tsv: 100%|██████████| 1.00/1.00 [00:00<00:00, 13.3B/s]\n",
            "Downloading sub-NDARAP359UM6_task-FunwithFractals_events.tsv: 100%|██████████| 1.00/1.00 [00:00<00:00, 9.26B/s]\n",
            "Downloading sub-NDARAP359UM6_task-DespicableMe_events.tsv: 100%|██████████| 1.00/1.00 [00:00<00:00, 13.4B/s]\n",
            "Downloading sub-NDARAP359UM6_task-contrastChangeDetection_run-1_events.tsv: 100%|██████████| 1.00/1.00 [00:00<00:00, 13.1B/s]\n",
            "Downloading sub-NDARAP359UM6_task-contrastChangeDetection_run-3_events.tsv: 100%|██████████| 1.00/1.00 [00:00<00:00, 11.0B/s]\n",
            "Downloading sub-NDARAP359UM6_task-ThePresent_events.tsv: 100%|██████████| 1.00/1.00 [00:00<00:00, 14.9B/s]\n",
            "Downloading sub-NDARAP359UM6_task-DiaryOfAWimpyKid_events.tsv: 100%|██████████| 1.00/1.00 [00:00<00:00, 10.2B/s]\n",
            "Downloading sub-NDARAP359UM6_task-contrastChangeDetection_run-2_eeg.json: 100%|██████████| 1.00/1.00 [00:00<00:00, 12.3B/s]\n",
            "Downloading sub-NDARAP359UM6_task-DespicableMe_eeg.json: 100%|██████████| 1.00/1.00 [00:00<00:00, 13.3B/s]\n",
            "Downloading sub-NDARAP359UM6_task-contrastChangeDetection_run-3_eeg.json: 100%|██████████| 1.00/1.00 [00:00<00:00, 13.2B/s]\n",
            "Downloading sub-NDARAP359UM6_task-RestingState_eeg.json: 100%|██████████| 1.00/1.00 [00:00<00:00, 13.3B/s]\n",
            "Downloading sub-NDARAP359UM6_task-surroundSupp_run-1_eeg.json: 100%|██████████| 1.00/1.00 [00:00<00:00, 9.28B/s]\n",
            "Downloading sub-NDARAP359UM6_task-contrastChangeDetection_run-1_eeg.json: 100%|██████████| 1.00/1.00 [00:00<00:00, 12.9B/s]\n",
            "Downloading sub-NDARAP359UM6_task-FunwithFractals_eeg.json: 100%|██████████| 1.00/1.00 [00:00<00:00, 13.0B/s]\n",
            "Downloading sub-NDARAP359UM6_task-ThePresent_eeg.json: 100%|██████████| 1.00/1.00 [00:00<00:00, 9.42B/s]\n",
            "Downloading sub-NDARAP359UM6_task-surroundSupp_run-2_eeg.json: 100%|██████████| 1.00/1.00 [00:00<00:00, 9.93B/s]\n",
            "Downloading sub-NDARAP359UM6_task-seqLearning8target_eeg.json: 100%|██████████| 1.00/1.00 [00:00<00:00, 13.3B/s]\n",
            "Downloading sub-NDARAP359UM6_task-DiaryOfAWimpyKid_eeg.json: 100%|██████████| 1.00/1.00 [00:00<00:00, 12.1B/s]\n",
            "Downloading sub-NDARAP359UM6_task-symbolSearch_eeg.json: 100%|██████████| 1.00/1.00 [00:00<00:00, 11.1B/s]\n",
            "Downloading sub-NDARAP359UM6_task-surroundSupp_run-1_channels.tsv: 100%|██████████| 1.00/1.00 [00:00<00:00, 11.9B/s]\n",
            "Downloading sub-NDARAP359UM6_task-contrastChangeDetection_run-3_channels.tsv: 100%|██████████| 1.00/1.00 [00:00<00:00, 10.5B/s]\n",
            "Downloading sub-NDARAP359UM6_task-contrastChangeDetection_run-1_channels.tsv: 100%|██████████| 1.00/1.00 [00:00<00:00, 12.6B/s]\n",
            "Downloading sub-NDARAP359UM6_task-RestingState_channels.tsv: 100%|██████████| 1.00/1.00 [00:00<00:00, 13.3B/s]\n",
            "Downloading sub-NDARAP359UM6_task-DespicableMe_channels.tsv: 100%|██████████| 1.00/1.00 [00:00<00:00, 11.8B/s]\n",
            "Downloading sub-NDARAP359UM6_task-surroundSupp_run-2_channels.tsv: 100%|██████████| 1.00/1.00 [00:00<00:00, 13.0B/s]\n",
            "Downloading sub-NDARAP359UM6_task-FunwithFractals_channels.tsv: 100%|██████████| 1.00/1.00 [00:00<00:00, 8.39B/s]\n",
            "Downloading sub-NDARAP359UM6_task-DiaryOfAWimpyKid_channels.tsv: 100%|██████████| 1.00/1.00 [00:00<00:00, 12.6B/s]\n",
            "Downloading sub-NDARAP359UM6_task-symbolSearch_channels.tsv: 100%|██████████| 1.00/1.00 [00:00<00:00, 11.6B/s]\n",
            "Downloading sub-NDARAP359UM6_task-contrastChangeDetection_run-2_channels.tsv: 100%|██████████| 1.00/1.00 [00:00<00:00, 12.2B/s]\n",
            "Downloading sub-NDARAP359UM6_task-ThePresent_channels.tsv: 100%|██████████| 1.00/1.00 [00:00<00:00, 5.17B/s]\n",
            "Downloading sub-NDARAP359UM6_task-seqLearning8target_channels.tsv: 100%|██████████| 1.00/1.00 [00:00<00:00, 12.7B/s]\n",
            "Downloading sub-NDARAP359UM6_task-contrastChangeDetection_run-1_eeg.bdf: 100%|██████████| 1.00/1.00 [00:00<00:00, 1.19B/s]\n",
            "Downloading sub-NDARAP359UM6_task-contrastChangeDetection_run-1_eeg.bdf: 100%|██████████| 1.00/1.00 [00:00<00:00, 1.87B/s]\n",
            "Downloading sub-NDARAP359UM6_task-contrastChangeDetection_run-2_eeg.bdf: 100%|██████████| 1.00/1.00 [00:00<00:00, 1.11B/s]\n",
            "Downloading sub-NDARAP359UM6_task-contrastChangeDetection_run-2_eeg.bdf: 100%|██████████| 1.00/1.00 [00:01<00:00, 1.09s/B]\n",
            "Downloading sub-NDARAP359UM6_task-contrastChangeDetection_run-3_eeg.bdf: 100%|██████████| 1.00/1.00 [00:00<00:00, 1.96B/s]\n",
            "Downloading sub-NDARAP359UM6_task-contrastChangeDetection_run-3_eeg.bdf: 100%|██████████| 1.00/1.00 [00:00<00:00, 2.30B/s]\n",
            "Downloading sub-NDARBD879MBX_task-ThePresent_events.tsv: 100%|██████████| 1.00/1.00 [00:00<00:00, 14.7B/s]\n",
            "Downloading sub-NDARBD879MBX_task-RestingState_events.tsv: 100%|██████████| 1.00/1.00 [00:00<00:00, 13.0B/s]\n",
            "Downloading sub-NDARBD879MBX_task-DespicableMe_events.tsv: 100%|██████████| 1.00/1.00 [00:00<00:00, 11.5B/s]\n",
            "Downloading sub-NDARBD879MBX_task-FunwithFractals_events.tsv: 100%|██████████| 1.00/1.00 [00:00<00:00, 10.5B/s]\n",
            "Downloading sub-NDARBD879MBX_task-surroundSupp_run-1_events.tsv: 100%|██████████| 1.00/1.00 [00:00<00:00, 10.7B/s]\n",
            "Downloading sub-NDARBD879MBX_task-contrastChangeDetection_run-3_events.tsv: 100%|██████████| 1.00/1.00 [00:00<00:00, 12.0B/s]\n",
            "Downloading sub-NDARBD879MBX_task-contrastChangeDetection_run-1_events.tsv: 100%|██████████| 1.00/1.00 [00:00<00:00, 12.1B/s]\n",
            "Downloading sub-NDARBD879MBX_task-surroundSupp_run-2_events.tsv: 100%|██████████| 1.00/1.00 [00:00<00:00, 12.1B/s]\n",
            "Downloading sub-NDARBD879MBX_task-DiaryOfAWimpyKid_events.tsv: 100%|██████████| 1.00/1.00 [00:00<00:00, 8.70B/s]\n",
            "Downloading sub-NDARBD879MBX_task-symbolSearch_events.tsv: 100%|██████████| 1.00/1.00 [00:00<00:00, 13.2B/s]\n",
            "Downloading sub-NDARBD879MBX_task-seqLearning8target_events.tsv: 100%|██████████| 1.00/1.00 [00:00<00:00, 11.4B/s]\n",
            "Downloading sub-NDARBD879MBX_task-contrastChangeDetection_run-2_events.tsv: 100%|██████████| 1.00/1.00 [00:00<00:00, 12.1B/s]\n",
            "Downloading sub-NDARBD879MBX_task-DiaryOfAWimpyKid_eeg.json: 100%|██████████| 1.00/1.00 [00:00<00:00, 13.2B/s]\n",
            "Downloading sub-NDARBD879MBX_task-seqLearning8target_eeg.json: 100%|██████████| 1.00/1.00 [00:00<00:00, 13.3B/s]\n",
            "Downloading sub-NDARBD879MBX_task-surroundSupp_run-1_eeg.json: 100%|██████████| 1.00/1.00 [00:00<00:00, 12.8B/s]\n",
            "Downloading sub-NDARBD879MBX_task-RestingState_eeg.json: 100%|██████████| 1.00/1.00 [00:00<00:00, 13.4B/s]\n",
            "Downloading sub-NDARBD879MBX_task-contrastChangeDetection_run-3_eeg.json: 100%|██████████| 1.00/1.00 [00:00<00:00, 13.3B/s]\n",
            "Downloading sub-NDARBD879MBX_task-contrastChangeDetection_run-1_eeg.json: 100%|██████████| 1.00/1.00 [00:00<00:00, 13.0B/s]\n",
            "Downloading sub-NDARBD879MBX_task-symbolSearch_eeg.json: 100%|██████████| 1.00/1.00 [00:00<00:00, 13.1B/s]\n",
            "Downloading sub-NDARBD879MBX_task-DespicableMe_eeg.json: 100%|██████████| 1.00/1.00 [00:00<00:00, 13.1B/s]\n",
            "Downloading sub-NDARBD879MBX_task-surroundSupp_run-2_eeg.json: 100%|██████████| 1.00/1.00 [00:00<00:00, 13.0B/s]\n",
            "Downloading sub-NDARBD879MBX_task-contrastChangeDetection_run-2_eeg.json: 100%|██████████| 1.00/1.00 [00:00<00:00, 4.62B/s]\n",
            "Downloading sub-NDARBD879MBX_task-FunwithFractals_eeg.json: 100%|██████████| 1.00/1.00 [00:00<00:00, 13.2B/s]\n",
            "Downloading sub-NDARBD879MBX_task-ThePresent_eeg.json: 100%|██████████| 1.00/1.00 [00:00<00:00, 12.2B/s]\n",
            "Downloading sub-NDARBD879MBX_task-contrastChangeDetection_run-3_channels.tsv: 100%|██████████| 1.00/1.00 [00:00<00:00, 13.0B/s]\n",
            "Downloading sub-NDARBD879MBX_task-ThePresent_channels.tsv: 100%|██████████| 1.00/1.00 [00:00<00:00, 11.7B/s]\n",
            "Downloading sub-NDARBD879MBX_task-contrastChangeDetection_run-2_channels.tsv: 100%|██████████| 1.00/1.00 [00:00<00:00, 10.1B/s]\n",
            "Downloading sub-NDARBD879MBX_task-surroundSupp_run-2_channels.tsv: 100%|██████████| 1.00/1.00 [00:00<00:00, 11.1B/s]\n",
            "Downloading sub-NDARBD879MBX_task-DespicableMe_channels.tsv: 100%|██████████| 1.00/1.00 [00:00<00:00, 10.6B/s]\n",
            "Downloading sub-NDARBD879MBX_task-FunwithFractals_channels.tsv: 100%|██████████| 1.00/1.00 [00:00<00:00, 12.1B/s]\n",
            "Downloading sub-NDARBD879MBX_task-DiaryOfAWimpyKid_channels.tsv: 100%|██████████| 1.00/1.00 [00:00<00:00, 10.6B/s]\n",
            "Downloading sub-NDARBD879MBX_task-contrastChangeDetection_run-1_channels.tsv: 100%|██████████| 1.00/1.00 [00:00<00:00, 12.2B/s]\n",
            "Downloading sub-NDARBD879MBX_task-symbolSearch_channels.tsv: 100%|██████████| 1.00/1.00 [00:00<00:00, 12.0B/s]\n",
            "Downloading sub-NDARBD879MBX_task-RestingState_channels.tsv: 100%|██████████| 1.00/1.00 [00:00<00:00, 9.92B/s]\n",
            "Downloading sub-NDARBD879MBX_task-seqLearning8target_channels.tsv: 100%|██████████| 1.00/1.00 [00:00<00:00, 13.1B/s]\n",
            "Downloading sub-NDARBD879MBX_task-surroundSupp_run-1_channels.tsv: 100%|██████████| 1.00/1.00 [00:00<00:00, 11.8B/s]\n",
            "Downloading sub-NDARBD879MBX_task-contrastChangeDetection_run-3_eeg.bdf: 100%|██████████| 1.00/1.00 [00:00<00:00, 1.37B/s]\n",
            "Downloading sub-NDARBD879MBX_task-contrastChangeDetection_run-3_eeg.bdf: 100%|██████████| 1.00/1.00 [00:00<00:00, 3.82B/s]\n",
            "Downloading sub-NDARBD879MBX_task-contrastChangeDetection_run-2_eeg.bdf: 100%|██████████| 1.00/1.00 [00:00<00:00, 1.61B/s]\n",
            "Downloading sub-NDARBD879MBX_task-contrastChangeDetection_run-2_eeg.bdf: 100%|██████████| 1.00/1.00 [00:01<00:00, 1.20s/B]\n",
            "Downloading sub-NDARBD879MBX_task-contrastChangeDetection_run-1_eeg.bdf: 100%|██████████| 1.00/1.00 [00:00<00:00, 1.55B/s]\n",
            "Downloading sub-NDARBD879MBX_task-contrastChangeDetection_run-1_eeg.bdf: 100%|██████████| 1.00/1.00 [00:00<00:00, 1.80B/s]\n",
            "Downloading sub-NDARBH024NH2_task-surroundSupp_run-1_events.tsv: 100%|██████████| 1.00/1.00 [00:00<00:00, 10.2B/s]\n",
            "Downloading sub-NDARBH024NH2_task-symbolSearch_events.tsv: 100%|██████████| 1.00/1.00 [00:00<00:00, 13.1B/s]\n",
            "Downloading sub-NDARBH024NH2_task-ThePresent_events.tsv: 100%|██████████| 1.00/1.00 [00:00<00:00, 14.3B/s]\n",
            "Downloading sub-NDARBH024NH2_task-surroundSupp_run-2_events.tsv: 100%|██████████| 1.00/1.00 [00:00<00:00, 12.2B/s]\n",
            "Downloading sub-NDARBH024NH2_task-RestingState_events.tsv: 100%|██████████| 1.00/1.00 [00:00<00:00, 12.7B/s]\n",
            "Downloading sub-NDARBH024NH2_task-FunwithFractals_events.tsv: 100%|██████████| 1.00/1.00 [00:00<00:00, 13.1B/s]\n",
            "Downloading sub-NDARBH024NH2_task-contrastChangeDetection_run-3_events.tsv: 100%|██████████| 1.00/1.00 [00:00<00:00, 11.1B/s]\n",
            "Downloading sub-NDARBH024NH2_task-seqLearning6target_events.tsv: 100%|██████████| 1.00/1.00 [00:00<00:00, 10.8B/s]\n",
            "Downloading sub-NDARBH024NH2_task-contrastChangeDetection_run-1_events.tsv: 100%|██████████| 1.00/1.00 [00:00<00:00, 12.0B/s]\n",
            "Downloading sub-NDARBH024NH2_task-contrastChangeDetection_run-2_events.tsv: 100%|██████████| 1.00/1.00 [00:00<00:00, 13.1B/s]\n",
            "Downloading sub-NDARBH024NH2_task-DespicableMe_events.tsv: 100%|██████████| 1.00/1.00 [00:00<00:00, 12.9B/s]\n",
            "Downloading sub-NDARBH024NH2_task-DiaryOfAWimpyKid_events.tsv: 100%|██████████| 1.00/1.00 [00:00<00:00, 12.6B/s]\n",
            "Downloading sub-NDARBH024NH2_task-FunwithFractals_eeg.json: 100%|██████████| 1.00/1.00 [00:00<00:00, 12.7B/s]\n",
            "Downloading sub-NDARBH024NH2_task-surroundSupp_run-2_eeg.json: 100%|██████████| 1.00/1.00 [00:00<00:00, 13.3B/s]\n",
            "Downloading sub-NDARBH024NH2_task-contrastChangeDetection_run-1_eeg.json: 100%|██████████| 1.00/1.00 [00:00<00:00, 11.0B/s]\n",
            "Downloading sub-NDARBH024NH2_task-DespicableMe_eeg.json: 100%|██████████| 1.00/1.00 [00:00<00:00, 12.9B/s]\n",
            "Downloading sub-NDARBH024NH2_task-seqLearning6target_eeg.json: 100%|██████████| 1.00/1.00 [00:00<00:00, 13.0B/s]\n",
            "Downloading sub-NDARBH024NH2_task-RestingState_eeg.json: 100%|██████████| 1.00/1.00 [00:00<00:00, 13.1B/s]\n",
            "Downloading sub-NDARBH024NH2_task-symbolSearch_eeg.json: 100%|██████████| 1.00/1.00 [00:00<00:00, 12.0B/s]\n",
            "Downloading sub-NDARBH024NH2_task-contrastChangeDetection_run-3_eeg.json: 100%|██████████| 1.00/1.00 [00:00<00:00, 12.9B/s]\n",
            "Downloading sub-NDARBH024NH2_task-surroundSupp_run-1_eeg.json: 100%|██████████| 1.00/1.00 [00:00<00:00, 11.7B/s]\n",
            "Downloading sub-NDARBH024NH2_task-contrastChangeDetection_run-2_eeg.json: 100%|██████████| 1.00/1.00 [00:00<00:00, 13.1B/s]\n",
            "Downloading sub-NDARBH024NH2_task-DiaryOfAWimpyKid_eeg.json: 100%|██████████| 1.00/1.00 [00:00<00:00, 13.0B/s]\n",
            "Downloading sub-NDARBH024NH2_task-ThePresent_eeg.json: 100%|██████████| 1.00/1.00 [00:00<00:00, 13.4B/s]\n",
            "Downloading sub-NDARBH024NH2_task-contrastChangeDetection_run-1_channels.tsv: 100%|██████████| 1.00/1.00 [00:00<00:00, 13.3B/s]\n",
            "Downloading sub-NDARBH024NH2_task-symbolSearch_channels.tsv: 100%|██████████| 1.00/1.00 [00:00<00:00, 13.0B/s]\n",
            "Downloading sub-NDARBH024NH2_task-contrastChangeDetection_run-2_channels.tsv: 100%|██████████| 1.00/1.00 [00:00<00:00, 13.7B/s]\n",
            "Downloading sub-NDARBH024NH2_task-seqLearning6target_channels.tsv: 100%|██████████| 1.00/1.00 [00:00<00:00, 9.74B/s]\n",
            "Downloading sub-NDARBH024NH2_task-DiaryOfAWimpyKid_channels.tsv: 100%|██████████| 1.00/1.00 [00:00<00:00, 7.23B/s]\n",
            "Downloading sub-NDARBH024NH2_task-DespicableMe_channels.tsv: 100%|██████████| 1.00/1.00 [00:00<00:00, 12.1B/s]\n",
            "Downloading sub-NDARBH024NH2_task-RestingState_channels.tsv: 100%|██████████| 1.00/1.00 [00:00<00:00, 13.1B/s]\n",
            "Downloading sub-NDARBH024NH2_task-surroundSupp_run-1_channels.tsv: 100%|██████████| 1.00/1.00 [00:00<00:00, 10.3B/s]\n",
            "Downloading sub-NDARBH024NH2_task-surroundSupp_run-2_channels.tsv: 100%|██████████| 1.00/1.00 [00:00<00:00, 12.0B/s]\n",
            "Downloading sub-NDARBH024NH2_task-contrastChangeDetection_run-3_channels.tsv: 100%|██████████| 1.00/1.00 [00:00<00:00, 12.9B/s]\n",
            "Downloading sub-NDARBH024NH2_task-ThePresent_channels.tsv: 100%|██████████| 1.00/1.00 [00:00<00:00, 13.0B/s]\n",
            "Downloading sub-NDARBH024NH2_task-FunwithFractals_channels.tsv: 100%|██████████| 1.00/1.00 [00:00<00:00, 11.5B/s]\n",
            "Downloading sub-NDARBH024NH2_task-contrastChangeDetection_run-3_eeg.bdf: 100%|██████████| 1.00/1.00 [00:01<00:00, 1.18s/B]\n",
            "Downloading sub-NDARBH024NH2_task-contrastChangeDetection_run-3_eeg.bdf: 100%|██████████| 1.00/1.00 [00:00<00:00, 2.52B/s]\n",
            "Downloading sub-NDARBH024NH2_task-contrastChangeDetection_run-1_eeg.bdf: 100%|██████████| 1.00/1.00 [00:00<00:00, 1.14B/s]\n",
            "Downloading sub-NDARBH024NH2_task-contrastChangeDetection_run-1_eeg.bdf: 100%|██████████| 1.00/1.00 [00:00<00:00, 1.18B/s]\n",
            "Downloading sub-NDARBH024NH2_task-contrastChangeDetection_run-2_eeg.bdf: 100%|██████████| 1.00/1.00 [00:01<00:00, 1.27s/B]\n",
            "Downloading sub-NDARBH024NH2_task-contrastChangeDetection_run-2_eeg.bdf: 100%|██████████| 1.00/1.00 [00:01<00:00, 1.53s/B]\n",
            "Downloading sub-NDARBK082PDD_task-contrastChangeDetection_run-2_events.tsv: 100%|██████████| 1.00/1.00 [00:00<00:00, 12.4B/s]\n",
            "Downloading sub-NDARBK082PDD_task-FunwithFractals_events.tsv: 100%|██████████| 1.00/1.00 [00:00<00:00, 13.5B/s]\n",
            "Downloading sub-NDARBK082PDD_task-contrastChangeDetection_run-1_events.tsv: 100%|██████████| 1.00/1.00 [00:00<00:00, 12.7B/s]\n",
            "Downloading sub-NDARBK082PDD_task-surroundSupp_run-1_events.tsv: 100%|██████████| 1.00/1.00 [00:00<00:00, 8.77B/s]\n",
            "Downloading sub-NDARBK082PDD_task-contrastChangeDetection_run-3_events.tsv: 100%|██████████| 1.00/1.00 [00:00<00:00, 12.8B/s]\n",
            "Downloading sub-NDARBK082PDD_task-ThePresent_events.tsv: 100%|██████████| 1.00/1.00 [00:00<00:00, 14.5B/s]\n",
            "Downloading sub-NDARBK082PDD_task-DespicableMe_events.tsv: 100%|██████████| 1.00/1.00 [00:00<00:00, 13.7B/s]\n",
            "Downloading sub-NDARBK082PDD_task-symbolSearch_events.tsv: 100%|██████████| 1.00/1.00 [00:00<00:00, 13.3B/s]\n",
            "Downloading sub-NDARBK082PDD_task-DiaryOfAWimpyKid_events.tsv: 100%|██████████| 1.00/1.00 [00:00<00:00, 13.3B/s]\n",
            "Downloading sub-NDARBK082PDD_task-surroundSupp_run-2_events.tsv: 100%|██████████| 1.00/1.00 [00:00<00:00, 10.9B/s]\n",
            "Downloading sub-NDARBK082PDD_task-seqLearning6target_events.tsv: 100%|██████████| 1.00/1.00 [00:00<00:00, 13.4B/s]\n",
            "Downloading sub-NDARBK082PDD_task-RestingState_events.tsv: 100%|██████████| 1.00/1.00 [00:00<00:00, 13.4B/s]\n",
            "Downloading sub-NDARBK082PDD_task-contrastChangeDetection_run-3_eeg.json: 100%|██████████| 1.00/1.00 [00:00<00:00, 13.3B/s]\n",
            "Downloading sub-NDARBK082PDD_task-DespicableMe_eeg.json: 100%|██████████| 1.00/1.00 [00:00<00:00, 13.3B/s]\n",
            "Downloading sub-NDARBK082PDD_task-DiaryOfAWimpyKid_eeg.json: 100%|██████████| 1.00/1.00 [00:00<00:00, 10.0B/s]\n",
            "Downloading sub-NDARBK082PDD_task-seqLearning6target_eeg.json: 100%|██████████| 1.00/1.00 [00:00<00:00, 11.3B/s]\n",
            "Downloading sub-NDARBK082PDD_task-contrastChangeDetection_run-2_eeg.json: 100%|██████████| 1.00/1.00 [00:00<00:00, 13.4B/s]\n",
            "Downloading sub-NDARBK082PDD_task-contrastChangeDetection_run-1_eeg.json: 100%|██████████| 1.00/1.00 [00:00<00:00, 13.6B/s]\n",
            "Downloading sub-NDARBK082PDD_task-symbolSearch_eeg.json: 100%|██████████| 1.00/1.00 [00:00<00:00, 13.0B/s]\n",
            "Downloading sub-NDARBK082PDD_task-FunwithFractals_eeg.json: 100%|██████████| 1.00/1.00 [00:00<00:00, 13.0B/s]\n",
            "Downloading sub-NDARBK082PDD_task-ThePresent_eeg.json: 100%|██████████| 1.00/1.00 [00:00<00:00, 11.1B/s]\n",
            "Downloading sub-NDARBK082PDD_task-surroundSupp_run-1_eeg.json: 100%|██████████| 1.00/1.00 [00:00<00:00, 12.9B/s]\n",
            "Downloading sub-NDARBK082PDD_task-RestingState_eeg.json: 100%|██████████| 1.00/1.00 [00:00<00:00, 12.9B/s]\n",
            "Downloading sub-NDARBK082PDD_task-surroundSupp_run-2_eeg.json: 100%|██████████| 1.00/1.00 [00:00<00:00, 13.0B/s]\n",
            "Downloading sub-NDARBK082PDD_task-ThePresent_channels.tsv: 100%|██████████| 1.00/1.00 [00:00<00:00, 12.7B/s]\n",
            "Downloading sub-NDARBK082PDD_task-contrastChangeDetection_run-2_channels.tsv: 100%|██████████| 1.00/1.00 [00:00<00:00, 13.1B/s]\n",
            "Downloading sub-NDARBK082PDD_task-RestingState_channels.tsv: 100%|██████████| 1.00/1.00 [00:00<00:00, 11.0B/s]\n",
            "Downloading sub-NDARBK082PDD_task-seqLearning6target_channels.tsv: 100%|██████████| 1.00/1.00 [00:00<00:00, 7.69B/s]\n",
            "Downloading sub-NDARBK082PDD_task-contrastChangeDetection_run-3_channels.tsv: 100%|██████████| 1.00/1.00 [00:00<00:00, 13.1B/s]\n",
            "Downloading sub-NDARBK082PDD_task-surroundSupp_run-2_channels.tsv: 100%|██████████| 1.00/1.00 [00:00<00:00, 12.5B/s]\n",
            "Downloading sub-NDARBK082PDD_task-symbolSearch_channels.tsv: 100%|██████████| 1.00/1.00 [00:00<00:00, 12.7B/s]\n",
            "Downloading sub-NDARBK082PDD_task-contrastChangeDetection_run-1_channels.tsv: 100%|██████████| 1.00/1.00 [00:00<00:00, 12.6B/s]\n",
            "Downloading sub-NDARBK082PDD_task-FunwithFractals_channels.tsv: 100%|██████████| 1.00/1.00 [00:00<00:00, 11.5B/s]\n",
            "Downloading sub-NDARBK082PDD_task-DespicableMe_channels.tsv: 100%|██████████| 1.00/1.00 [00:00<00:00, 13.4B/s]\n",
            "Downloading sub-NDARBK082PDD_task-DiaryOfAWimpyKid_channels.tsv: 100%|██████████| 1.00/1.00 [00:00<00:00, 13.5B/s]\n",
            "Downloading sub-NDARBK082PDD_task-surroundSupp_run-1_channels.tsv: 100%|██████████| 1.00/1.00 [00:00<00:00, 9.30B/s]\n",
            "Downloading sub-NDARBK082PDD_task-contrastChangeDetection_run-3_eeg.bdf: 100%|██████████| 1.00/1.00 [00:00<00:00, 1.32B/s]\n",
            "Downloading sub-NDARBK082PDD_task-contrastChangeDetection_run-3_eeg.bdf: 100%|██████████| 1.00/1.00 [00:00<00:00, 1.33B/s]\n",
            "Downloading sub-NDARBK082PDD_task-contrastChangeDetection_run-2_eeg.bdf: 100%|██████████| 1.00/1.00 [00:00<00:00, 1.23B/s]\n",
            "Downloading sub-NDARBK082PDD_task-contrastChangeDetection_run-2_eeg.bdf: 100%|██████████| 1.00/1.00 [00:00<00:00, 1.02B/s]\n",
            "Downloading sub-NDARBK082PDD_task-contrastChangeDetection_run-1_eeg.bdf: 100%|██████████| 1.00/1.00 [00:00<00:00, 1.95B/s]\n",
            "Downloading sub-NDARBK082PDD_task-contrastChangeDetection_run-1_eeg.bdf: 100%|██████████| 1.00/1.00 [00:00<00:00, 1.66B/s]\n",
            "Downloading sub-NDARCA153NKE_task-contrastChangeDetection_run-2_events.tsv: 100%|██████████| 1.00/1.00 [00:00<00:00, 11.3B/s]\n",
            "Downloading sub-NDARCA153NKE_task-FunwithFractals_events.tsv: 100%|██████████| 1.00/1.00 [00:00<00:00, 13.1B/s]\n",
            "Downloading sub-NDARCA153NKE_task-DiaryOfAWimpyKid_events.tsv: 100%|██████████| 1.00/1.00 [00:00<00:00, 13.7B/s]\n",
            "Downloading sub-NDARCA153NKE_task-symbolSearch_events.tsv: 100%|██████████| 1.00/1.00 [00:00<00:00, 13.6B/s]\n",
            "Downloading sub-NDARCA153NKE_task-RestingState_events.tsv: 100%|██████████| 1.00/1.00 [00:00<00:00, 13.4B/s]\n",
            "Downloading sub-NDARCA153NKE_task-surroundSupp_run-2_events.tsv: 100%|██████████| 1.00/1.00 [00:00<00:00, 8.70B/s]\n",
            "Downloading sub-NDARCA153NKE_task-DespicableMe_events.tsv: 100%|██████████| 1.00/1.00 [00:00<00:00, 13.2B/s]\n",
            "Downloading sub-NDARCA153NKE_task-contrastChangeDetection_run-1_events.tsv: 100%|██████████| 1.00/1.00 [00:00<00:00, 12.8B/s]\n",
            "Downloading sub-NDARCA153NKE_task-seqLearning6target_events.tsv: 100%|██████████| 1.00/1.00 [00:00<00:00, 10.8B/s]\n",
            "Downloading sub-NDARCA153NKE_task-surroundSupp_run-1_events.tsv: 100%|██████████| 1.00/1.00 [00:00<00:00, 12.3B/s]\n",
            "Downloading sub-NDARCA153NKE_task-ThePresent_events.tsv: 100%|██████████| 1.00/1.00 [00:00<00:00, 14.7B/s]\n",
            "Downloading sub-NDARCA153NKE_task-contrastChangeDetection_run-3_events.tsv: 100%|██████████| 1.00/1.00 [00:00<00:00, 8.72B/s]\n",
            "Downloading sub-NDARCA153NKE_task-contrastChangeDetection_run-2_eeg.json: 100%|██████████| 1.00/1.00 [00:00<00:00, 13.0B/s]\n",
            "Downloading sub-NDARCA153NKE_task-DespicableMe_eeg.json: 100%|██████████| 1.00/1.00 [00:00<00:00, 13.1B/s]\n",
            "Downloading sub-NDARCA153NKE_task-symbolSearch_eeg.json: 100%|██████████| 1.00/1.00 [00:00<00:00, 13.1B/s]\n",
            "Downloading sub-NDARCA153NKE_task-surroundSupp_run-1_eeg.json: 100%|██████████| 1.00/1.00 [00:00<00:00, 13.3B/s]\n",
            "Downloading sub-NDARCA153NKE_task-surroundSupp_run-2_eeg.json: 100%|██████████| 1.00/1.00 [00:00<00:00, 12.7B/s]\n",
            "Downloading sub-NDARCA153NKE_task-contrastChangeDetection_run-1_eeg.json: 100%|██████████| 1.00/1.00 [00:00<00:00, 12.6B/s]\n",
            "Downloading sub-NDARCA153NKE_task-contrastChangeDetection_run-3_eeg.json: 100%|██████████| 1.00/1.00 [00:00<00:00, 11.4B/s]\n",
            "Downloading sub-NDARCA153NKE_task-FunwithFractals_eeg.json: 100%|██████████| 1.00/1.00 [00:00<00:00, 13.3B/s]\n",
            "Downloading sub-NDARCA153NKE_task-RestingState_eeg.json: 100%|██████████| 1.00/1.00 [00:00<00:00, 12.1B/s]\n",
            "Downloading sub-NDARCA153NKE_task-seqLearning6target_eeg.json: 100%|██████████| 1.00/1.00 [00:00<00:00, 9.78B/s]\n",
            "Downloading sub-NDARCA153NKE_task-ThePresent_eeg.json: 100%|██████████| 1.00/1.00 [00:00<00:00, 13.6B/s]\n",
            "Downloading sub-NDARCA153NKE_task-DiaryOfAWimpyKid_eeg.json: 100%|██████████| 1.00/1.00 [00:00<00:00, 12.7B/s]\n",
            "Downloading sub-NDARCA153NKE_task-DiaryOfAWimpyKid_channels.tsv: 100%|██████████| 1.00/1.00 [00:00<00:00, 11.8B/s]\n",
            "Downloading sub-NDARCA153NKE_task-seqLearning6target_channels.tsv: 100%|██████████| 1.00/1.00 [00:00<00:00, 10.9B/s]\n",
            "Downloading sub-NDARCA153NKE_task-DespicableMe_channels.tsv: 100%|██████████| 1.00/1.00 [00:00<00:00, 13.3B/s]\n",
            "Downloading sub-NDARCA153NKE_task-contrastChangeDetection_run-1_channels.tsv: 100%|██████████| 1.00/1.00 [00:00<00:00, 12.7B/s]\n",
            "Downloading sub-NDARCA153NKE_task-surroundSupp_run-2_channels.tsv: 100%|██████████| 1.00/1.00 [00:00<00:00, 13.1B/s]\n",
            "Downloading sub-NDARCA153NKE_task-FunwithFractals_channels.tsv: 100%|██████████| 1.00/1.00 [00:00<00:00, 13.4B/s]\n",
            "Downloading sub-NDARCA153NKE_task-ThePresent_channels.tsv: 100%|██████████| 1.00/1.00 [00:00<00:00, 11.5B/s]\n",
            "Downloading sub-NDARCA153NKE_task-symbolSearch_channels.tsv: 100%|██████████| 1.00/1.00 [00:00<00:00, 9.03B/s]\n",
            "Downloading sub-NDARCA153NKE_task-contrastChangeDetection_run-2_channels.tsv: 100%|██████████| 1.00/1.00 [00:00<00:00, 11.5B/s]\n",
            "Downloading sub-NDARCA153NKE_task-surroundSupp_run-1_channels.tsv: 100%|██████████| 1.00/1.00 [00:00<00:00, 11.2B/s]\n",
            "Downloading sub-NDARCA153NKE_task-RestingState_channels.tsv: 100%|██████████| 1.00/1.00 [00:00<00:00, 11.6B/s]\n",
            "Downloading sub-NDARCA153NKE_task-contrastChangeDetection_run-3_channels.tsv: 100%|██████████| 1.00/1.00 [00:00<00:00, 12.4B/s]\n",
            "Downloading sub-NDARCA153NKE_task-contrastChangeDetection_run-2_eeg.bdf: 100%|██████████| 1.00/1.00 [00:00<00:00, 1.35B/s]\n",
            "Downloading sub-NDARCA153NKE_task-contrastChangeDetection_run-2_eeg.bdf: 100%|██████████| 1.00/1.00 [00:00<00:00, 3.00B/s]\n",
            "Downloading sub-NDARCA153NKE_task-contrastChangeDetection_run-1_eeg.bdf: 100%|██████████| 1.00/1.00 [00:00<00:00, 2.63B/s]\n",
            "Downloading sub-NDARCA153NKE_task-contrastChangeDetection_run-1_eeg.bdf: 100%|██████████| 1.00/1.00 [00:00<00:00, 3.76B/s]\n",
            "Downloading sub-NDARCA153NKE_task-contrastChangeDetection_run-3_eeg.bdf: 100%|██████████| 1.00/1.00 [00:00<00:00, 3.75B/s]\n",
            "Downloading sub-NDARCA153NKE_task-contrastChangeDetection_run-3_eeg.bdf: 100%|██████████| 1.00/1.00 [00:00<00:00, 3.96B/s]\n",
            "Downloading sub-NDARCE721YB5_task-seqLearning6target_events.tsv: 100%|██████████| 1.00/1.00 [00:00<00:00, 13.0B/s]\n",
            "Downloading sub-NDARCE721YB5_task-FunwithFractals_events.tsv: 100%|██████████| 1.00/1.00 [00:00<00:00, 8.73B/s]\n",
            "Downloading sub-NDARCE721YB5_task-surroundSupp_run-1_events.tsv: 100%|██████████| 1.00/1.00 [00:00<00:00, 11.2B/s]\n",
            "Downloading sub-NDARCE721YB5_task-RestingState_events.tsv: 100%|██████████| 1.00/1.00 [00:00<00:00, 12.9B/s]\n",
            "Downloading sub-NDARCE721YB5_task-surroundSupp_run-2_events.tsv: 100%|██████████| 1.00/1.00 [00:00<00:00, 12.9B/s]\n",
            "Downloading sub-NDARCE721YB5_task-DiaryOfAWimpyKid_events.tsv: 100%|██████████| 1.00/1.00 [00:00<00:00, 13.5B/s]\n",
            "Downloading sub-NDARCE721YB5_task-contrastChangeDetection_run-1_events.tsv: 100%|██████████| 1.00/1.00 [00:00<00:00, 8.94B/s]\n",
            "Downloading sub-NDARCE721YB5_task-symbolSearch_events.tsv: 100%|██████████| 1.00/1.00 [00:00<00:00, 13.1B/s]\n",
            "Downloading sub-NDARCE721YB5_task-contrastChangeDetection_run-2_events.tsv: 100%|██████████| 1.00/1.00 [00:00<00:00, 13.4B/s]\n",
            "Downloading sub-NDARCE721YB5_task-DespicableMe_events.tsv: 100%|██████████| 1.00/1.00 [00:00<00:00, 13.5B/s]\n",
            "Downloading sub-NDARCE721YB5_task-contrastChangeDetection_run-3_events.tsv: 100%|██████████| 1.00/1.00 [00:00<00:00, 11.5B/s]\n",
            "Downloading sub-NDARCE721YB5_task-ThePresent_events.tsv: 100%|██████████| 1.00/1.00 [00:00<00:00, 14.3B/s]\n",
            "Downloading sub-NDARCE721YB5_task-contrastChangeDetection_run-2_eeg.json: 100%|██████████| 1.00/1.00 [00:00<00:00, 10.8B/s]\n",
            "Downloading sub-NDARCE721YB5_task-seqLearning6target_eeg.json: 100%|██████████| 1.00/1.00 [00:00<00:00, 13.2B/s]\n",
            "Downloading sub-NDARCE721YB5_task-RestingState_eeg.json: 100%|██████████| 1.00/1.00 [00:00<00:00, 13.9B/s]\n",
            "Downloading sub-NDARCE721YB5_task-FunwithFractals_eeg.json: 100%|██████████| 1.00/1.00 [00:00<00:00, 7.80B/s]\n",
            "Downloading sub-NDARCE721YB5_task-DiaryOfAWimpyKid_eeg.json: 100%|██████████| 1.00/1.00 [00:00<00:00, 12.6B/s]\n",
            "Downloading sub-NDARCE721YB5_task-contrastChangeDetection_run-1_eeg.json: 100%|██████████| 1.00/1.00 [00:00<00:00, 13.3B/s]\n",
            "Downloading sub-NDARCE721YB5_task-contrastChangeDetection_run-3_eeg.json: 100%|██████████| 1.00/1.00 [00:00<00:00, 13.2B/s]\n",
            "Downloading sub-NDARCE721YB5_task-ThePresent_eeg.json: 100%|██████████| 1.00/1.00 [00:00<00:00, 14.0B/s]\n",
            "Downloading sub-NDARCE721YB5_task-surroundSupp_run-2_eeg.json: 100%|██████████| 1.00/1.00 [00:00<00:00, 13.6B/s]\n",
            "Downloading sub-NDARCE721YB5_task-surroundSupp_run-1_eeg.json: 100%|██████████| 1.00/1.00 [00:00<00:00, 11.0B/s]\n",
            "Downloading sub-NDARCE721YB5_task-symbolSearch_eeg.json: 100%|██████████| 1.00/1.00 [00:00<00:00, 13.2B/s]\n",
            "Downloading sub-NDARCE721YB5_task-DespicableMe_eeg.json: 100%|██████████| 1.00/1.00 [00:00<00:00, 13.2B/s]\n",
            "Downloading sub-NDARCE721YB5_task-DespicableMe_channels.tsv: 100%|██████████| 1.00/1.00 [00:00<00:00, 11.6B/s]\n",
            "Downloading sub-NDARCE721YB5_task-contrastChangeDetection_run-3_channels.tsv: 100%|██████████| 1.00/1.00 [00:00<00:00, 13.5B/s]\n",
            "Downloading sub-NDARCE721YB5_task-FunwithFractals_channels.tsv: 100%|██████████| 1.00/1.00 [00:00<00:00, 12.5B/s]\n",
            "Downloading sub-NDARCE721YB5_task-seqLearning6target_channels.tsv: 100%|██████████| 1.00/1.00 [00:00<00:00, 9.05B/s]\n",
            "Downloading sub-NDARCE721YB5_task-RestingState_channels.tsv: 100%|██████████| 1.00/1.00 [00:00<00:00, 13.0B/s]\n",
            "Downloading sub-NDARCE721YB5_task-contrastChangeDetection_run-2_channels.tsv: 100%|██████████| 1.00/1.00 [00:00<00:00, 13.3B/s]\n",
            "Downloading sub-NDARCE721YB5_task-surroundSupp_run-2_channels.tsv: 100%|██████████| 1.00/1.00 [00:00<00:00, 13.3B/s]\n",
            "Downloading sub-NDARCE721YB5_task-symbolSearch_channels.tsv: 100%|██████████| 1.00/1.00 [00:00<00:00, 12.9B/s]\n",
            "Downloading sub-NDARCE721YB5_task-contrastChangeDetection_run-1_channels.tsv: 100%|██████████| 1.00/1.00 [00:00<00:00, 10.7B/s]\n",
            "Downloading sub-NDARCE721YB5_task-ThePresent_channels.tsv: 100%|██████████| 1.00/1.00 [00:00<00:00, 12.3B/s]\n",
            "Downloading sub-NDARCE721YB5_task-surroundSupp_run-1_channels.tsv: 100%|██████████| 1.00/1.00 [00:00<00:00, 12.9B/s]\n",
            "Downloading sub-NDARCE721YB5_task-DiaryOfAWimpyKid_channels.tsv: 100%|██████████| 1.00/1.00 [00:00<00:00, 11.9B/s]\n",
            "Downloading sub-NDARCE721YB5_task-contrastChangeDetection_run-3_eeg.bdf: 100%|██████████| 1.00/1.00 [00:00<00:00, 1.30B/s]\n",
            "Downloading sub-NDARCE721YB5_task-contrastChangeDetection_run-3_eeg.bdf: 100%|██████████| 1.00/1.00 [00:00<00:00, 2.75B/s]\n",
            "Downloading sub-NDARCE721YB5_task-contrastChangeDetection_run-2_eeg.bdf: 100%|██████████| 1.00/1.00 [00:00<00:00, 1.83B/s]\n",
            "Downloading sub-NDARCE721YB5_task-contrastChangeDetection_run-2_eeg.bdf: 100%|██████████| 1.00/1.00 [00:00<00:00, 1.55B/s]\n",
            "Downloading sub-NDARCE721YB5_task-contrastChangeDetection_run-1_eeg.bdf: 100%|██████████| 1.00/1.00 [00:00<00:00, 1.72B/s]\n",
            "Downloading sub-NDARCE721YB5_task-contrastChangeDetection_run-1_eeg.bdf: 100%|██████████| 1.00/1.00 [00:00<00:00, 1.87B/s]\n",
            "Downloading sub-NDARCJ594BWQ_task-DespicableMe_events.tsv: 100%|██████████| 1.00/1.00 [00:00<00:00, 13.0B/s]\n",
            "Downloading sub-NDARCJ594BWQ_task-contrastChangeDetection_run-2_events.tsv: 100%|██████████| 1.00/1.00 [00:00<00:00, 13.0B/s]\n",
            "Downloading sub-NDARCJ594BWQ_task-surroundSupp_run-1_events.tsv: 100%|██████████| 1.00/1.00 [00:00<00:00, 13.0B/s]\n",
            "Downloading sub-NDARCJ594BWQ_task-seqLearning8target_events.tsv: 100%|██████████| 1.00/1.00 [00:00<00:00, 11.8B/s]\n",
            "Downloading sub-NDARCJ594BWQ_task-RestingState_events.tsv: 100%|██████████| 1.00/1.00 [00:00<00:00, 10.1B/s]\n",
            "Downloading sub-NDARCJ594BWQ_task-contrastChangeDetection_run-1_events.tsv: 100%|██████████| 1.00/1.00 [00:00<00:00, 13.0B/s]\n",
            "Downloading sub-NDARCJ594BWQ_task-ThePresent_events.tsv: 100%|██████████| 1.00/1.00 [00:00<00:00, 14.3B/s]\n",
            "Downloading sub-NDARCJ594BWQ_task-symbolSearch_events.tsv: 100%|██████████| 1.00/1.00 [00:00<00:00, 13.4B/s]\n",
            "Downloading sub-NDARCJ594BWQ_task-DiaryOfAWimpyKid_events.tsv: 100%|██████████| 1.00/1.00 [00:00<00:00, 13.1B/s]\n",
            "Downloading sub-NDARCJ594BWQ_task-contrastChangeDetection_run-3_events.tsv: 100%|██████████| 1.00/1.00 [00:00<00:00, 12.4B/s]\n",
            "Downloading sub-NDARCJ594BWQ_task-FunwithFractals_events.tsv: 100%|██████████| 1.00/1.00 [00:00<00:00, 13.2B/s]\n",
            "Downloading sub-NDARCJ594BWQ_task-surroundSupp_run-2_events.tsv: 100%|██████████| 1.00/1.00 [00:00<00:00, 4.36B/s]\n",
            "Downloading sub-NDARCJ594BWQ_task-contrastChangeDetection_run-2_eeg.json: 100%|██████████| 1.00/1.00 [00:00<00:00, 13.1B/s]\n",
            "Downloading sub-NDARCJ594BWQ_task-symbolSearch_eeg.json: 100%|██████████| 1.00/1.00 [00:00<00:00, 13.0B/s]\n",
            "Downloading sub-NDARCJ594BWQ_task-contrastChangeDetection_run-1_eeg.json: 100%|██████████| 1.00/1.00 [00:00<00:00, 13.3B/s]\n",
            "Downloading sub-NDARCJ594BWQ_task-RestingState_eeg.json: 100%|██████████| 1.00/1.00 [00:00<00:00, 12.9B/s]\n",
            "Downloading sub-NDARCJ594BWQ_task-DespicableMe_eeg.json: 100%|██████████| 1.00/1.00 [00:00<00:00, 11.0B/s]\n",
            "Downloading sub-NDARCJ594BWQ_task-seqLearning8target_eeg.json: 100%|██████████| 1.00/1.00 [00:00<00:00, 12.9B/s]\n",
            "Downloading sub-NDARCJ594BWQ_task-FunwithFractals_eeg.json: 100%|██████████| 1.00/1.00 [00:00<00:00, 13.0B/s]\n",
            "Downloading sub-NDARCJ594BWQ_task-surroundSupp_run-2_eeg.json: 100%|██████████| 1.00/1.00 [00:00<00:00, 13.1B/s]\n",
            "Downloading sub-NDARCJ594BWQ_task-ThePresent_eeg.json: 100%|██████████| 1.00/1.00 [00:00<00:00, 12.3B/s]\n",
            "Downloading sub-NDARCJ594BWQ_task-DiaryOfAWimpyKid_eeg.json: 100%|██████████| 1.00/1.00 [00:00<00:00, 13.1B/s]\n",
            "Downloading sub-NDARCJ594BWQ_task-surroundSupp_run-1_eeg.json: 100%|██████████| 1.00/1.00 [00:00<00:00, 9.88B/s]\n",
            "Downloading sub-NDARCJ594BWQ_task-contrastChangeDetection_run-3_eeg.json: 100%|██████████| 1.00/1.00 [00:00<00:00, 13.0B/s]\n",
            "Downloading sub-NDARCJ594BWQ_task-contrastChangeDetection_run-2_channels.tsv: 100%|██████████| 1.00/1.00 [00:00<00:00, 12.9B/s]\n",
            "Downloading sub-NDARCJ594BWQ_task-seqLearning8target_channels.tsv: 100%|██████████| 1.00/1.00 [00:00<00:00, 13.1B/s]\n",
            "Downloading sub-NDARCJ594BWQ_task-DespicableMe_channels.tsv: 100%|██████████| 1.00/1.00 [00:00<00:00, 13.3B/s]\n",
            "Downloading sub-NDARCJ594BWQ_task-FunwithFractals_channels.tsv: 100%|██████████| 1.00/1.00 [00:00<00:00, 12.4B/s]\n",
            "Downloading sub-NDARCJ594BWQ_task-surroundSupp_run-2_channels.tsv: 100%|██████████| 1.00/1.00 [00:00<00:00, 11.9B/s]\n",
            "Downloading sub-NDARCJ594BWQ_task-surroundSupp_run-1_channels.tsv: 100%|██████████| 1.00/1.00 [00:00<00:00, 12.7B/s]\n",
            "Downloading sub-NDARCJ594BWQ_task-ThePresent_channels.tsv: 100%|██████████| 1.00/1.00 [00:00<00:00, 12.9B/s]\n",
            "Downloading sub-NDARCJ594BWQ_task-RestingState_channels.tsv: 100%|██████████| 1.00/1.00 [00:00<00:00, 13.0B/s]\n",
            "Downloading sub-NDARCJ594BWQ_task-symbolSearch_channels.tsv: 100%|██████████| 1.00/1.00 [00:00<00:00, 13.1B/s]\n",
            "Downloading sub-NDARCJ594BWQ_task-contrastChangeDetection_run-3_channels.tsv: 100%|██████████| 1.00/1.00 [00:00<00:00, 13.4B/s]\n",
            "Downloading sub-NDARCJ594BWQ_task-DiaryOfAWimpyKid_channels.tsv: 100%|██████████| 1.00/1.00 [00:00<00:00, 12.8B/s]\n",
            "Downloading sub-NDARCJ594BWQ_task-contrastChangeDetection_run-1_channels.tsv: 100%|██████████| 1.00/1.00 [00:00<00:00, 12.5B/s]\n",
            "Downloading sub-NDARCJ594BWQ_task-contrastChangeDetection_run-1_eeg.bdf: 100%|██████████| 1.00/1.00 [00:00<00:00, 1.26B/s]\n",
            "Downloading sub-NDARCJ594BWQ_task-contrastChangeDetection_run-1_eeg.bdf: 100%|██████████| 1.00/1.00 [00:00<00:00, 2.27B/s]\n",
            "Downloading sub-NDARCJ594BWQ_task-contrastChangeDetection_run-3_eeg.bdf: 100%|██████████| 1.00/1.00 [00:00<00:00, 3.23B/s]\n",
            "Downloading sub-NDARCJ594BWQ_task-contrastChangeDetection_run-3_eeg.bdf: 100%|██████████| 1.00/1.00 [00:00<00:00, 3.89B/s]\n",
            "Downloading sub-NDARCJ594BWQ_task-contrastChangeDetection_run-2_eeg.bdf: 100%|██████████| 1.00/1.00 [00:00<00:00, 1.66B/s]\n",
            "Downloading sub-NDARCJ594BWQ_task-contrastChangeDetection_run-2_eeg.bdf: 100%|██████████| 1.00/1.00 [00:00<00:00, 1.85B/s]\n",
            "Downloading sub-NDARCN669XPR_task-contrastChangeDetection_run-2_events.tsv: 100%|██████████| 1.00/1.00 [00:00<00:00, 13.3B/s]\n",
            "Downloading sub-NDARCN669XPR_task-RestingState_events.tsv: 100%|██████████| 1.00/1.00 [00:00<00:00, 13.4B/s]\n",
            "Downloading sub-NDARCN669XPR_task-seqLearning8target_events.tsv: 100%|██████████| 1.00/1.00 [00:00<00:00, 10.6B/s]\n",
            "Downloading sub-NDARCN669XPR_task-ThePresent_events.tsv: 100%|██████████| 1.00/1.00 [00:00<00:00, 14.6B/s]\n",
            "Downloading sub-NDARCN669XPR_task-contrastChangeDetection_run-1_events.tsv: 100%|██████████| 1.00/1.00 [00:00<00:00, 11.0B/s]\n",
            "Downloading sub-NDARCN669XPR_task-FunwithFractals_events.tsv: 100%|██████████| 1.00/1.00 [00:00<00:00, 11.4B/s]\n",
            "Downloading sub-NDARCN669XPR_task-DespicableMe_events.tsv: 100%|██████████| 1.00/1.00 [00:00<00:00, 13.4B/s]\n",
            "Downloading sub-NDARCN669XPR_task-contrastChangeDetection_run-3_events.tsv: 100%|██████████| 1.00/1.00 [00:00<00:00, 11.8B/s]\n",
            "Downloading sub-NDARCN669XPR_task-symbolSearch_events.tsv: 100%|██████████| 1.00/1.00 [00:00<00:00, 13.2B/s]\n",
            "Downloading sub-NDARCN669XPR_task-surroundSupp_run-1_events.tsv: 100%|██████████| 1.00/1.00 [00:00<00:00, 10.9B/s]\n",
            "Downloading sub-NDARCN669XPR_task-surroundSupp_run-2_events.tsv: 100%|██████████| 1.00/1.00 [00:00<00:00, 11.4B/s]\n",
            "Downloading sub-NDARCN669XPR_task-DiaryOfAWimpyKid_events.tsv: 100%|██████████| 1.00/1.00 [00:00<00:00, 13.4B/s]\n",
            "Downloading sub-NDARCN669XPR_task-seqLearning8target_eeg.json: 100%|██████████| 1.00/1.00 [00:00<00:00, 13.4B/s]\n",
            "Downloading sub-NDARCN669XPR_task-contrastChangeDetection_run-3_eeg.json: 100%|██████████| 1.00/1.00 [00:00<00:00, 13.5B/s]\n",
            "Downloading sub-NDARCN669XPR_task-contrastChangeDetection_run-2_eeg.json: 100%|██████████| 1.00/1.00 [00:00<00:00, 13.6B/s]\n",
            "Downloading sub-NDARCN669XPR_task-FunwithFractals_eeg.json: 100%|██████████| 1.00/1.00 [00:00<00:00, 13.8B/s]\n",
            "Downloading sub-NDARCN669XPR_task-surroundSupp_run-2_eeg.json: 100%|██████████| 1.00/1.00 [00:00<00:00, 13.6B/s]\n",
            "Downloading sub-NDARCN669XPR_task-RestingState_eeg.json: 100%|██████████| 1.00/1.00 [00:00<00:00, 13.6B/s]\n",
            "Downloading sub-NDARCN669XPR_task-contrastChangeDetection_run-1_eeg.json: 100%|██████████| 1.00/1.00 [00:00<00:00, 13.6B/s]\n",
            "Downloading sub-NDARCN669XPR_task-ThePresent_eeg.json: 100%|██████████| 1.00/1.00 [00:00<00:00, 13.4B/s]\n",
            "Downloading sub-NDARCN669XPR_task-surroundSupp_run-1_eeg.json: 100%|██████████| 1.00/1.00 [00:00<00:00, 13.2B/s]\n",
            "Downloading sub-NDARCN669XPR_task-symbolSearch_eeg.json: 100%|██████████| 1.00/1.00 [00:00<00:00, 13.0B/s]\n",
            "Downloading sub-NDARCN669XPR_task-DiaryOfAWimpyKid_eeg.json: 100%|██████████| 1.00/1.00 [00:00<00:00, 13.1B/s]\n",
            "Downloading sub-NDARCN669XPR_task-DespicableMe_eeg.json: 100%|██████████| 1.00/1.00 [00:00<00:00, 13.7B/s]\n",
            "Downloading sub-NDARCN669XPR_task-FunwithFractals_channels.tsv: 100%|██████████| 1.00/1.00 [00:00<00:00, 11.8B/s]\n",
            "Downloading sub-NDARCN669XPR_task-surroundSupp_run-1_channels.tsv: 100%|██████████| 1.00/1.00 [00:00<00:00, 11.6B/s]\n",
            "Downloading sub-NDARCN669XPR_task-surroundSupp_run-2_channels.tsv: 100%|██████████| 1.00/1.00 [00:00<00:00, 11.4B/s]\n",
            "Downloading sub-NDARCN669XPR_task-DiaryOfAWimpyKid_channels.tsv: 100%|██████████| 1.00/1.00 [00:00<00:00, 9.74B/s]\n",
            "Downloading sub-NDARCN669XPR_task-contrastChangeDetection_run-3_channels.tsv: 100%|██████████| 1.00/1.00 [00:00<00:00, 12.4B/s]\n",
            "Downloading sub-NDARCN669XPR_task-ThePresent_channels.tsv: 100%|██████████| 1.00/1.00 [00:00<00:00, 7.14B/s]\n",
            "Downloading sub-NDARCN669XPR_task-contrastChangeDetection_run-1_channels.tsv: 100%|██████████| 1.00/1.00 [00:00<00:00, 11.6B/s]\n",
            "Downloading sub-NDARCN669XPR_task-contrastChangeDetection_run-2_channels.tsv: 100%|██████████| 1.00/1.00 [00:00<00:00, 12.0B/s]\n",
            "Downloading sub-NDARCN669XPR_task-RestingState_channels.tsv: 100%|██████████| 1.00/1.00 [00:00<00:00, 13.1B/s]\n",
            "Downloading sub-NDARCN669XPR_task-symbolSearch_channels.tsv: 100%|██████████| 1.00/1.00 [00:00<00:00, 8.13B/s]\n",
            "Downloading sub-NDARCN669XPR_task-seqLearning8target_channels.tsv: 100%|██████████| 1.00/1.00 [00:00<00:00, 12.4B/s]\n",
            "Downloading sub-NDARCN669XPR_task-DespicableMe_channels.tsv: 100%|██████████| 1.00/1.00 [00:00<00:00, 8.51B/s]\n",
            "Downloading sub-NDARCN669XPR_task-contrastChangeDetection_run-3_eeg.bdf: 100%|██████████| 1.00/1.00 [00:00<00:00, 1.57B/s]\n",
            "Downloading sub-NDARCN669XPR_task-contrastChangeDetection_run-3_eeg.bdf: 100%|██████████| 1.00/1.00 [00:00<00:00, 4.57B/s]\n",
            "Downloading sub-NDARCN669XPR_task-contrastChangeDetection_run-2_eeg.bdf: 100%|██████████| 1.00/1.00 [00:00<00:00, 3.36B/s]\n",
            "Downloading sub-NDARCN669XPR_task-contrastChangeDetection_run-2_eeg.bdf: 100%|██████████| 1.00/1.00 [00:00<00:00, 3.82B/s]\n",
            "Downloading sub-NDARCN669XPR_task-contrastChangeDetection_run-1_eeg.bdf: 100%|██████████| 1.00/1.00 [00:00<00:00, 2.51B/s]\n",
            "Downloading sub-NDARCN669XPR_task-contrastChangeDetection_run-1_eeg.bdf: 100%|██████████| 1.00/1.00 [00:00<00:00, 3.52B/s]\n",
            "Downloading sub-NDARCW094JCG_task-RestingState_events.tsv: 100%|██████████| 1.00/1.00 [00:00<00:00, 11.8B/s]\n",
            "Downloading sub-NDARCW094JCG_task-symbolSearch_events.tsv: 100%|██████████| 1.00/1.00 [00:00<00:00, 12.8B/s]\n",
            "Downloading sub-NDARCW094JCG_task-DespicableMe_events.tsv: 100%|██████████| 1.00/1.00 [00:00<00:00, 10.2B/s]\n",
            "Downloading sub-NDARCW094JCG_task-surroundSupp_run-2_events.tsv: 100%|██████████| 1.00/1.00 [00:00<00:00, 13.1B/s]\n",
            "Downloading sub-NDARCW094JCG_task-DiaryOfAWimpyKid_events.tsv: 100%|██████████| 1.00/1.00 [00:00<00:00, 12.9B/s]\n",
            "Downloading sub-NDARCW094JCG_task-contrastChangeDetection_run-1_events.tsv: 100%|██████████| 1.00/1.00 [00:00<00:00, 13.5B/s]\n",
            "Downloading sub-NDARCW094JCG_task-seqLearning6target_events.tsv: 100%|██████████| 1.00/1.00 [00:00<00:00, 13.2B/s]\n",
            "Downloading sub-NDARCW094JCG_task-contrastChangeDetection_run-2_events.tsv: 100%|██████████| 1.00/1.00 [00:00<00:00, 11.7B/s]\n",
            "Downloading sub-NDARCW094JCG_task-FunwithFractals_events.tsv: 100%|██████████| 1.00/1.00 [00:00<00:00, 12.6B/s]\n",
            "Downloading sub-NDARCW094JCG_task-ThePresent_events.tsv: 100%|██████████| 1.00/1.00 [00:00<00:00, 14.2B/s]\n",
            "Downloading sub-NDARCW094JCG_task-surroundSupp_run-1_events.tsv: 100%|██████████| 1.00/1.00 [00:00<00:00, 11.1B/s]\n",
            "Downloading sub-NDARCW094JCG_task-contrastChangeDetection_run-3_events.tsv: 100%|██████████| 1.00/1.00 [00:00<00:00, 13.5B/s]\n",
            "Downloading sub-NDARCW094JCG_task-FunwithFractals_eeg.json: 100%|██████████| 1.00/1.00 [00:00<00:00, 12.7B/s]\n",
            "Downloading sub-NDARCW094JCG_task-surroundSupp_run-2_eeg.json: 100%|██████████| 1.00/1.00 [00:00<00:00, 12.9B/s]\n",
            "Downloading sub-NDARCW094JCG_task-RestingState_eeg.json: 100%|██████████| 1.00/1.00 [00:00<00:00, 9.96B/s]\n",
            "Downloading sub-NDARCW094JCG_task-contrastChangeDetection_run-1_eeg.json: 100%|██████████| 1.00/1.00 [00:00<00:00, 13.2B/s]\n",
            "Downloading sub-NDARCW094JCG_task-DiaryOfAWimpyKid_eeg.json: 100%|██████████| 1.00/1.00 [00:00<00:00, 12.3B/s]\n",
            "Downloading sub-NDARCW094JCG_task-contrastChangeDetection_run-2_eeg.json: 100%|██████████| 1.00/1.00 [00:00<00:00, 12.9B/s]\n",
            "Downloading sub-NDARCW094JCG_task-seqLearning6target_eeg.json: 100%|██████████| 1.00/1.00 [00:00<00:00, 10.0B/s]\n",
            "Downloading sub-NDARCW094JCG_task-ThePresent_eeg.json: 100%|██████████| 1.00/1.00 [00:00<00:00, 13.1B/s]\n",
            "Downloading sub-NDARCW094JCG_task-DespicableMe_eeg.json: 100%|██████████| 1.00/1.00 [00:00<00:00, 5.75B/s]\n",
            "Downloading sub-NDARCW094JCG_task-surroundSupp_run-1_eeg.json: 100%|██████████| 1.00/1.00 [00:00<00:00, 12.0B/s]\n",
            "Downloading sub-NDARCW094JCG_task-contrastChangeDetection_run-3_eeg.json: 100%|██████████| 1.00/1.00 [00:00<00:00, 13.4B/s]\n",
            "Downloading sub-NDARCW094JCG_task-symbolSearch_eeg.json: 100%|██████████| 1.00/1.00 [00:00<00:00, 11.3B/s]\n",
            "Downloading sub-NDARCW094JCG_task-DespicableMe_channels.tsv: 100%|██████████| 1.00/1.00 [00:00<00:00, 13.6B/s]\n",
            "Downloading sub-NDARCW094JCG_task-contrastChangeDetection_run-3_channels.tsv: 100%|██████████| 1.00/1.00 [00:00<00:00, 13.2B/s]\n",
            "Downloading sub-NDARCW094JCG_task-RestingState_channels.tsv: 100%|██████████| 1.00/1.00 [00:00<00:00, 10.0B/s]\n",
            "Downloading sub-NDARCW094JCG_task-surroundSupp_run-1_channels.tsv: 100%|██████████| 1.00/1.00 [00:00<00:00, 4.02B/s]\n",
            "Downloading sub-NDARCW094JCG_task-surroundSupp_run-2_channels.tsv: 100%|██████████| 1.00/1.00 [00:00<00:00, 9.66B/s]\n",
            "Downloading sub-NDARCW094JCG_task-symbolSearch_channels.tsv: 100%|██████████| 1.00/1.00 [00:00<00:00, 13.3B/s]\n",
            "Downloading sub-NDARCW094JCG_task-contrastChangeDetection_run-1_channels.tsv: 100%|██████████| 1.00/1.00 [00:00<00:00, 11.3B/s]\n",
            "Downloading sub-NDARCW094JCG_task-contrastChangeDetection_run-2_channels.tsv: 100%|██████████| 1.00/1.00 [00:00<00:00, 10.3B/s]\n",
            "Downloading sub-NDARCW094JCG_task-DiaryOfAWimpyKid_channels.tsv: 100%|██████████| 1.00/1.00 [00:00<00:00, 12.0B/s]\n",
            "Downloading sub-NDARCW094JCG_task-ThePresent_channels.tsv: 100%|██████████| 1.00/1.00 [00:00<00:00, 13.2B/s]\n",
            "Downloading sub-NDARCW094JCG_task-FunwithFractals_channels.tsv: 100%|██████████| 1.00/1.00 [00:00<00:00, 12.9B/s]\n",
            "Downloading sub-NDARCW094JCG_task-seqLearning6target_channels.tsv: 100%|██████████| 1.00/1.00 [00:00<00:00, 11.7B/s]\n",
            "Downloading sub-NDARCW094JCG_task-contrastChangeDetection_run-1_eeg.bdf: 100%|██████████| 1.00/1.00 [00:01<00:00, 1.35s/B]\n",
            "Downloading sub-NDARCW094JCG_task-contrastChangeDetection_run-1_eeg.bdf: 100%|██████████| 1.00/1.00 [00:00<00:00, 1.06B/s]\n",
            "Downloading sub-NDARCW094JCG_task-contrastChangeDetection_run-2_eeg.bdf: 100%|██████████| 1.00/1.00 [00:00<00:00, 2.79B/s]\n",
            "Downloading sub-NDARCW094JCG_task-contrastChangeDetection_run-2_eeg.bdf: 100%|██████████| 1.00/1.00 [00:00<00:00, 2.30B/s]\n",
            "Downloading sub-NDARCW094JCG_task-contrastChangeDetection_run-3_eeg.bdf: 100%|██████████| 1.00/1.00 [00:00<00:00, 1.60B/s]\n",
            "Downloading sub-NDARCW094JCG_task-contrastChangeDetection_run-3_eeg.bdf: 100%|██████████| 1.00/1.00 [00:00<00:00, 1.80B/s]\n",
            "Downloading sub-NDARCZ947WU5_task-contrastChangeDetection_run-3_events.tsv: 100%|██████████| 1.00/1.00 [00:00<00:00, 11.6B/s]\n",
            "Downloading sub-NDARCZ947WU5_task-ThePresent_events.tsv: 100%|██████████| 1.00/1.00 [00:00<00:00, 14.0B/s]\n",
            "Downloading sub-NDARCZ947WU5_task-RestingState_events.tsv: 100%|██████████| 1.00/1.00 [00:00<00:00, 12.6B/s]\n",
            "Downloading sub-NDARCZ947WU5_task-DiaryOfAWimpyKid_events.tsv: 100%|██████████| 1.00/1.00 [00:00<00:00, 13.2B/s]\n",
            "Downloading sub-NDARCZ947WU5_task-contrastChangeDetection_run-1_events.tsv: 100%|██████████| 1.00/1.00 [00:00<00:00, 11.9B/s]\n",
            "Downloading sub-NDARCZ947WU5_task-DespicableMe_events.tsv: 100%|██████████| 1.00/1.00 [00:00<00:00, 13.1B/s]\n",
            "Downloading sub-NDARCZ947WU5_task-seqLearning8target_events.tsv: 100%|██████████| 1.00/1.00 [00:00<00:00, 12.9B/s]\n",
            "Downloading sub-NDARCZ947WU5_task-symbolSearch_events.tsv: 100%|██████████| 1.00/1.00 [00:00<00:00, 12.9B/s]\n",
            "Downloading sub-NDARCZ947WU5_task-FunwithFractals_events.tsv: 100%|██████████| 1.00/1.00 [00:00<00:00, 13.2B/s]\n",
            "Downloading sub-NDARCZ947WU5_task-surroundSupp_run-1_events.tsv: 100%|██████████| 1.00/1.00 [00:00<00:00, 8.82B/s]\n",
            "Downloading sub-NDARCZ947WU5_task-surroundSupp_run-2_events.tsv: 100%|██████████| 1.00/1.00 [00:00<00:00, 11.4B/s]\n",
            "Downloading sub-NDARCZ947WU5_task-contrastChangeDetection_run-2_events.tsv: 100%|██████████| 1.00/1.00 [00:00<00:00, 12.5B/s]\n",
            "Downloading sub-NDARCZ947WU5_task-contrastChangeDetection_run-2_eeg.json: 100%|██████████| 1.00/1.00 [00:00<00:00, 12.8B/s]\n",
            "Downloading sub-NDARCZ947WU5_task-DespicableMe_eeg.json: 100%|██████████| 1.00/1.00 [00:00<00:00, 13.1B/s]\n",
            "Downloading sub-NDARCZ947WU5_task-FunwithFractals_eeg.json: 100%|██████████| 1.00/1.00 [00:00<00:00, 13.2B/s]\n",
            "Downloading sub-NDARCZ947WU5_task-DiaryOfAWimpyKid_eeg.json: 100%|██████████| 1.00/1.00 [00:00<00:00, 13.2B/s]\n",
            "Downloading sub-NDARCZ947WU5_task-contrastChangeDetection_run-3_eeg.json: 100%|██████████| 1.00/1.00 [00:00<00:00, 13.2B/s]\n",
            "Downloading sub-NDARCZ947WU5_task-contrastChangeDetection_run-1_eeg.json: 100%|██████████| 1.00/1.00 [00:00<00:00, 12.6B/s]\n",
            "Downloading sub-NDARCZ947WU5_task-ThePresent_eeg.json: 100%|██████████| 1.00/1.00 [00:00<00:00, 13.3B/s]\n",
            "Downloading sub-NDARCZ947WU5_task-surroundSupp_run-2_eeg.json: 100%|██████████| 1.00/1.00 [00:00<00:00, 12.8B/s]\n",
            "Downloading sub-NDARCZ947WU5_task-symbolSearch_eeg.json: 100%|██████████| 1.00/1.00 [00:00<00:00, 13.7B/s]\n",
            "Downloading sub-NDARCZ947WU5_task-RestingState_eeg.json: 100%|██████████| 1.00/1.00 [00:00<00:00, 12.7B/s]\n",
            "Downloading sub-NDARCZ947WU5_task-surroundSupp_run-1_eeg.json: 100%|██████████| 1.00/1.00 [00:00<00:00, 13.1B/s]\n",
            "Downloading sub-NDARCZ947WU5_task-seqLearning8target_eeg.json: 100%|██████████| 1.00/1.00 [00:00<00:00, 13.0B/s]\n",
            "Downloading sub-NDARCZ947WU5_task-DiaryOfAWimpyKid_channels.tsv: 100%|██████████| 1.00/1.00 [00:00<00:00, 10.9B/s]\n",
            "Downloading sub-NDARCZ947WU5_task-RestingState_channels.tsv: 100%|██████████| 1.00/1.00 [00:00<00:00, 11.5B/s]\n",
            "Downloading sub-NDARCZ947WU5_task-FunwithFractals_channels.tsv: 100%|██████████| 1.00/1.00 [00:00<00:00, 8.05B/s]\n",
            "Downloading sub-NDARCZ947WU5_task-seqLearning8target_channels.tsv: 100%|██████████| 1.00/1.00 [00:00<00:00, 11.2B/s]\n",
            "Downloading sub-NDARCZ947WU5_task-contrastChangeDetection_run-2_channels.tsv: 100%|██████████| 1.00/1.00 [00:00<00:00, 12.4B/s]\n",
            "Downloading sub-NDARCZ947WU5_task-contrastChangeDetection_run-3_channels.tsv: 100%|██████████| 1.00/1.00 [00:00<00:00, 11.9B/s]\n",
            "Downloading sub-NDARCZ947WU5_task-symbolSearch_channels.tsv: 100%|██████████| 1.00/1.00 [00:00<00:00, 9.39B/s]\n",
            "Downloading sub-NDARCZ947WU5_task-contrastChangeDetection_run-1_channels.tsv: 100%|██████████| 1.00/1.00 [00:00<00:00, 11.2B/s]\n",
            "Downloading sub-NDARCZ947WU5_task-ThePresent_channels.tsv: 100%|██████████| 1.00/1.00 [00:00<00:00, 10.5B/s]\n",
            "Downloading sub-NDARCZ947WU5_task-surroundSupp_run-1_channels.tsv: 100%|██████████| 1.00/1.00 [00:00<00:00, 12.3B/s]\n",
            "Downloading sub-NDARCZ947WU5_task-surroundSupp_run-2_channels.tsv: 100%|██████████| 1.00/1.00 [00:00<00:00, 12.4B/s]\n",
            "Downloading sub-NDARCZ947WU5_task-DespicableMe_channels.tsv: 100%|██████████| 1.00/1.00 [00:00<00:00, 12.3B/s]\n",
            "Downloading sub-NDARCZ947WU5_task-contrastChangeDetection_run-1_eeg.bdf: 100%|██████████| 1.00/1.00 [00:01<00:00, 1.33s/B]\n",
            "Downloading sub-NDARCZ947WU5_task-contrastChangeDetection_run-1_eeg.bdf: 100%|██████████| 1.00/1.00 [00:01<00:00, 1.12s/B]\n",
            "Downloading sub-NDARCZ947WU5_task-contrastChangeDetection_run-3_eeg.bdf: 100%|██████████| 1.00/1.00 [00:00<00:00, 1.41B/s]\n",
            "Downloading sub-NDARCZ947WU5_task-contrastChangeDetection_run-3_eeg.bdf: 100%|██████████| 1.00/1.00 [00:00<00:00, 1.33B/s]\n",
            "Downloading sub-NDARCZ947WU5_task-contrastChangeDetection_run-2_eeg.bdf: 100%|██████████| 1.00/1.00 [00:00<00:00, 1.35B/s]\n",
            "Downloading sub-NDARCZ947WU5_task-contrastChangeDetection_run-2_eeg.bdf: 100%|██████████| 1.00/1.00 [00:00<00:00, 1.34B/s]\n",
            "Downloading sub-NDARDH670PXH_task-ThePresent_events.tsv: 100%|██████████| 1.00/1.00 [00:00<00:00, 14.2B/s]\n",
            "Downloading sub-NDARDH670PXH_task-contrastChangeDetection_run-3_events.tsv: 100%|██████████| 1.00/1.00 [00:00<00:00, 12.7B/s]\n",
            "Downloading sub-NDARDH670PXH_task-FunwithFractals_events.tsv: 100%|██████████| 1.00/1.00 [00:00<00:00, 9.62B/s]\n",
            "Downloading sub-NDARDH670PXH_task-RestingState_events.tsv: 100%|██████████| 1.00/1.00 [00:00<00:00, 12.9B/s]\n",
            "Downloading sub-NDARDH670PXH_task-symbolSearch_events.tsv: 100%|██████████| 1.00/1.00 [00:00<00:00, 13.5B/s]\n",
            "Downloading sub-NDARDH670PXH_task-surroundSupp_run-2_events.tsv: 100%|██████████| 1.00/1.00 [00:00<00:00, 12.2B/s]\n",
            "Downloading sub-NDARDH670PXH_task-DiaryOfAWimpyKid_events.tsv: 100%|██████████| 1.00/1.00 [00:00<00:00, 13.1B/s]\n",
            "Downloading sub-NDARDH670PXH_task-contrastChangeDetection_run-1_events.tsv: 100%|██████████| 1.00/1.00 [00:00<00:00, 9.69B/s]\n",
            "Downloading sub-NDARDH670PXH_task-contrastChangeDetection_run-2_events.tsv: 100%|██████████| 1.00/1.00 [00:00<00:00, 11.2B/s]\n",
            "Downloading sub-NDARDH670PXH_task-seqLearning8target_events.tsv: 100%|██████████| 1.00/1.00 [00:00<00:00, 11.3B/s]\n",
            "Downloading sub-NDARDH670PXH_task-surroundSupp_run-1_events.tsv: 100%|██████████| 1.00/1.00 [00:00<00:00, 9.82B/s]\n",
            "Downloading sub-NDARDH670PXH_task-DespicableMe_events.tsv: 100%|██████████| 1.00/1.00 [00:00<00:00, 12.8B/s]\n",
            "Downloading sub-NDARDH670PXH_task-surroundSupp_run-1_eeg.json: 100%|██████████| 1.00/1.00 [00:00<00:00, 8.27B/s]\n",
            "Downloading sub-NDARDH670PXH_task-contrastChangeDetection_run-2_eeg.json: 100%|██████████| 1.00/1.00 [00:00<00:00, 12.9B/s]\n",
            "Downloading sub-NDARDH670PXH_task-surroundSupp_run-2_eeg.json: 100%|██████████| 1.00/1.00 [00:00<00:00, 13.2B/s]\n",
            "Downloading sub-NDARDH670PXH_task-ThePresent_eeg.json: 100%|██████████| 1.00/1.00 [00:00<00:00, 13.1B/s]\n",
            "Downloading sub-NDARDH670PXH_task-contrastChangeDetection_run-3_eeg.json: 100%|██████████| 1.00/1.00 [00:00<00:00, 13.4B/s]\n",
            "Downloading sub-NDARDH670PXH_task-DiaryOfAWimpyKid_eeg.json: 100%|██████████| 1.00/1.00 [00:00<00:00, 11.5B/s]\n",
            "Downloading sub-NDARDH670PXH_task-symbolSearch_eeg.json: 100%|██████████| 1.00/1.00 [00:00<00:00, 12.7B/s]\n",
            "Downloading sub-NDARDH670PXH_task-contrastChangeDetection_run-1_eeg.json: 100%|██████████| 1.00/1.00 [00:00<00:00, 11.6B/s]\n",
            "Downloading sub-NDARDH670PXH_task-RestingState_eeg.json: 100%|██████████| 1.00/1.00 [00:00<00:00, 13.0B/s]\n",
            "Downloading sub-NDARDH670PXH_task-DespicableMe_eeg.json: 100%|██████████| 1.00/1.00 [00:00<00:00, 11.4B/s]\n",
            "Downloading sub-NDARDH670PXH_task-seqLearning8target_eeg.json: 100%|██████████| 1.00/1.00 [00:00<00:00, 11.0B/s]\n",
            "Downloading sub-NDARDH670PXH_task-FunwithFractals_eeg.json: 100%|██████████| 1.00/1.00 [00:00<00:00, 12.8B/s]\n",
            "Downloading sub-NDARDH670PXH_task-contrastChangeDetection_run-3_channels.tsv: 100%|██████████| 1.00/1.00 [00:00<00:00, 12.0B/s]\n",
            "Downloading sub-NDARDH670PXH_task-contrastChangeDetection_run-1_channels.tsv: 100%|██████████| 1.00/1.00 [00:00<00:00, 12.0B/s]\n",
            "Downloading sub-NDARDH670PXH_task-ThePresent_channels.tsv: 100%|██████████| 1.00/1.00 [00:00<00:00, 13.4B/s]\n",
            "Downloading sub-NDARDH670PXH_task-DespicableMe_channels.tsv: 100%|██████████| 1.00/1.00 [00:00<00:00, 7.59B/s]\n",
            "Downloading sub-NDARDH670PXH_task-DiaryOfAWimpyKid_channels.tsv: 100%|██████████| 1.00/1.00 [00:00<00:00, 9.12B/s]\n",
            "Downloading sub-NDARDH670PXH_task-symbolSearch_channels.tsv: 100%|██████████| 1.00/1.00 [00:00<00:00, 11.5B/s]\n",
            "Downloading sub-NDARDH670PXH_task-seqLearning8target_channels.tsv: 100%|██████████| 1.00/1.00 [00:00<00:00, 11.0B/s]\n",
            "Downloading sub-NDARDH670PXH_task-RestingState_channels.tsv: 100%|██████████| 1.00/1.00 [00:00<00:00, 10.6B/s]\n",
            "Downloading sub-NDARDH670PXH_task-surroundSupp_run-2_channels.tsv: 100%|██████████| 1.00/1.00 [00:00<00:00, 10.3B/s]\n",
            "Downloading sub-NDARDH670PXH_task-contrastChangeDetection_run-2_channels.tsv: 100%|██████████| 1.00/1.00 [00:00<00:00, 9.08B/s]\n",
            "Downloading sub-NDARDH670PXH_task-surroundSupp_run-1_channels.tsv: 100%|██████████| 1.00/1.00 [00:00<00:00, 6.80B/s]\n",
            "Downloading sub-NDARDH670PXH_task-FunwithFractals_channels.tsv: 100%|██████████| 1.00/1.00 [00:00<00:00, 7.99B/s]\n",
            "Downloading sub-NDARDH670PXH_task-contrastChangeDetection_run-3_eeg.bdf: 100%|██████████| 1.00/1.00 [00:00<00:00, 1.23B/s]\n",
            "Downloading sub-NDARDH670PXH_task-contrastChangeDetection_run-3_eeg.bdf: 100%|██████████| 1.00/1.00 [00:00<00:00, 1.43B/s]\n",
            "Downloading sub-NDARDH670PXH_task-contrastChangeDetection_run-2_eeg.bdf: 100%|██████████| 1.00/1.00 [00:01<00:00, 1.47s/B]\n",
            "Downloading sub-NDARDH670PXH_task-contrastChangeDetection_run-2_eeg.bdf: 100%|██████████| 1.00/1.00 [00:01<00:00, 1.41s/B]\n",
            "Downloading sub-NDARDH670PXH_task-contrastChangeDetection_run-1_eeg.bdf: 100%|██████████| 1.00/1.00 [00:01<00:00, 1.13s/B]\n",
            "Downloading sub-NDARDH670PXH_task-contrastChangeDetection_run-1_eeg.bdf: 100%|██████████| 1.00/1.00 [00:01<00:00, 1.04s/B]\n",
            "Downloading sub-NDARDL511UND_task-contrastChangeDetection_run-3_events.tsv: 100%|██████████| 1.00/1.00 [00:00<00:00, 12.6B/s]\n",
            "Downloading sub-NDARDL511UND_task-RestingState_events.tsv: 100%|██████████| 1.00/1.00 [00:00<00:00, 4.81B/s]\n",
            "Downloading sub-NDARDL511UND_task-contrastChangeDetection_run-2_events.tsv: 100%|██████████| 1.00/1.00 [00:00<00:00, 12.7B/s]\n",
            "Downloading sub-NDARDL511UND_task-DiaryOfAWimpyKid_events.tsv: 100%|██████████| 1.00/1.00 [00:00<00:00, 13.0B/s]\n",
            "Downloading sub-NDARDL511UND_task-symbolSearch_events.tsv: 100%|██████████| 1.00/1.00 [00:00<00:00, 13.2B/s]\n",
            "Downloading sub-NDARDL511UND_task-ThePresent_events.tsv: 100%|██████████| 1.00/1.00 [00:00<00:00, 14.5B/s]\n",
            "Downloading sub-NDARDL511UND_task-surroundSupp_run-2_events.tsv: 100%|██████████| 1.00/1.00 [00:00<00:00, 9.78B/s]\n",
            "Downloading sub-NDARDL511UND_task-surroundSupp_run-1_events.tsv: 100%|██████████| 1.00/1.00 [00:00<00:00, 11.7B/s]\n",
            "Downloading sub-NDARDL511UND_task-seqLearning8target_events.tsv: 100%|██████████| 1.00/1.00 [00:00<00:00, 11.9B/s]\n",
            "Downloading sub-NDARDL511UND_task-FunwithFractals_events.tsv: 100%|██████████| 1.00/1.00 [00:00<00:00, 11.6B/s]\n",
            "Downloading sub-NDARDL511UND_task-DespicableMe_events.tsv: 100%|██████████| 1.00/1.00 [00:00<00:00, 13.8B/s]\n",
            "Downloading sub-NDARDL511UND_task-contrastChangeDetection_run-1_events.tsv: 100%|██████████| 1.00/1.00 [00:00<00:00, 11.9B/s]\n",
            "Downloading sub-NDARDL511UND_task-contrastChangeDetection_run-1_eeg.json: 100%|██████████| 1.00/1.00 [00:00<00:00, 13.3B/s]\n",
            "Downloading sub-NDARDL511UND_task-DiaryOfAWimpyKid_eeg.json: 100%|██████████| 1.00/1.00 [00:00<00:00, 13.3B/s]\n",
            "Downloading sub-NDARDL511UND_task-symbolSearch_eeg.json: 100%|██████████| 1.00/1.00 [00:00<00:00, 13.4B/s]\n",
            "Downloading sub-NDARDL511UND_task-contrastChangeDetection_run-2_eeg.json: 100%|██████████| 1.00/1.00 [00:00<00:00, 13.2B/s]\n",
            "Downloading sub-NDARDL511UND_task-surroundSupp_run-1_eeg.json: 100%|██████████| 1.00/1.00 [00:00<00:00, 12.9B/s]\n",
            "Downloading sub-NDARDL511UND_task-DespicableMe_eeg.json: 100%|██████████| 1.00/1.00 [00:00<00:00, 13.4B/s]\n",
            "Downloading sub-NDARDL511UND_task-FunwithFractals_eeg.json: 100%|██████████| 1.00/1.00 [00:00<00:00, 7.78B/s]\n",
            "Downloading sub-NDARDL511UND_task-ThePresent_eeg.json: 100%|██████████| 1.00/1.00 [00:00<00:00, 13.0B/s]\n",
            "Downloading sub-NDARDL511UND_task-seqLearning8target_eeg.json: 100%|██████████| 1.00/1.00 [00:00<00:00, 11.7B/s]\n",
            "Downloading sub-NDARDL511UND_task-RestingState_eeg.json: 100%|██████████| 1.00/1.00 [00:00<00:00, 13.8B/s]\n",
            "Downloading sub-NDARDL511UND_task-contrastChangeDetection_run-3_eeg.json: 100%|██████████| 1.00/1.00 [00:00<00:00, 11.7B/s]\n",
            "Downloading sub-NDARDL511UND_task-surroundSupp_run-2_eeg.json: 100%|██████████| 1.00/1.00 [00:00<00:00, 13.6B/s]\n",
            "Downloading sub-NDARDL511UND_task-surroundSupp_run-1_channels.tsv: 100%|██████████| 1.00/1.00 [00:00<00:00, 9.44B/s]\n",
            "Downloading sub-NDARDL511UND_task-ThePresent_channels.tsv: 100%|██████████| 1.00/1.00 [00:00<00:00, 13.3B/s]\n",
            "Downloading sub-NDARDL511UND_task-contrastChangeDetection_run-3_channels.tsv: 100%|██████████| 1.00/1.00 [00:00<00:00, 9.50B/s]\n",
            "Downloading sub-NDARDL511UND_task-DiaryOfAWimpyKid_channels.tsv: 100%|██████████| 1.00/1.00 [00:00<00:00, 11.8B/s]\n",
            "Downloading sub-NDARDL511UND_task-contrastChangeDetection_run-2_channels.tsv: 100%|██████████| 1.00/1.00 [00:00<00:00, 11.8B/s]\n",
            "Downloading sub-NDARDL511UND_task-surroundSupp_run-2_channels.tsv: 100%|██████████| 1.00/1.00 [00:00<00:00, 12.7B/s]\n",
            "Downloading sub-NDARDL511UND_task-FunwithFractals_channels.tsv: 100%|██████████| 1.00/1.00 [00:00<00:00, 9.81B/s]\n",
            "Downloading sub-NDARDL511UND_task-DespicableMe_channels.tsv: 100%|██████████| 1.00/1.00 [00:00<00:00, 11.9B/s]\n",
            "Downloading sub-NDARDL511UND_task-RestingState_channels.tsv: 100%|██████████| 1.00/1.00 [00:00<00:00, 12.6B/s]\n",
            "Downloading sub-NDARDL511UND_task-symbolSearch_channels.tsv: 100%|██████████| 1.00/1.00 [00:00<00:00, 12.0B/s]\n",
            "Downloading sub-NDARDL511UND_task-seqLearning8target_channels.tsv: 100%|██████████| 1.00/1.00 [00:00<00:00, 12.6B/s]\n",
            "Downloading sub-NDARDL511UND_task-contrastChangeDetection_run-1_channels.tsv: 100%|██████████| 1.00/1.00 [00:00<00:00, 10.6B/s]\n",
            "Downloading sub-NDARDL511UND_task-contrastChangeDetection_run-1_eeg.bdf: 100%|██████████| 1.00/1.00 [00:00<00:00, 1.52B/s]\n",
            "Downloading sub-NDARDL511UND_task-contrastChangeDetection_run-1_eeg.bdf: 100%|██████████| 1.00/1.00 [00:00<00:00, 3.78B/s]\n",
            "Downloading sub-NDARDL511UND_task-contrastChangeDetection_run-3_eeg.bdf: 100%|██████████| 1.00/1.00 [00:00<00:00, 3.42B/s]\n",
            "Downloading sub-NDARDL511UND_task-contrastChangeDetection_run-3_eeg.bdf: 100%|██████████| 1.00/1.00 [00:00<00:00, 5.05B/s]\n",
            "Downloading sub-NDARDL511UND_task-contrastChangeDetection_run-2_eeg.bdf: 100%|██████████| 1.00/1.00 [00:00<00:00, 3.04B/s]\n",
            "Downloading sub-NDARDL511UND_task-contrastChangeDetection_run-2_eeg.bdf: 100%|██████████| 1.00/1.00 [00:00<00:00, 3.85B/s]\n",
            "Downloading sub-NDARDU986RBM_task-DiaryOfAWimpyKid_events.tsv: 100%|██████████| 1.00/1.00 [00:00<00:00, 10.4B/s]\n",
            "Downloading sub-NDARDU986RBM_task-symbolSearch_events.tsv: 100%|██████████| 1.00/1.00 [00:00<00:00, 13.2B/s]\n",
            "Downloading sub-NDARDU986RBM_task-surroundSupp_run-1_events.tsv: 100%|██████████| 1.00/1.00 [00:00<00:00, 9.96B/s]\n",
            "Downloading sub-NDARDU986RBM_task-ThePresent_events.tsv: 100%|██████████| 1.00/1.00 [00:00<00:00, 14.4B/s]\n",
            "Downloading sub-NDARDU986RBM_task-DespicableMe_events.tsv: 100%|██████████| 1.00/1.00 [00:00<00:00, 13.4B/s]\n",
            "Downloading sub-NDARDU986RBM_task-seqLearning6target_events.tsv: 100%|██████████| 1.00/1.00 [00:00<00:00, 12.3B/s]\n",
            "Downloading sub-NDARDU986RBM_task-FunwithFractals_events.tsv: 100%|██████████| 1.00/1.00 [00:00<00:00, 11.7B/s]\n",
            "Downloading sub-NDARDU986RBM_task-contrastChangeDetection_run-1_events.tsv: 100%|██████████| 1.00/1.00 [00:00<00:00, 9.27B/s]\n",
            "Downloading sub-NDARDU986RBM_task-surroundSupp_run-2_events.tsv: 100%|██████████| 1.00/1.00 [00:00<00:00, 9.50B/s]\n",
            "Downloading sub-NDARDU986RBM_task-contrastChangeDetection_run-2_events.tsv: 100%|██████████| 1.00/1.00 [00:00<00:00, 8.25B/s]\n",
            "Downloading sub-NDARDU986RBM_task-RestingState_events.tsv: 100%|██████████| 1.00/1.00 [00:00<00:00, 11.5B/s]\n",
            "Downloading sub-NDARDU986RBM_task-contrastChangeDetection_run-3_events.tsv: 100%|██████████| 1.00/1.00 [00:00<00:00, 12.0B/s]\n",
            "Downloading sub-NDARDU986RBM_task-DespicableMe_eeg.json: 100%|██████████| 1.00/1.00 [00:00<00:00, 13.6B/s]\n",
            "Downloading sub-NDARDU986RBM_task-contrastChangeDetection_run-1_eeg.json: 100%|██████████| 1.00/1.00 [00:00<00:00, 12.7B/s]\n",
            "Downloading sub-NDARDU986RBM_task-DiaryOfAWimpyKid_eeg.json: 100%|██████████| 1.00/1.00 [00:00<00:00, 12.5B/s]\n",
            "Downloading sub-NDARDU986RBM_task-contrastChangeDetection_run-2_eeg.json: 100%|██████████| 1.00/1.00 [00:00<00:00, 12.5B/s]\n",
            "Downloading sub-NDARDU986RBM_task-RestingState_eeg.json: 100%|██████████| 1.00/1.00 [00:00<00:00, 12.9B/s]\n",
            "Downloading sub-NDARDU986RBM_task-symbolSearch_eeg.json: 100%|██████████| 1.00/1.00 [00:00<00:00, 13.5B/s]\n",
            "Downloading sub-NDARDU986RBM_task-surroundSupp_run-1_eeg.json: 100%|██████████| 1.00/1.00 [00:00<00:00, 11.3B/s]\n",
            "Downloading sub-NDARDU986RBM_task-seqLearning6target_eeg.json: 100%|██████████| 1.00/1.00 [00:00<00:00, 12.4B/s]\n",
            "Downloading sub-NDARDU986RBM_task-surroundSupp_run-2_eeg.json: 100%|██████████| 1.00/1.00 [00:00<00:00, 12.8B/s]\n",
            "Downloading sub-NDARDU986RBM_task-contrastChangeDetection_run-3_eeg.json: 100%|██████████| 1.00/1.00 [00:00<00:00, 12.3B/s]\n",
            "Downloading sub-NDARDU986RBM_task-FunwithFractals_eeg.json: 100%|██████████| 1.00/1.00 [00:00<00:00, 13.1B/s]\n",
            "Downloading sub-NDARDU986RBM_task-ThePresent_eeg.json: 100%|██████████| 1.00/1.00 [00:00<00:00, 13.3B/s]\n",
            "Downloading sub-NDARDU986RBM_task-surroundSupp_run-1_channels.tsv: 100%|██████████| 1.00/1.00 [00:00<00:00, 12.1B/s]\n",
            "Downloading sub-NDARDU986RBM_task-surroundSupp_run-2_channels.tsv: 100%|██████████| 1.00/1.00 [00:00<00:00, 12.0B/s]\n",
            "Downloading sub-NDARDU986RBM_task-contrastChangeDetection_run-3_channels.tsv: 100%|██████████| 1.00/1.00 [00:00<00:00, 7.40B/s]\n",
            "Downloading sub-NDARDU986RBM_task-DiaryOfAWimpyKid_channels.tsv: 100%|██████████| 1.00/1.00 [00:00<00:00, 8.10B/s]\n",
            "Downloading sub-NDARDU986RBM_task-seqLearning6target_channels.tsv: 100%|██████████| 1.00/1.00 [00:00<00:00, 11.7B/s]\n",
            "Downloading sub-NDARDU986RBM_task-symbolSearch_channels.tsv: 100%|██████████| 1.00/1.00 [00:00<00:00, 10.6B/s]\n",
            "Downloading sub-NDARDU986RBM_task-contrastChangeDetection_run-1_channels.tsv: 100%|██████████| 1.00/1.00 [00:00<00:00, 11.9B/s]\n",
            "Downloading sub-NDARDU986RBM_task-contrastChangeDetection_run-2_channels.tsv: 100%|██████████| 1.00/1.00 [00:00<00:00, 10.6B/s]\n",
            "Downloading sub-NDARDU986RBM_task-DespicableMe_channels.tsv: 100%|██████████| 1.00/1.00 [00:00<00:00, 11.7B/s]\n",
            "Downloading sub-NDARDU986RBM_task-RestingState_channels.tsv: 100%|██████████| 1.00/1.00 [00:00<00:00, 7.93B/s]\n",
            "Downloading sub-NDARDU986RBM_task-ThePresent_channels.tsv: 100%|██████████| 1.00/1.00 [00:00<00:00, 10.9B/s]\n",
            "Downloading sub-NDARDU986RBM_task-FunwithFractals_channels.tsv: 100%|██████████| 1.00/1.00 [00:00<00:00, 10.9B/s]\n",
            "Downloading sub-NDARDU986RBM_task-contrastChangeDetection_run-1_eeg.bdf: 100%|██████████| 1.00/1.00 [00:00<00:00, 1.36B/s]\n",
            "Downloading sub-NDARDU986RBM_task-contrastChangeDetection_run-1_eeg.bdf: 100%|██████████| 1.00/1.00 [00:00<00:00, 2.88B/s]\n",
            "Downloading sub-NDARDU986RBM_task-contrastChangeDetection_run-2_eeg.bdf: 100%|██████████| 1.00/1.00 [00:00<00:00, 1.56B/s]\n",
            "Downloading sub-NDARDU986RBM_task-contrastChangeDetection_run-2_eeg.bdf: 100%|██████████| 1.00/1.00 [00:00<00:00, 1.78B/s]\n",
            "Downloading sub-NDARDU986RBM_task-contrastChangeDetection_run-3_eeg.bdf: 100%|██████████| 1.00/1.00 [00:00<00:00, 3.80B/s]\n",
            "Downloading sub-NDARDU986RBM_task-contrastChangeDetection_run-3_eeg.bdf: 100%|██████████| 1.00/1.00 [00:00<00:00, 4.77B/s]\n",
            "Downloading sub-NDAREM731BYM_task-surroundSupp_run-2_events.tsv: 100%|██████████| 1.00/1.00 [00:00<00:00, 11.8B/s]\n",
            "Downloading sub-NDAREM731BYM_task-surroundSupp_run-1_events.tsv: 100%|██████████| 1.00/1.00 [00:00<00:00, 12.3B/s]\n",
            "Downloading sub-NDAREM731BYM_task-contrastChangeDetection_run-2_events.tsv: 100%|██████████| 1.00/1.00 [00:00<00:00, 9.43B/s]\n",
            "Downloading sub-NDAREM731BYM_task-FunwithFractals_events.tsv: 100%|██████████| 1.00/1.00 [00:00<00:00, 9.42B/s]\n",
            "Downloading sub-NDAREM731BYM_task-contrastChangeDetection_run-1_events.tsv: 100%|██████████| 1.00/1.00 [00:00<00:00, 11.8B/s]\n",
            "Downloading sub-NDAREM731BYM_task-DiaryOfAWimpyKid_events.tsv: 100%|██████████| 1.00/1.00 [00:00<00:00, 12.7B/s]\n",
            "Downloading sub-NDAREM731BYM_task-contrastChangeDetection_run-3_events.tsv: 100%|██████████| 1.00/1.00 [00:00<00:00, 12.4B/s]\n",
            "Downloading sub-NDAREM731BYM_task-ThePresent_events.tsv: 100%|██████████| 1.00/1.00 [00:00<00:00, 13.4B/s]\n",
            "Downloading sub-NDAREM731BYM_task-symbolSearch_events.tsv: 100%|██████████| 1.00/1.00 [00:00<00:00, 10.2B/s]\n",
            "Downloading sub-NDAREM731BYM_task-RestingState_events.tsv: 100%|██████████| 1.00/1.00 [00:00<00:00, 12.9B/s]\n",
            "Downloading sub-NDAREM731BYM_task-seqLearning8target_events.tsv: 100%|██████████| 1.00/1.00 [00:00<00:00, 10.4B/s]\n",
            "Downloading sub-NDAREM731BYM_task-DespicableMe_events.tsv: 100%|██████████| 1.00/1.00 [00:00<00:00, 12.9B/s]\n",
            "Downloading sub-NDAREM731BYM_task-ThePresent_eeg.json: 100%|██████████| 1.00/1.00 [00:00<00:00, 12.9B/s]\n",
            "Downloading sub-NDAREM731BYM_task-DespicableMe_eeg.json: 100%|██████████| 1.00/1.00 [00:00<00:00, 12.7B/s]\n",
            "Downloading sub-NDAREM731BYM_task-RestingState_eeg.json: 100%|██████████| 1.00/1.00 [00:00<00:00, 9.85B/s]\n",
            "Downloading sub-NDAREM731BYM_task-surroundSupp_run-1_eeg.json: 100%|██████████| 1.00/1.00 [00:00<00:00, 11.5B/s]\n",
            "Downloading sub-NDAREM731BYM_task-DiaryOfAWimpyKid_eeg.json: 100%|██████████| 1.00/1.00 [00:00<00:00, 11.5B/s]\n",
            "Downloading sub-NDAREM731BYM_task-contrastChangeDetection_run-3_eeg.json: 100%|██████████| 1.00/1.00 [00:00<00:00, 4.18B/s]\n",
            "Downloading sub-NDAREM731BYM_task-surroundSupp_run-2_eeg.json: 100%|██████████| 1.00/1.00 [00:00<00:00, 8.45B/s]\n",
            "Downloading sub-NDAREM731BYM_task-symbolSearch_eeg.json: 100%|██████████| 1.00/1.00 [00:00<00:00, 10.8B/s]\n",
            "Downloading sub-NDAREM731BYM_task-contrastChangeDetection_run-1_eeg.json: 100%|██████████| 1.00/1.00 [00:00<00:00, 13.2B/s]\n",
            "Downloading sub-NDAREM731BYM_task-FunwithFractals_eeg.json: 100%|██████████| 1.00/1.00 [00:00<00:00, 13.1B/s]\n",
            "Downloading sub-NDAREM731BYM_task-seqLearning8target_eeg.json: 100%|██████████| 1.00/1.00 [00:00<00:00, 12.7B/s]\n",
            "Downloading sub-NDAREM731BYM_task-contrastChangeDetection_run-2_eeg.json: 100%|██████████| 1.00/1.00 [00:00<00:00, 9.61B/s]\n",
            "Downloading sub-NDAREM731BYM_task-ThePresent_channels.tsv: 100%|██████████| 1.00/1.00 [00:00<00:00, 6.06B/s]\n",
            "Downloading sub-NDAREM731BYM_task-DiaryOfAWimpyKid_channels.tsv: 100%|██████████| 1.00/1.00 [00:00<00:00, 12.1B/s]\n",
            "Downloading sub-NDAREM731BYM_task-DespicableMe_channels.tsv: 100%|██████████| 1.00/1.00 [00:00<00:00, 10.5B/s]\n",
            "Downloading sub-NDAREM731BYM_task-contrastChangeDetection_run-3_channels.tsv: 100%|██████████| 1.00/1.00 [00:00<00:00, 12.5B/s]\n",
            "Downloading sub-NDAREM731BYM_task-contrastChangeDetection_run-2_channels.tsv: 100%|██████████| 1.00/1.00 [00:00<00:00, 10.5B/s]\n",
            "Downloading sub-NDAREM731BYM_task-seqLearning8target_channels.tsv: 100%|██████████| 1.00/1.00 [00:00<00:00, 11.6B/s]\n",
            "Downloading sub-NDAREM731BYM_task-symbolSearch_channels.tsv: 100%|██████████| 1.00/1.00 [00:00<00:00, 6.07B/s]\n",
            "Downloading sub-NDAREM731BYM_task-surroundSupp_run-1_channels.tsv: 100%|██████████| 1.00/1.00 [00:00<00:00, 13.0B/s]\n",
            "Downloading sub-NDAREM731BYM_task-RestingState_channels.tsv: 100%|██████████| 1.00/1.00 [00:00<00:00, 10.8B/s]\n",
            "Downloading sub-NDAREM731BYM_task-FunwithFractals_channels.tsv: 100%|██████████| 1.00/1.00 [00:00<00:00, 11.6B/s]\n",
            "Downloading sub-NDAREM731BYM_task-surroundSupp_run-2_channels.tsv: 100%|██████████| 1.00/1.00 [00:00<00:00, 11.6B/s]\n",
            "Downloading sub-NDAREM731BYM_task-contrastChangeDetection_run-1_channels.tsv: 100%|██████████| 1.00/1.00 [00:00<00:00, 11.2B/s]\n",
            "Downloading sub-NDAREM731BYM_task-contrastChangeDetection_run-1_eeg.bdf: 100%|██████████| 1.00/1.00 [00:00<00:00, 1.37B/s]\n",
            "Downloading sub-NDAREM731BYM_task-contrastChangeDetection_run-1_eeg.bdf: 100%|██████████| 1.00/1.00 [00:00<00:00, 3.16B/s]\n",
            "Downloading sub-NDAREM731BYM_task-contrastChangeDetection_run-3_eeg.bdf: 100%|██████████| 1.00/1.00 [00:00<00:00, 3.08B/s]\n",
            "Downloading sub-NDAREM731BYM_task-contrastChangeDetection_run-3_eeg.bdf: 100%|██████████| 1.00/1.00 [00:00<00:00, 3.83B/s]\n",
            "Downloading sub-NDAREM731BYM_task-contrastChangeDetection_run-2_eeg.bdf: 100%|██████████| 1.00/1.00 [00:00<00:00, 2.70B/s]\n",
            "Downloading sub-NDAREM731BYM_task-contrastChangeDetection_run-2_eeg.bdf: 100%|██████████| 1.00/1.00 [00:00<00:00, 3.07B/s]\n",
            "Downloading sub-NDAREN519BLJ_task-surroundSupp_run-1_events.tsv: 100%|██████████| 1.00/1.00 [00:00<00:00, 11.0B/s]\n",
            "Downloading sub-NDAREN519BLJ_task-surroundSupp_run-2_events.tsv: 100%|██████████| 1.00/1.00 [00:00<00:00, 11.0B/s]\n",
            "Downloading sub-NDAREN519BLJ_task-FunwithFractals_events.tsv: 100%|██████████| 1.00/1.00 [00:00<00:00, 9.92B/s]\n",
            "Downloading sub-NDAREN519BLJ_task-DiaryOfAWimpyKid_events.tsv: 100%|██████████| 1.00/1.00 [00:00<00:00, 13.1B/s]\n",
            "Downloading sub-NDAREN519BLJ_task-RestingState_events.tsv: 100%|██████████| 1.00/1.00 [00:00<00:00, 9.49B/s]\n",
            "Downloading sub-NDAREN519BLJ_task-symbolSearch_events.tsv: 100%|██████████| 1.00/1.00 [00:00<00:00, 12.7B/s]\n",
            "Downloading sub-NDAREN519BLJ_task-contrastChangeDetection_run-2_events.tsv: 100%|██████████| 1.00/1.00 [00:00<00:00, 10.5B/s]\n",
            "Downloading sub-NDAREN519BLJ_task-ThePresent_events.tsv: 100%|██████████| 1.00/1.00 [00:00<00:00, 14.5B/s]\n",
            "Downloading sub-NDAREN519BLJ_task-contrastChangeDetection_run-3_events.tsv: 100%|██████████| 1.00/1.00 [00:00<00:00, 12.8B/s]\n",
            "Downloading sub-NDAREN519BLJ_task-contrastChangeDetection_run-1_events.tsv: 100%|██████████| 1.00/1.00 [00:00<00:00, 8.18B/s]\n",
            "Downloading sub-NDAREN519BLJ_task-seqLearning6target_events.tsv: 100%|██████████| 1.00/1.00 [00:00<00:00, 12.3B/s]\n",
            "Downloading sub-NDAREN519BLJ_task-DespicableMe_events.tsv: 100%|██████████| 1.00/1.00 [00:00<00:00, 12.6B/s]\n",
            "Downloading sub-NDAREN519BLJ_task-surroundSupp_run-2_eeg.json: 100%|██████████| 1.00/1.00 [00:00<00:00, 11.8B/s]\n",
            "Downloading sub-NDAREN519BLJ_task-FunwithFractals_eeg.json: 100%|██████████| 1.00/1.00 [00:00<00:00, 12.9B/s]\n",
            "Downloading sub-NDAREN519BLJ_task-DiaryOfAWimpyKid_eeg.json: 100%|██████████| 1.00/1.00 [00:00<00:00, 13.6B/s]\n",
            "Downloading sub-NDAREN519BLJ_task-contrastChangeDetection_run-2_eeg.json: 100%|██████████| 1.00/1.00 [00:00<00:00, 12.6B/s]\n",
            "Downloading sub-NDAREN519BLJ_task-surroundSupp_run-1_eeg.json: 100%|██████████| 1.00/1.00 [00:00<00:00, 11.1B/s]\n",
            "Downloading sub-NDAREN519BLJ_task-seqLearning6target_eeg.json: 100%|██████████| 1.00/1.00 [00:00<00:00, 13.5B/s]\n",
            "Downloading sub-NDAREN519BLJ_task-RestingState_eeg.json: 100%|██████████| 1.00/1.00 [00:00<00:00, 13.0B/s]\n",
            "Downloading sub-NDAREN519BLJ_task-ThePresent_eeg.json: 100%|██████████| 1.00/1.00 [00:00<00:00, 11.5B/s]\n",
            "Downloading sub-NDAREN519BLJ_task-symbolSearch_eeg.json: 100%|██████████| 1.00/1.00 [00:00<00:00, 13.1B/s]\n",
            "Downloading sub-NDAREN519BLJ_task-DespicableMe_eeg.json: 100%|██████████| 1.00/1.00 [00:00<00:00, 12.8B/s]\n",
            "Downloading sub-NDAREN519BLJ_task-contrastChangeDetection_run-3_eeg.json: 100%|██████████| 1.00/1.00 [00:00<00:00, 13.1B/s]\n",
            "Downloading sub-NDAREN519BLJ_task-contrastChangeDetection_run-1_eeg.json: 100%|██████████| 1.00/1.00 [00:00<00:00, 12.9B/s]\n",
            "Downloading sub-NDAREN519BLJ_task-DiaryOfAWimpyKid_channels.tsv: 100%|██████████| 1.00/1.00 [00:00<00:00, 11.3B/s]\n",
            "Downloading sub-NDAREN519BLJ_task-ThePresent_channels.tsv: 100%|██████████| 1.00/1.00 [00:00<00:00, 10.0B/s]\n",
            "Downloading sub-NDAREN519BLJ_task-DespicableMe_channels.tsv: 100%|██████████| 1.00/1.00 [00:00<00:00, 11.3B/s]\n",
            "Downloading sub-NDAREN519BLJ_task-contrastChangeDetection_run-2_channels.tsv: 100%|██████████| 1.00/1.00 [00:00<00:00, 12.6B/s]\n",
            "Downloading sub-NDAREN519BLJ_task-symbolSearch_channels.tsv: 100%|██████████| 1.00/1.00 [00:00<00:00, 12.1B/s]\n",
            "Downloading sub-NDAREN519BLJ_task-contrastChangeDetection_run-3_channels.tsv: 100%|██████████| 1.00/1.00 [00:00<00:00, 11.7B/s]\n",
            "Downloading sub-NDAREN519BLJ_task-FunwithFractals_channels.tsv: 100%|██████████| 1.00/1.00 [00:00<00:00, 12.3B/s]\n",
            "Downloading sub-NDAREN519BLJ_task-RestingState_channels.tsv: 100%|██████████| 1.00/1.00 [00:00<00:00, 12.2B/s]\n",
            "Downloading sub-NDAREN519BLJ_task-surroundSupp_run-2_channels.tsv: 100%|██████████| 1.00/1.00 [00:00<00:00, 12.1B/s]\n",
            "Downloading sub-NDAREN519BLJ_task-surroundSupp_run-1_channels.tsv: 100%|██████████| 1.00/1.00 [00:00<00:00, 11.9B/s]\n",
            "Downloading sub-NDAREN519BLJ_task-seqLearning6target_channels.tsv: 100%|██████████| 1.00/1.00 [00:00<00:00, 7.99B/s]\n",
            "Downloading sub-NDAREN519BLJ_task-contrastChangeDetection_run-1_channels.tsv: 100%|██████████| 1.00/1.00 [00:00<00:00, 11.8B/s]\n",
            "Downloading sub-NDAREN519BLJ_task-contrastChangeDetection_run-3_eeg.bdf: 100%|██████████| 1.00/1.00 [00:00<00:00, 1.07B/s]\n",
            "Downloading sub-NDAREN519BLJ_task-contrastChangeDetection_run-3_eeg.bdf: 100%|██████████| 1.00/1.00 [00:00<00:00, 1.85B/s]\n",
            "Downloading sub-NDAREN519BLJ_task-contrastChangeDetection_run-2_eeg.bdf: 100%|██████████| 1.00/1.00 [00:01<00:00, 1.09s/B]\n",
            "Downloading sub-NDAREN519BLJ_task-contrastChangeDetection_run-2_eeg.bdf: 100%|██████████| 1.00/1.00 [00:01<00:00, 1.40s/B]\n",
            "Downloading sub-NDAREN519BLJ_task-contrastChangeDetection_run-1_eeg.bdf: 100%|██████████| 1.00/1.00 [00:01<00:00, 1.03s/B]\n",
            "Downloading sub-NDAREN519BLJ_task-contrastChangeDetection_run-1_eeg.bdf: 100%|██████████| 1.00/1.00 [00:01<00:00, 1.02s/B]\n",
            "Downloading sub-NDARFK610GY5_task-surroundSupp_run-1_events.tsv: 100%|██████████| 1.00/1.00 [00:00<00:00, 8.94B/s]\n",
            "Downloading sub-NDARFK610GY5_task-seqLearning8target_events.tsv: 100%|██████████| 1.00/1.00 [00:00<00:00, 7.45B/s]\n",
            "Downloading sub-NDARFK610GY5_task-contrastChangeDetection_run-3_events.tsv: 100%|██████████| 1.00/1.00 [00:00<00:00, 12.2B/s]\n",
            "Downloading sub-NDARFK610GY5_task-FunwithFractals_events.tsv: 100%|██████████| 1.00/1.00 [00:00<00:00, 13.8B/s]\n",
            "Downloading sub-NDARFK610GY5_task-contrastChangeDetection_run-2_events.tsv: 100%|██████████| 1.00/1.00 [00:00<00:00, 11.0B/s]\n",
            "Downloading sub-NDARFK610GY5_task-contrastChangeDetection_run-1_events.tsv: 100%|██████████| 1.00/1.00 [00:00<00:00, 12.3B/s]\n",
            "Downloading sub-NDARFK610GY5_task-symbolSearch_events.tsv: 100%|██████████| 1.00/1.00 [00:00<00:00, 12.9B/s]\n",
            "Downloading sub-NDARFK610GY5_task-ThePresent_events.tsv: 100%|██████████| 1.00/1.00 [00:00<00:00, 13.4B/s]\n",
            "Downloading sub-NDARFK610GY5_task-surroundSupp_run-2_events.tsv: 100%|██████████| 1.00/1.00 [00:00<00:00, 11.8B/s]\n",
            "Downloading sub-NDARFK610GY5_task-RestingState_events.tsv: 100%|██████████| 1.00/1.00 [00:00<00:00, 13.4B/s]\n",
            "Downloading sub-NDARFK610GY5_task-DespicableMe_events.tsv: 100%|██████████| 1.00/1.00 [00:00<00:00, 13.4B/s]\n",
            "Downloading sub-NDARFK610GY5_task-DiaryOfAWimpyKid_events.tsv: 100%|██████████| 1.00/1.00 [00:00<00:00, 12.8B/s]\n",
            "Downloading sub-NDARFK610GY5_task-ThePresent_eeg.json: 100%|██████████| 1.00/1.00 [00:00<00:00, 13.2B/s]\n",
            "Downloading sub-NDARFK610GY5_task-contrastChangeDetection_run-3_eeg.json: 100%|██████████| 1.00/1.00 [00:00<00:00, 13.1B/s]\n",
            "Downloading sub-NDARFK610GY5_task-surroundSupp_run-1_eeg.json: 100%|██████████| 1.00/1.00 [00:00<00:00, 13.1B/s]\n",
            "Downloading sub-NDARFK610GY5_task-FunwithFractals_eeg.json: 100%|██████████| 1.00/1.00 [00:00<00:00, 13.1B/s]\n",
            "Downloading sub-NDARFK610GY5_task-seqLearning8target_eeg.json: 100%|██████████| 1.00/1.00 [00:00<00:00, 13.2B/s]\n",
            "Downloading sub-NDARFK610GY5_task-DiaryOfAWimpyKid_eeg.json: 100%|██████████| 1.00/1.00 [00:00<00:00, 13.1B/s]\n",
            "Downloading sub-NDARFK610GY5_task-symbolSearch_eeg.json: 100%|██████████| 1.00/1.00 [00:00<00:00, 11.9B/s]\n",
            "Downloading sub-NDARFK610GY5_task-surroundSupp_run-2_eeg.json: 100%|██████████| 1.00/1.00 [00:00<00:00, 13.5B/s]\n",
            "Downloading sub-NDARFK610GY5_task-contrastChangeDetection_run-2_eeg.json: 100%|██████████| 1.00/1.00 [00:00<00:00, 13.1B/s]\n",
            "Downloading sub-NDARFK610GY5_task-DespicableMe_eeg.json: 100%|██████████| 1.00/1.00 [00:00<00:00, 12.0B/s]\n",
            "Downloading sub-NDARFK610GY5_task-contrastChangeDetection_run-1_eeg.json: 100%|██████████| 1.00/1.00 [00:00<00:00, 13.5B/s]\n",
            "Downloading sub-NDARFK610GY5_task-RestingState_eeg.json: 100%|██████████| 1.00/1.00 [00:00<00:00, 12.5B/s]\n",
            "Downloading sub-NDARFK610GY5_task-seqLearning8target_channels.tsv: 100%|██████████| 1.00/1.00 [00:00<00:00, 12.7B/s]\n",
            "Downloading sub-NDARFK610GY5_task-DiaryOfAWimpyKid_channels.tsv: 100%|██████████| 1.00/1.00 [00:00<00:00, 7.09B/s]\n",
            "Downloading sub-NDARFK610GY5_task-ThePresent_channels.tsv: 100%|██████████| 1.00/1.00 [00:00<00:00, 12.9B/s]\n",
            "Downloading sub-NDARFK610GY5_task-FunwithFractals_channels.tsv: 100%|██████████| 1.00/1.00 [00:00<00:00, 11.3B/s]\n",
            "Downloading sub-NDARFK610GY5_task-DespicableMe_channels.tsv: 100%|██████████| 1.00/1.00 [00:00<00:00, 12.1B/s]\n",
            "Downloading sub-NDARFK610GY5_task-contrastChangeDetection_run-3_channels.tsv: 100%|██████████| 1.00/1.00 [00:00<00:00, 10.8B/s]\n",
            "Downloading sub-NDARFK610GY5_task-contrastChangeDetection_run-1_channels.tsv: 100%|██████████| 1.00/1.00 [00:00<00:00, 13.2B/s]\n",
            "Downloading sub-NDARFK610GY5_task-contrastChangeDetection_run-2_channels.tsv: 100%|██████████| 1.00/1.00 [00:00<00:00, 12.9B/s]\n",
            "Downloading sub-NDARFK610GY5_task-surroundSupp_run-1_channels.tsv: 100%|██████████| 1.00/1.00 [00:00<00:00, 9.46B/s]\n",
            "Downloading sub-NDARFK610GY5_task-RestingState_channels.tsv: 100%|██████████| 1.00/1.00 [00:00<00:00, 4.55B/s]\n",
            "Downloading sub-NDARFK610GY5_task-surroundSupp_run-2_channels.tsv: 100%|██████████| 1.00/1.00 [00:00<00:00, 11.8B/s]\n",
            "Downloading sub-NDARFK610GY5_task-symbolSearch_channels.tsv: 100%|██████████| 1.00/1.00 [00:00<00:00, 10.3B/s]\n",
            "Downloading sub-NDARFK610GY5_task-contrastChangeDetection_run-2_eeg.bdf: 100%|██████████| 1.00/1.00 [00:00<00:00, 1.74B/s]\n",
            "Downloading sub-NDARFK610GY5_task-contrastChangeDetection_run-2_eeg.bdf: 100%|██████████| 1.00/1.00 [00:00<00:00, 5.10B/s]\n",
            "Downloading sub-NDARFK610GY5_task-contrastChangeDetection_run-3_eeg.bdf: 100%|██████████| 1.00/1.00 [00:00<00:00, 3.62B/s]\n",
            "Downloading sub-NDARFK610GY5_task-contrastChangeDetection_run-3_eeg.bdf: 100%|██████████| 1.00/1.00 [00:00<00:00, 4.51B/s]\n",
            "Downloading sub-NDARFK610GY5_task-contrastChangeDetection_run-1_eeg.bdf: 100%|██████████| 1.00/1.00 [00:00<00:00, 2.85B/s]\n",
            "Downloading sub-NDARFK610GY5_task-contrastChangeDetection_run-1_eeg.bdf: 100%|██████████| 1.00/1.00 [00:00<00:00, 4.72B/s]\n",
            "Downloading sub-NDARFT581ZW5_task-contrastChangeDetection_run-1_events.tsv: 100%|██████████| 1.00/1.00 [00:00<00:00, 6.09B/s]\n",
            "Downloading sub-NDARFT581ZW5_task-symbolSearch_events.tsv: 100%|██████████| 1.00/1.00 [00:00<00:00, 13.5B/s]\n",
            "Downloading sub-NDARFT581ZW5_task-DespicableMe_events.tsv: 100%|██████████| 1.00/1.00 [00:00<00:00, 13.4B/s]\n",
            "Downloading sub-NDARFT581ZW5_task-surroundSupp_run-1_events.tsv: 100%|██████████| 1.00/1.00 [00:00<00:00, 8.17B/s]\n",
            "Downloading sub-NDARFT581ZW5_task-RestingState_events.tsv: 100%|██████████| 1.00/1.00 [00:00<00:00, 13.0B/s]\n",
            "Downloading sub-NDARFT581ZW5_task-FunwithFractals_events.tsv: 100%|██████████| 1.00/1.00 [00:00<00:00, 10.3B/s]\n",
            "Downloading sub-NDARFT581ZW5_task-seqLearning6target_events.tsv: 100%|██████████| 1.00/1.00 [00:00<00:00, 10.4B/s]\n",
            "Downloading sub-NDARFT581ZW5_task-ThePresent_events.tsv: 100%|██████████| 1.00/1.00 [00:00<00:00, 14.5B/s]\n",
            "Downloading sub-NDARFT581ZW5_task-contrastChangeDetection_run-2_events.tsv: 100%|██████████| 1.00/1.00 [00:00<00:00, 11.3B/s]\n",
            "Downloading sub-NDARFT581ZW5_task-DiaryOfAWimpyKid_events.tsv: 100%|██████████| 1.00/1.00 [00:00<00:00, 13.2B/s]\n",
            "Downloading sub-NDARFT581ZW5_task-contrastChangeDetection_run-3_events.tsv: 100%|██████████| 1.00/1.00 [00:00<00:00, 10.4B/s]\n",
            "Downloading sub-NDARFT581ZW5_task-surroundSupp_run-2_events.tsv: 100%|██████████| 1.00/1.00 [00:00<00:00, 11.7B/s]\n",
            "Downloading sub-NDARFT581ZW5_task-symbolSearch_eeg.json: 100%|██████████| 1.00/1.00 [00:00<00:00, 13.9B/s]\n",
            "Downloading sub-NDARFT581ZW5_task-contrastChangeDetection_run-1_eeg.json: 100%|██████████| 1.00/1.00 [00:00<00:00, 13.0B/s]\n",
            "Downloading sub-NDARFT581ZW5_task-RestingState_eeg.json: 100%|██████████| 1.00/1.00 [00:00<00:00, 12.3B/s]\n",
            "Downloading sub-NDARFT581ZW5_task-surroundSupp_run-1_eeg.json: 100%|██████████| 1.00/1.00 [00:00<00:00, 13.3B/s]\n",
            "Downloading sub-NDARFT581ZW5_task-contrastChangeDetection_run-3_eeg.json: 100%|██████████| 1.00/1.00 [00:00<00:00, 13.4B/s]\n",
            "Downloading sub-NDARFT581ZW5_task-ThePresent_eeg.json: 100%|██████████| 1.00/1.00 [00:00<00:00, 11.7B/s]\n",
            "Downloading sub-NDARFT581ZW5_task-contrastChangeDetection_run-2_eeg.json: 100%|██████████| 1.00/1.00 [00:00<00:00, 13.5B/s]\n",
            "Downloading sub-NDARFT581ZW5_task-DiaryOfAWimpyKid_eeg.json: 100%|██████████| 1.00/1.00 [00:00<00:00, 10.5B/s]\n",
            "Downloading sub-NDARFT581ZW5_task-FunwithFractals_eeg.json: 100%|██████████| 1.00/1.00 [00:00<00:00, 11.4B/s]\n",
            "Downloading sub-NDARFT581ZW5_task-seqLearning6target_eeg.json: 100%|██████████| 1.00/1.00 [00:00<00:00, 13.1B/s]\n",
            "Downloading sub-NDARFT581ZW5_task-DespicableMe_eeg.json: 100%|██████████| 1.00/1.00 [00:00<00:00, 13.2B/s]\n",
            "Downloading sub-NDARFT581ZW5_task-surroundSupp_run-2_eeg.json: 100%|██████████| 1.00/1.00 [00:00<00:00, 13.5B/s]\n",
            "Downloading sub-NDARFT581ZW5_task-FunwithFractals_channels.tsv: 100%|██████████| 1.00/1.00 [00:00<00:00, 13.0B/s]\n",
            "Downloading sub-NDARFT581ZW5_task-contrastChangeDetection_run-2_channels.tsv: 100%|██████████| 1.00/1.00 [00:00<00:00, 11.1B/s]\n",
            "Downloading sub-NDARFT581ZW5_task-RestingState_channels.tsv: 100%|██████████| 1.00/1.00 [00:00<00:00, 11.9B/s]\n",
            "Downloading sub-NDARFT581ZW5_task-contrastChangeDetection_run-3_channels.tsv: 100%|██████████| 1.00/1.00 [00:00<00:00, 11.3B/s]\n",
            "Downloading sub-NDARFT581ZW5_task-ThePresent_channels.tsv: 100%|██████████| 1.00/1.00 [00:00<00:00, 11.1B/s]\n",
            "Downloading sub-NDARFT581ZW5_task-DespicableMe_channels.tsv: 100%|██████████| 1.00/1.00 [00:00<00:00, 11.0B/s]\n",
            "Downloading sub-NDARFT581ZW5_task-surroundSupp_run-1_channels.tsv: 100%|██████████| 1.00/1.00 [00:00<00:00, 12.0B/s]\n",
            "Downloading sub-NDARFT581ZW5_task-symbolSearch_channels.tsv: 100%|██████████| 1.00/1.00 [00:00<00:00, 9.74B/s]\n",
            "Downloading sub-NDARFT581ZW5_task-contrastChangeDetection_run-1_channels.tsv: 100%|██████████| 1.00/1.00 [00:00<00:00, 11.3B/s]\n",
            "Downloading sub-NDARFT581ZW5_task-DiaryOfAWimpyKid_channels.tsv: 100%|██████████| 1.00/1.00 [00:00<00:00, 11.6B/s]\n",
            "Downloading sub-NDARFT581ZW5_task-surroundSupp_run-2_channels.tsv: 100%|██████████| 1.00/1.00 [00:00<00:00, 11.1B/s]\n",
            "Downloading sub-NDARFT581ZW5_task-seqLearning6target_channels.tsv: 100%|██████████| 1.00/1.00 [00:00<00:00, 8.89B/s]\n",
            "Downloading sub-NDARFT581ZW5_task-contrastChangeDetection_run-3_eeg.bdf: 100%|██████████| 1.00/1.00 [00:00<00:00, 1.26B/s]\n",
            "Downloading sub-NDARFT581ZW5_task-contrastChangeDetection_run-3_eeg.bdf: 100%|██████████| 1.00/1.00 [00:00<00:00, 2.95B/s]\n",
            "Downloading sub-NDARFT581ZW5_task-contrastChangeDetection_run-1_eeg.bdf: 100%|██████████| 1.00/1.00 [00:00<00:00, 3.01B/s]\n",
            "Downloading sub-NDARFT581ZW5_task-contrastChangeDetection_run-1_eeg.bdf: 100%|██████████| 1.00/1.00 [00:00<00:00, 3.04B/s]\n",
            "Downloading sub-NDARFT581ZW5_task-contrastChangeDetection_run-2_eeg.bdf: 100%|██████████| 1.00/1.00 [00:00<00:00, 1.82B/s]\n",
            "Downloading sub-NDARFT581ZW5_task-contrastChangeDetection_run-2_eeg.bdf: 100%|██████████| 1.00/1.00 [00:00<00:00, 1.56B/s]\n",
            "Downloading sub-NDARFW972KFQ_task-symbolSearch_events.tsv: 100%|██████████| 1.00/1.00 [00:00<00:00, 12.9B/s]\n",
            "Downloading sub-NDARFW972KFQ_task-DespicableMe_events.tsv: 100%|██████████| 1.00/1.00 [00:00<00:00, 13.1B/s]\n",
            "Downloading sub-NDARFW972KFQ_task-seqLearning8target_events.tsv: 100%|██████████| 1.00/1.00 [00:00<00:00, 8.58B/s]\n",
            "Downloading sub-NDARFW972KFQ_task-contrastChangeDetection_run-1_events.tsv: 100%|██████████| 1.00/1.00 [00:00<00:00, 13.6B/s]\n",
            "Downloading sub-NDARFW972KFQ_task-FunwithFractals_events.tsv: 100%|██████████| 1.00/1.00 [00:00<00:00, 11.7B/s]\n",
            "Downloading sub-NDARFW972KFQ_task-DiaryOfAWimpyKid_events.tsv: 100%|██████████| 1.00/1.00 [00:00<00:00, 11.5B/s]\n",
            "Downloading sub-NDARFW972KFQ_task-contrastChangeDetection_run-2_events.tsv: 100%|██████████| 1.00/1.00 [00:00<00:00, 12.3B/s]\n",
            "Downloading sub-NDARFW972KFQ_task-surroundSupp_run-2_events.tsv: 100%|██████████| 1.00/1.00 [00:00<00:00, 11.9B/s]\n",
            "Downloading sub-NDARFW972KFQ_task-ThePresent_events.tsv: 100%|██████████| 1.00/1.00 [00:00<00:00, 14.3B/s]\n",
            "Downloading sub-NDARFW972KFQ_task-contrastChangeDetection_run-3_events.tsv: 100%|██████████| 1.00/1.00 [00:00<00:00, 8.52B/s]\n",
            "Downloading sub-NDARFW972KFQ_task-RestingState_events.tsv: 100%|██████████| 1.00/1.00 [00:00<00:00, 13.0B/s]\n",
            "Downloading sub-NDARFW972KFQ_task-surroundSupp_run-1_events.tsv: 100%|██████████| 1.00/1.00 [00:00<00:00, 10.4B/s]\n",
            "Downloading sub-NDARFW972KFQ_task-ThePresent_eeg.json: 100%|██████████| 1.00/1.00 [00:00<00:00, 13.2B/s]\n",
            "Downloading sub-NDARFW972KFQ_task-contrastChangeDetection_run-1_eeg.json: 100%|██████████| 1.00/1.00 [00:00<00:00, 13.2B/s]\n",
            "Downloading sub-NDARFW972KFQ_task-seqLearning8target_eeg.json: 100%|██████████| 1.00/1.00 [00:00<00:00, 13.2B/s]\n",
            "Downloading sub-NDARFW972KFQ_task-DespicableMe_eeg.json: 100%|██████████| 1.00/1.00 [00:00<00:00, 13.5B/s]\n",
            "Downloading sub-NDARFW972KFQ_task-DiaryOfAWimpyKid_eeg.json: 100%|██████████| 1.00/1.00 [00:00<00:00, 13.0B/s]\n",
            "Downloading sub-NDARFW972KFQ_task-surroundSupp_run-2_eeg.json: 100%|██████████| 1.00/1.00 [00:00<00:00, 12.4B/s]\n",
            "Downloading sub-NDARFW972KFQ_task-contrastChangeDetection_run-2_eeg.json: 100%|██████████| 1.00/1.00 [00:00<00:00, 13.3B/s]\n",
            "Downloading sub-NDARFW972KFQ_task-symbolSearch_eeg.json: 100%|██████████| 1.00/1.00 [00:00<00:00, 13.6B/s]\n",
            "Downloading sub-NDARFW972KFQ_task-contrastChangeDetection_run-3_eeg.json: 100%|██████████| 1.00/1.00 [00:00<00:00, 10.7B/s]\n",
            "Downloading sub-NDARFW972KFQ_task-surroundSupp_run-1_eeg.json: 100%|██████████| 1.00/1.00 [00:00<00:00, 13.4B/s]\n",
            "Downloading sub-NDARFW972KFQ_task-FunwithFractals_eeg.json: 100%|██████████| 1.00/1.00 [00:00<00:00, 12.7B/s]\n",
            "Downloading sub-NDARFW972KFQ_task-RestingState_eeg.json: 100%|██████████| 1.00/1.00 [00:00<00:00, 10.7B/s]\n",
            "Downloading sub-NDARFW972KFQ_task-ThePresent_channels.tsv: 100%|██████████| 1.00/1.00 [00:00<00:00, 9.66B/s]\n",
            "Downloading sub-NDARFW972KFQ_task-contrastChangeDetection_run-1_channels.tsv: 100%|██████████| 1.00/1.00 [00:00<00:00, 5.92B/s]\n",
            "Downloading sub-NDARFW972KFQ_task-surroundSupp_run-1_channels.tsv: 100%|██████████| 1.00/1.00 [00:00<00:00, 11.2B/s]\n",
            "Downloading sub-NDARFW972KFQ_task-surroundSupp_run-2_channels.tsv: 100%|██████████| 1.00/1.00 [00:00<00:00, 11.4B/s]\n",
            "Downloading sub-NDARFW972KFQ_task-RestingState_channels.tsv: 100%|██████████| 1.00/1.00 [00:00<00:00, 9.06B/s]\n",
            "Downloading sub-NDARFW972KFQ_task-DiaryOfAWimpyKid_channels.tsv: 100%|██████████| 1.00/1.00 [00:00<00:00, 10.8B/s]\n",
            "Downloading sub-NDARFW972KFQ_task-seqLearning8target_channels.tsv: 100%|██████████| 1.00/1.00 [00:00<00:00, 10.7B/s]\n",
            "Downloading sub-NDARFW972KFQ_task-DespicableMe_channels.tsv: 100%|██████████| 1.00/1.00 [00:00<00:00, 10.2B/s]\n",
            "Downloading sub-NDARFW972KFQ_task-contrastChangeDetection_run-3_channels.tsv: 100%|██████████| 1.00/1.00 [00:00<00:00, 10.2B/s]\n",
            "Downloading sub-NDARFW972KFQ_task-symbolSearch_channels.tsv: 100%|██████████| 1.00/1.00 [00:00<00:00, 12.5B/s]\n",
            "Downloading sub-NDARFW972KFQ_task-contrastChangeDetection_run-2_channels.tsv: 100%|██████████| 1.00/1.00 [00:00<00:00, 7.70B/s]\n",
            "Downloading sub-NDARFW972KFQ_task-FunwithFractals_channels.tsv: 100%|██████████| 1.00/1.00 [00:00<00:00, 8.69B/s]\n",
            "Downloading sub-NDARFW972KFQ_task-contrastChangeDetection_run-1_eeg.bdf: 100%|██████████| 1.00/1.00 [00:00<00:00, 1.57B/s]\n",
            "Downloading sub-NDARFW972KFQ_task-contrastChangeDetection_run-1_eeg.bdf: 100%|██████████| 1.00/1.00 [00:00<00:00, 3.55B/s]\n",
            "Downloading sub-NDARFW972KFQ_task-contrastChangeDetection_run-2_eeg.bdf: 100%|██████████| 1.00/1.00 [00:00<00:00, 3.10B/s]\n",
            "Downloading sub-NDARFW972KFQ_task-contrastChangeDetection_run-2_eeg.bdf: 100%|██████████| 1.00/1.00 [00:00<00:00, 3.96B/s]\n",
            "Downloading sub-NDARFW972KFQ_task-contrastChangeDetection_run-3_eeg.bdf: 100%|██████████| 1.00/1.00 [00:00<00:00, 3.23B/s]\n",
            "Downloading sub-NDARFW972KFQ_task-contrastChangeDetection_run-3_eeg.bdf: 100%|██████████| 1.00/1.00 [00:00<00:00, 3.89B/s]"
          ]
        },
        {
          "output_type": "stream",
          "name": "stdout",
          "text": [
            "Used Annotations descriptions: [np.str_('stimulus_anchor')]\n",
            "Used Annotations descriptions: [np.str_('stimulus_anchor')]\n",
            "Used Annotations descriptions: [np.str_('stimulus_anchor')]\n",
            "Used Annotations descriptions: [np.str_('stimulus_anchor')]\n",
            "Used Annotations descriptions: [np.str_('stimulus_anchor')]\n",
            "Used Annotations descriptions: [np.str_('stimulus_anchor')]\n",
            "Used Annotations descriptions: [np.str_('stimulus_anchor')]\n",
            "Used Annotations descriptions: [np.str_('stimulus_anchor')]\n",
            "Used Annotations descriptions: [np.str_('stimulus_anchor')]\n",
            "Used Annotations descriptions: [np.str_('stimulus_anchor')]\n",
            "Used Annotations descriptions: [np.str_('stimulus_anchor')]\n",
            "Used Annotations descriptions: [np.str_('stimulus_anchor')]\n",
            "Used Annotations descriptions: [np.str_('stimulus_anchor')]\n",
            "Used Annotations descriptions: [np.str_('stimulus_anchor')]\n",
            "Used Annotations descriptions: [np.str_('stimulus_anchor')]\n",
            "Used Annotations descriptions: [np.str_('stimulus_anchor')]\n",
            "Used Annotations descriptions: [np.str_('stimulus_anchor')]\n",
            "Used Annotations descriptions: [np.str_('stimulus_anchor')]\n",
            "Used Annotations descriptions: [np.str_('stimulus_anchor')]\n",
            "Used Annotations descriptions: [np.str_('stimulus_anchor')]\n",
            "Used Annotations descriptions: [np.str_('stimulus_anchor')]\n",
            "Used Annotations descriptions: [np.str_('stimulus_anchor')]\n",
            "Used Annotations descriptions: [np.str_('stimulus_anchor')]\n"
          ]
        },
        {
          "output_type": "stream",
          "name": "stderr",
          "text": [
            "\n"
          ]
        },
        {
          "output_type": "stream",
          "name": "stdout",
          "text": [
            "Used Annotations descriptions: [np.str_('stimulus_anchor')]\n",
            "Used Annotations descriptions: [np.str_('stimulus_anchor')]\n",
            "Used Annotations descriptions: [np.str_('stimulus_anchor')]\n",
            "Used Annotations descriptions: [np.str_('stimulus_anchor')]\n",
            "Used Annotations descriptions: [np.str_('stimulus_anchor')]\n",
            "Used Annotations descriptions: [np.str_('stimulus_anchor')]\n",
            "Used Annotations descriptions: [np.str_('stimulus_anchor')]\n",
            "Used Annotations descriptions: [np.str_('stimulus_anchor')]\n",
            "Used Annotations descriptions: [np.str_('stimulus_anchor')]\n",
            "Used Annotations descriptions: [np.str_('stimulus_anchor')]\n",
            "Used Annotations descriptions: [np.str_('stimulus_anchor')]\n",
            "Used Annotations descriptions: [np.str_('stimulus_anchor')]\n",
            "Used Annotations descriptions: [np.str_('stimulus_anchor')]\n",
            "Used Annotations descriptions: [np.str_('stimulus_anchor')]\n",
            "Used Annotations descriptions: [np.str_('stimulus_anchor')]\n",
            "Used Annotations descriptions: [np.str_('stimulus_anchor')]\n",
            "Used Annotations descriptions: [np.str_('stimulus_anchor')]\n",
            "Used Annotations descriptions: [np.str_('stimulus_anchor')]\n",
            "Used Annotations descriptions: [np.str_('stimulus_anchor')]\n",
            "Used Annotations descriptions: [np.str_('stimulus_anchor')]\n",
            "Used Annotations descriptions: [np.str_('stimulus_anchor')]\n",
            "Used Annotations descriptions: [np.str_('stimulus_anchor')]\n",
            "Used Annotations descriptions: [np.str_('stimulus_anchor')]\n",
            "Used Annotations descriptions: [np.str_('stimulus_anchor')]\n",
            "Used Annotations descriptions: [np.str_('stimulus_anchor')]\n",
            "Used Annotations descriptions: [np.str_('stimulus_anchor')]\n",
            "Used Annotations descriptions: [np.str_('stimulus_anchor')]\n",
            "Used Annotations descriptions: [np.str_('stimulus_anchor')]\n",
            "Used Annotations descriptions: [np.str_('stimulus_anchor')]\n",
            "Used Annotations descriptions: [np.str_('stimulus_anchor')]\n",
            "Used Annotations descriptions: [np.str_('stimulus_anchor')]\n",
            "Used Annotations descriptions: [np.str_('stimulus_anchor')]\n",
            "Used Annotations descriptions: [np.str_('stimulus_anchor')]\n",
            "Used Annotations descriptions: [np.str_('stimulus_anchor')]\n",
            "Used Annotations descriptions: [np.str_('stimulus_anchor')]\n",
            "Used Annotations descriptions: [np.str_('stimulus_anchor')]\n",
            "Used Annotations descriptions: [np.str_('stimulus_anchor')]\n"
          ]
        }
      ]
    },
    {
      "cell_type": "code",
      "source": [
        "# for each windows, we can extract the metainformation using:\n",
        "\n",
        "meta_information = single_windows.get_metadata()"
      ],
      "metadata": {
        "id": "YChXC51uVaXl"
      },
      "execution_count": 8,
      "outputs": []
    },
    {
      "cell_type": "code",
      "source": [
        "meta_information.head()"
      ],
      "metadata": {
        "colab": {
          "base_uri": "https://localhost:8080/",
          "height": 255
        },
        "id": "ytcEx3rPVb-G",
        "outputId": "4116fcb5-844f-4ec1-b867-6d8f3db7e854"
      },
      "execution_count": 9,
      "outputs": [
        {
          "output_type": "execute_result",
          "data": {
            "text/plain": [
              "   i_window_in_trial  i_start_in_trial  i_stop_in_trial  target  \\\n",
              "0                  0              4278             4478    2.13   \n",
              "1                  0              4798             4998    1.96   \n",
              "2                  0              5478             5678    2.02   \n",
              "3                  0              6318             6518    1.72   \n",
              "4                  0              6838             7038     1.8   \n",
              "\n",
              "   rt_from_stimulus  rt_from_trialstart  stimulus_onset  response_onset  \\\n",
              "0              2.13                4.93          42.284          44.414   \n",
              "1              1.96                4.76          47.484          49.444   \n",
              "2              2.02                6.42          54.284          56.304   \n",
              "3              1.72                7.72          62.684          64.404   \n",
              "4               1.8                 4.6          67.884          69.684   \n",
              "\n",
              "   correct      response_type  ... thepresent  diaryofawimpykid  \\\n",
              "0        1  right_buttonPress  ...  available         available   \n",
              "1        1  right_buttonPress  ...  available         available   \n",
              "2        1  right_buttonPress  ...  available         available   \n",
              "3        1  right_buttonPress  ...  available         available   \n",
              "4        1   left_buttonPress  ...  available         available   \n",
              "\n",
              "  contrastchangedetection_1  contrastchangedetection_2  \\\n",
              "0                 available                  available   \n",
              "1                 available                  available   \n",
              "2                 available                  available   \n",
              "3                 available                  available   \n",
              "4                 available                  available   \n",
              "\n",
              "  contrastchangedetection_3 surroundsupp_1  surroundsupp_2 seqlearning6target  \\\n",
              "0                 available      available       available        unavailable   \n",
              "1                 available      available       available        unavailable   \n",
              "2                 available      available       available        unavailable   \n",
              "3                 available      available       available        unavailable   \n",
              "4                 available      available       available        unavailable   \n",
              "\n",
              "  seqlearning8target  symbolsearch  \n",
              "0          available     available  \n",
              "1          available     available  \n",
              "2          available     available  \n",
              "3          available     available  \n",
              "4          available     available  \n",
              "\n",
              "[5 rows x 36 columns]"
            ],
            "text/html": [
              "\n",
              "  <div id=\"df-ce3eeb0a-23d0-4229-9988-7f72187a3485\" class=\"colab-df-container\">\n",
              "    <div>\n",
              "<style scoped>\n",
              "    .dataframe tbody tr th:only-of-type {\n",
              "        vertical-align: middle;\n",
              "    }\n",
              "\n",
              "    .dataframe tbody tr th {\n",
              "        vertical-align: top;\n",
              "    }\n",
              "\n",
              "    .dataframe thead th {\n",
              "        text-align: right;\n",
              "    }\n",
              "</style>\n",
              "<table border=\"1\" class=\"dataframe\">\n",
              "  <thead>\n",
              "    <tr style=\"text-align: right;\">\n",
              "      <th></th>\n",
              "      <th>i_window_in_trial</th>\n",
              "      <th>i_start_in_trial</th>\n",
              "      <th>i_stop_in_trial</th>\n",
              "      <th>target</th>\n",
              "      <th>rt_from_stimulus</th>\n",
              "      <th>rt_from_trialstart</th>\n",
              "      <th>stimulus_onset</th>\n",
              "      <th>response_onset</th>\n",
              "      <th>correct</th>\n",
              "      <th>response_type</th>\n",
              "      <th>...</th>\n",
              "      <th>thepresent</th>\n",
              "      <th>diaryofawimpykid</th>\n",
              "      <th>contrastchangedetection_1</th>\n",
              "      <th>contrastchangedetection_2</th>\n",
              "      <th>contrastchangedetection_3</th>\n",
              "      <th>surroundsupp_1</th>\n",
              "      <th>surroundsupp_2</th>\n",
              "      <th>seqlearning6target</th>\n",
              "      <th>seqlearning8target</th>\n",
              "      <th>symbolsearch</th>\n",
              "    </tr>\n",
              "  </thead>\n",
              "  <tbody>\n",
              "    <tr>\n",
              "      <th>0</th>\n",
              "      <td>0</td>\n",
              "      <td>4278</td>\n",
              "      <td>4478</td>\n",
              "      <td>2.13</td>\n",
              "      <td>2.13</td>\n",
              "      <td>4.93</td>\n",
              "      <td>42.284</td>\n",
              "      <td>44.414</td>\n",
              "      <td>1</td>\n",
              "      <td>right_buttonPress</td>\n",
              "      <td>...</td>\n",
              "      <td>available</td>\n",
              "      <td>available</td>\n",
              "      <td>available</td>\n",
              "      <td>available</td>\n",
              "      <td>available</td>\n",
              "      <td>available</td>\n",
              "      <td>available</td>\n",
              "      <td>unavailable</td>\n",
              "      <td>available</td>\n",
              "      <td>available</td>\n",
              "    </tr>\n",
              "    <tr>\n",
              "      <th>1</th>\n",
              "      <td>0</td>\n",
              "      <td>4798</td>\n",
              "      <td>4998</td>\n",
              "      <td>1.96</td>\n",
              "      <td>1.96</td>\n",
              "      <td>4.76</td>\n",
              "      <td>47.484</td>\n",
              "      <td>49.444</td>\n",
              "      <td>1</td>\n",
              "      <td>right_buttonPress</td>\n",
              "      <td>...</td>\n",
              "      <td>available</td>\n",
              "      <td>available</td>\n",
              "      <td>available</td>\n",
              "      <td>available</td>\n",
              "      <td>available</td>\n",
              "      <td>available</td>\n",
              "      <td>available</td>\n",
              "      <td>unavailable</td>\n",
              "      <td>available</td>\n",
              "      <td>available</td>\n",
              "    </tr>\n",
              "    <tr>\n",
              "      <th>2</th>\n",
              "      <td>0</td>\n",
              "      <td>5478</td>\n",
              "      <td>5678</td>\n",
              "      <td>2.02</td>\n",
              "      <td>2.02</td>\n",
              "      <td>6.42</td>\n",
              "      <td>54.284</td>\n",
              "      <td>56.304</td>\n",
              "      <td>1</td>\n",
              "      <td>right_buttonPress</td>\n",
              "      <td>...</td>\n",
              "      <td>available</td>\n",
              "      <td>available</td>\n",
              "      <td>available</td>\n",
              "      <td>available</td>\n",
              "      <td>available</td>\n",
              "      <td>available</td>\n",
              "      <td>available</td>\n",
              "      <td>unavailable</td>\n",
              "      <td>available</td>\n",
              "      <td>available</td>\n",
              "    </tr>\n",
              "    <tr>\n",
              "      <th>3</th>\n",
              "      <td>0</td>\n",
              "      <td>6318</td>\n",
              "      <td>6518</td>\n",
              "      <td>1.72</td>\n",
              "      <td>1.72</td>\n",
              "      <td>7.72</td>\n",
              "      <td>62.684</td>\n",
              "      <td>64.404</td>\n",
              "      <td>1</td>\n",
              "      <td>right_buttonPress</td>\n",
              "      <td>...</td>\n",
              "      <td>available</td>\n",
              "      <td>available</td>\n",
              "      <td>available</td>\n",
              "      <td>available</td>\n",
              "      <td>available</td>\n",
              "      <td>available</td>\n",
              "      <td>available</td>\n",
              "      <td>unavailable</td>\n",
              "      <td>available</td>\n",
              "      <td>available</td>\n",
              "    </tr>\n",
              "    <tr>\n",
              "      <th>4</th>\n",
              "      <td>0</td>\n",
              "      <td>6838</td>\n",
              "      <td>7038</td>\n",
              "      <td>1.8</td>\n",
              "      <td>1.8</td>\n",
              "      <td>4.6</td>\n",
              "      <td>67.884</td>\n",
              "      <td>69.684</td>\n",
              "      <td>1</td>\n",
              "      <td>left_buttonPress</td>\n",
              "      <td>...</td>\n",
              "      <td>available</td>\n",
              "      <td>available</td>\n",
              "      <td>available</td>\n",
              "      <td>available</td>\n",
              "      <td>available</td>\n",
              "      <td>available</td>\n",
              "      <td>available</td>\n",
              "      <td>unavailable</td>\n",
              "      <td>available</td>\n",
              "      <td>available</td>\n",
              "    </tr>\n",
              "  </tbody>\n",
              "</table>\n",
              "<p>5 rows × 36 columns</p>\n",
              "</div>\n",
              "    <div class=\"colab-df-buttons\">\n",
              "\n",
              "  <div class=\"colab-df-container\">\n",
              "    <button class=\"colab-df-convert\" onclick=\"convertToInteractive('df-ce3eeb0a-23d0-4229-9988-7f72187a3485')\"\n",
              "            title=\"Convert this dataframe to an interactive table.\"\n",
              "            style=\"display:none;\">\n",
              "\n",
              "  <svg xmlns=\"http://www.w3.org/2000/svg\" height=\"24px\" viewBox=\"0 -960 960 960\">\n",
              "    <path d=\"M120-120v-720h720v720H120Zm60-500h600v-160H180v160Zm220 220h160v-160H400v160Zm0 220h160v-160H400v160ZM180-400h160v-160H180v160Zm440 0h160v-160H620v160ZM180-180h160v-160H180v160Zm440 0h160v-160H620v160Z\"/>\n",
              "  </svg>\n",
              "    </button>\n",
              "\n",
              "  <style>\n",
              "    .colab-df-container {\n",
              "      display:flex;\n",
              "      gap: 12px;\n",
              "    }\n",
              "\n",
              "    .colab-df-convert {\n",
              "      background-color: #E8F0FE;\n",
              "      border: none;\n",
              "      border-radius: 50%;\n",
              "      cursor: pointer;\n",
              "      display: none;\n",
              "      fill: #1967D2;\n",
              "      height: 32px;\n",
              "      padding: 0 0 0 0;\n",
              "      width: 32px;\n",
              "    }\n",
              "\n",
              "    .colab-df-convert:hover {\n",
              "      background-color: #E2EBFA;\n",
              "      box-shadow: 0px 1px 2px rgba(60, 64, 67, 0.3), 0px 1px 3px 1px rgba(60, 64, 67, 0.15);\n",
              "      fill: #174EA6;\n",
              "    }\n",
              "\n",
              "    .colab-df-buttons div {\n",
              "      margin-bottom: 4px;\n",
              "    }\n",
              "\n",
              "    [theme=dark] .colab-df-convert {\n",
              "      background-color: #3B4455;\n",
              "      fill: #D2E3FC;\n",
              "    }\n",
              "\n",
              "    [theme=dark] .colab-df-convert:hover {\n",
              "      background-color: #434B5C;\n",
              "      box-shadow: 0px 1px 3px 1px rgba(0, 0, 0, 0.15);\n",
              "      filter: drop-shadow(0px 1px 2px rgba(0, 0, 0, 0.3));\n",
              "      fill: #FFFFFF;\n",
              "    }\n",
              "  </style>\n",
              "\n",
              "    <script>\n",
              "      const buttonEl =\n",
              "        document.querySelector('#df-ce3eeb0a-23d0-4229-9988-7f72187a3485 button.colab-df-convert');\n",
              "      buttonEl.style.display =\n",
              "        google.colab.kernel.accessAllowed ? 'block' : 'none';\n",
              "\n",
              "      async function convertToInteractive(key) {\n",
              "        const element = document.querySelector('#df-ce3eeb0a-23d0-4229-9988-7f72187a3485');\n",
              "        const dataTable =\n",
              "          await google.colab.kernel.invokeFunction('convertToInteractive',\n",
              "                                                    [key], {});\n",
              "        if (!dataTable) return;\n",
              "\n",
              "        const docLinkHtml = 'Like what you see? Visit the ' +\n",
              "          '<a target=\"_blank\" href=https://colab.research.google.com/notebooks/data_table.ipynb>data table notebook</a>'\n",
              "          + ' to learn more about interactive tables.';\n",
              "        element.innerHTML = '';\n",
              "        dataTable['output_type'] = 'display_data';\n",
              "        await google.colab.output.renderOutput(dataTable, element);\n",
              "        const docLink = document.createElement('div');\n",
              "        docLink.innerHTML = docLinkHtml;\n",
              "        element.appendChild(docLink);\n",
              "      }\n",
              "    </script>\n",
              "  </div>\n",
              "\n",
              "\n",
              "    <div id=\"df-69b7eab7-64cc-44a7-b106-8a9b86a0fd10\">\n",
              "      <button class=\"colab-df-quickchart\" onclick=\"quickchart('df-69b7eab7-64cc-44a7-b106-8a9b86a0fd10')\"\n",
              "                title=\"Suggest charts\"\n",
              "                style=\"display:none;\">\n",
              "\n",
              "<svg xmlns=\"http://www.w3.org/2000/svg\" height=\"24px\"viewBox=\"0 0 24 24\"\n",
              "     width=\"24px\">\n",
              "    <g>\n",
              "        <path d=\"M19 3H5c-1.1 0-2 .9-2 2v14c0 1.1.9 2 2 2h14c1.1 0 2-.9 2-2V5c0-1.1-.9-2-2-2zM9 17H7v-7h2v7zm4 0h-2V7h2v10zm4 0h-2v-4h2v4z\"/>\n",
              "    </g>\n",
              "</svg>\n",
              "      </button>\n",
              "\n",
              "<style>\n",
              "  .colab-df-quickchart {\n",
              "      --bg-color: #E8F0FE;\n",
              "      --fill-color: #1967D2;\n",
              "      --hover-bg-color: #E2EBFA;\n",
              "      --hover-fill-color: #174EA6;\n",
              "      --disabled-fill-color: #AAA;\n",
              "      --disabled-bg-color: #DDD;\n",
              "  }\n",
              "\n",
              "  [theme=dark] .colab-df-quickchart {\n",
              "      --bg-color: #3B4455;\n",
              "      --fill-color: #D2E3FC;\n",
              "      --hover-bg-color: #434B5C;\n",
              "      --hover-fill-color: #FFFFFF;\n",
              "      --disabled-bg-color: #3B4455;\n",
              "      --disabled-fill-color: #666;\n",
              "  }\n",
              "\n",
              "  .colab-df-quickchart {\n",
              "    background-color: var(--bg-color);\n",
              "    border: none;\n",
              "    border-radius: 50%;\n",
              "    cursor: pointer;\n",
              "    display: none;\n",
              "    fill: var(--fill-color);\n",
              "    height: 32px;\n",
              "    padding: 0;\n",
              "    width: 32px;\n",
              "  }\n",
              "\n",
              "  .colab-df-quickchart:hover {\n",
              "    background-color: var(--hover-bg-color);\n",
              "    box-shadow: 0 1px 2px rgba(60, 64, 67, 0.3), 0 1px 3px 1px rgba(60, 64, 67, 0.15);\n",
              "    fill: var(--button-hover-fill-color);\n",
              "  }\n",
              "\n",
              "  .colab-df-quickchart-complete:disabled,\n",
              "  .colab-df-quickchart-complete:disabled:hover {\n",
              "    background-color: var(--disabled-bg-color);\n",
              "    fill: var(--disabled-fill-color);\n",
              "    box-shadow: none;\n",
              "  }\n",
              "\n",
              "  .colab-df-spinner {\n",
              "    border: 2px solid var(--fill-color);\n",
              "    border-color: transparent;\n",
              "    border-bottom-color: var(--fill-color);\n",
              "    animation:\n",
              "      spin 1s steps(1) infinite;\n",
              "  }\n",
              "\n",
              "  @keyframes spin {\n",
              "    0% {\n",
              "      border-color: transparent;\n",
              "      border-bottom-color: var(--fill-color);\n",
              "      border-left-color: var(--fill-color);\n",
              "    }\n",
              "    20% {\n",
              "      border-color: transparent;\n",
              "      border-left-color: var(--fill-color);\n",
              "      border-top-color: var(--fill-color);\n",
              "    }\n",
              "    30% {\n",
              "      border-color: transparent;\n",
              "      border-left-color: var(--fill-color);\n",
              "      border-top-color: var(--fill-color);\n",
              "      border-right-color: var(--fill-color);\n",
              "    }\n",
              "    40% {\n",
              "      border-color: transparent;\n",
              "      border-right-color: var(--fill-color);\n",
              "      border-top-color: var(--fill-color);\n",
              "    }\n",
              "    60% {\n",
              "      border-color: transparent;\n",
              "      border-right-color: var(--fill-color);\n",
              "    }\n",
              "    80% {\n",
              "      border-color: transparent;\n",
              "      border-right-color: var(--fill-color);\n",
              "      border-bottom-color: var(--fill-color);\n",
              "    }\n",
              "    90% {\n",
              "      border-color: transparent;\n",
              "      border-bottom-color: var(--fill-color);\n",
              "    }\n",
              "  }\n",
              "</style>\n",
              "\n",
              "      <script>\n",
              "        async function quickchart(key) {\n",
              "          const quickchartButtonEl =\n",
              "            document.querySelector('#' + key + ' button');\n",
              "          quickchartButtonEl.disabled = true;  // To prevent multiple clicks.\n",
              "          quickchartButtonEl.classList.add('colab-df-spinner');\n",
              "          try {\n",
              "            const charts = await google.colab.kernel.invokeFunction(\n",
              "                'suggestCharts', [key], {});\n",
              "          } catch (error) {\n",
              "            console.error('Error during call to suggestCharts:', error);\n",
              "          }\n",
              "          quickchartButtonEl.classList.remove('colab-df-spinner');\n",
              "          quickchartButtonEl.classList.add('colab-df-quickchart-complete');\n",
              "        }\n",
              "        (() => {\n",
              "          let quickchartButtonEl =\n",
              "            document.querySelector('#df-69b7eab7-64cc-44a7-b106-8a9b86a0fd10 button');\n",
              "          quickchartButtonEl.style.display =\n",
              "            google.colab.kernel.accessAllowed ? 'block' : 'none';\n",
              "        })();\n",
              "      </script>\n",
              "    </div>\n",
              "\n",
              "    </div>\n",
              "  </div>\n"
            ],
            "application/vnd.google.colaboratory.intrinsic+json": {
              "type": "dataframe",
              "variable_name": "meta_information"
            }
          },
          "metadata": {},
          "execution_count": 9
        }
      ]
    },
    {
      "cell_type": "code",
      "source": [
        "import numpy as np\n",
        "male = 0\n",
        "female = 0\n",
        "\n",
        "subject_ids = meta_information[\"subject\"].unique()\n",
        "print(\"Subject ID's: \", subject_ids)\n",
        "print(\"Ages: \", meta_information[\"age\"].unique())\n",
        "\n",
        "participants_summary = meta_information[['subject', 'sex']].drop_duplicates()\n",
        "\n",
        "for i in participants_summary['sex']:\n",
        "  if i == 'M':\n",
        "    male +=1\n",
        "  elif i == 'F':\n",
        "    female +=1\n",
        "print(\"Num of Males: \", male, \". Num of Females: \", female)\n"
      ],
      "metadata": {
        "colab": {
          "base_uri": "https://localhost:8080/"
        },
        "id": "HMnLQClaVnw_",
        "outputId": "ec56e3aa-44cb-417e-a33a-e9a0deaa73f7"
      },
      "execution_count": 10,
      "outputs": [
        {
          "output_type": "stream",
          "name": "stdout",
          "text": [
            "Subject ID's:  ['NDARAC904DMU' 'NDARAM704GKZ' 'NDARAP359UM6' 'NDARBD879MBX'\n",
            " 'NDARBH024NH2' 'NDARBK082PDD' 'NDARCA153NKE' 'NDARCE721YB5'\n",
            " 'NDARCJ594BWQ' 'NDARCN669XPR' 'NDARCW094JCG' 'NDARCZ947WU5'\n",
            " 'NDARDH670PXH' 'NDARDL511UND' 'NDARDU986RBM' 'NDAREM731BYM'\n",
            " 'NDAREN519BLJ' 'NDARFK610GY5' 'NDARFT581ZW5' 'NDARFW972KFQ']\n",
            "Ages:  [11.3386 10.9449 12.8422 13.9757  8.6883  8.3652  6.7472  6.6821 12.4585\n",
            "  9.6883  8.453   9.3646 13.0092 10.2002  9.926  11.8507  7.0291 10.5204\n",
            "  6.7034 12.4397]\n",
            "Num of Males:  12 . Num of Females:  8\n"
          ]
        }
      ]
    },
    {
      "cell_type": "code",
      "source": [
        "from sklearn.model_selection import train_test_split\n",
        "from sklearn.utils import check_random_state\n",
        "\n",
        "\n",
        "subjects = meta_information[\"subject\"].unique()\n",
        "sub_rm = ['NDARAC904DMU' 'NDARAM704GKZ' 'NDARAP359UM6' 'NDARBD879MBX'\n",
        " 'NDARBH024NH2' 'NDARBK082PDD' 'NDARCA153NKE' 'NDARCE721YB5']\n",
        "subjects = [s for s in subjects if s not in sub_rm]\n",
        "\n",
        "train_subj, test_subj = train_test_split(\n",
        "    subjects, test_size= 0.2 ,random_state=check_random_state(42),shuffle=True)\n",
        "\n",
        "# sanity check\n",
        "assert (set(test_subj) | set(train_subj)) == set(subjects)"
      ],
      "metadata": {
        "id": "Hn0IXkikVeCO"
      },
      "execution_count": 11,
      "outputs": []
    },
    {
      "cell_type": "code",
      "source": [
        "# and finally using braindecode split function, we can do:\n",
        "subject_split = single_windows.split(\"subject\")\n",
        "\n",
        "train_set = []\n",
        "test_set = []\n",
        "\n",
        "for s in subject_split:\n",
        "    if s in train_subj:\n",
        "        train_set.append(subject_split[s])\n",
        "\n",
        "    elif s in test_subj:\n",
        "        test_set.append(subject_split[s])\n",
        "\n",
        "train_set = BaseConcatDataset(train_set)\n",
        "test_set = BaseConcatDataset(test_set)\n",
        "\n",
        "print(\"Number of examples in each split in the minirelease\")\n",
        "print(f\"Train:\\t{len(train_set)}\")\n",
        "print(f\"Test:\\t{len(test_set)}\")"
      ],
      "metadata": {
        "colab": {
          "base_uri": "https://localhost:8080/"
        },
        "id": "COBnIlQuWn2U",
        "outputId": "24b8f05b-24dd-4d21-d49d-d27abb5f97db"
      },
      "execution_count": 12,
      "outputs": [
        {
          "output_type": "stream",
          "name": "stdout",
          "text": [
            "Number of examples in each split in the minirelease\n",
            "Train:\t1215\n",
            "Test:\t298\n"
          ]
        }
      ]
    },
    {
      "cell_type": "code",
      "source": [
        "window_1 = train_set[15]\n",
        "#5816 - 5616 = 200 ms --> 2 second window\n",
        "print(\"Target of Window #1:\", window_1[1])\n",
        "window_1"
      ],
      "metadata": {
        "colab": {
          "base_uri": "https://localhost:8080/"
        },
        "id": "n2a6wF0iYs1v",
        "outputId": "aadd58c7-501a-4634-d285-818ee5f11798"
      },
      "execution_count": 39,
      "outputs": [
        {
          "output_type": "stream",
          "name": "stdout",
          "text": [
            "Target of Window #1: [1.68]\n"
          ]
        },
        {
          "output_type": "execute_result",
          "data": {
            "text/plain": [
              "(array([[ 8.4653084e-06,  6.9837538e-06,  8.5758184e-06, ...,\n",
              "         -2.2782110e-06,  4.8885527e-06,  9.5120104e-06],\n",
              "        [ 6.1124933e-06, -2.4088030e-07, -3.9789420e-06, ...,\n",
              "         -5.5053088e-06,  1.2936817e-06, -1.1614809e-06],\n",
              "        [ 1.0517597e-05,  5.1259985e-06,  3.1034187e-06, ...,\n",
              "          3.7373013e-06,  1.0063539e-05,  9.2520795e-06],\n",
              "        ...,\n",
              "        [ 2.3057412e-06,  1.9893582e-06,  2.7084332e-06, ...,\n",
              "         -1.5831420e-05, -3.9213096e-06,  7.7311079e-06],\n",
              "        [ 5.5845740e-06,  5.4351758e-06,  7.9951215e-06, ...,\n",
              "         -4.3637374e-06,  7.1913250e-06,  1.9386855e-05],\n",
              "        [ 5.0000005e-13,  5.0000005e-13,  5.0000005e-13, ...,\n",
              "          5.0000005e-13,  5.0000005e-13,  5.0000005e-13]], dtype=float32),\n",
              " array([1.68]),\n",
              " [0, 16336, 16536])"
            ]
          },
          "metadata": {},
          "execution_count": 39
        }
      ]
    },
    {
      "cell_type": "code",
      "source": [
        "EEG_1, target_1 = train_set[19][:2]  # first element = EEG, second = target\n",
        "print(EEG_1, target_1)"
      ],
      "metadata": {
        "colab": {
          "base_uri": "https://localhost:8080/"
        },
        "id": "NUlcjgwkdkx9",
        "outputId": "e6e31a6a-4c1c-47bb-c5d7-08d8ccb03a03"
      },
      "execution_count": 45,
      "outputs": [
        {
          "output_type": "stream",
          "name": "stdout",
          "text": [
            "[[ 2.0016765e-05  2.3812070e-05  2.2369599e-05 ...  2.1007763e-05\n",
            "   3.2342696e-06  5.9680483e-06]\n",
            " [ 1.6498276e-05  2.1771923e-05  2.3530147e-05 ...  1.8142789e-05\n",
            "  -8.4026742e-06 -4.7694430e-06]\n",
            " [ 1.1333552e-05  1.3054925e-05  1.1847851e-05 ...  8.8348861e-06\n",
            "  -1.4542344e-05 -1.2309818e-05]\n",
            " ...\n",
            " [ 4.0712137e-05  3.7377660e-05  2.8203536e-05 ...  8.9177292e-06\n",
            "   1.3918552e-06  2.5619549e-06]\n",
            " [ 3.6510963e-05  3.0853767e-05  2.2506803e-05 ...  2.9469270e-06\n",
            "   8.6279789e-07  6.8348832e-06]\n",
            " [ 5.0000005e-13  5.0000005e-13  5.0000005e-13 ...  5.0000005e-13\n",
            "   5.0000005e-13  5.0000005e-13]] [1.5]\n"
          ]
        }
      ]
    },
    {
      "cell_type": "code",
      "source": [
        "import matplotlib.pyplot as plt\n",
        "plt.plot(EEG_1.T)  # plot all channels over time\n",
        "plt.title(f\"Window EEG Data (Target RT: {target_1.item():.2f}s)\")\n",
        "plt.xlabel(\"Time samples\")\n",
        "plt.ylabel(\"Amplitude\")\n",
        "plt.show()"
      ],
      "metadata": {
        "colab": {
          "base_uri": "https://localhost:8080/",
          "height": 472
        },
        "id": "sJBaf3viq2rS",
        "outputId": "15e575b4-cb45-4c28-9286-5fdd298fd1eb"
      },
      "execution_count": 46,
      "outputs": [
        {
          "output_type": "display_data",
          "data": {
            "text/plain": [
              "<Figure size 640x480 with 1 Axes>"
            ],
            "image/png": "[encoded data removed]"
          },
          "metadata": {}
        }
      ]
    },
    {
      "cell_type": "markdown",
      "source": [
        "https://www.geeksforgeeks.org/deep-learning/pytorch-dataloader/\n",
        "\n",
        "**Batching**: process of grouping data samples into smaller chunks (batches) for efficient training. Enables parallel processing\n",
        "\n",
        "**Shuffle**: random reordering of data samples for every epoch\n",
        "\n",
        "**num_workers**: can speed up data loading by allowing multiple samples to be loaded concurrently"
      ],
      "metadata": {
        "id": "SmH-mCLKxHZO"
      }
    },
    {
      "cell_type": "code",
      "source": [
        "# Create dataloaders\n",
        "from torch.utils.data import DataLoader\n",
        "\n",
        "batch_size = 128\n",
        "num_workers = 1 # We are using a single worker, but you can increase this for faster data loading\n",
        "\n",
        "train_loader = DataLoader(train_set, batch_size=batch_size, shuffle=True, num_workers=num_workers)\n",
        "test_loader = DataLoader(test_set, batch_size=batch_size, shuffle=False, num_workers=num_workers)"
      ],
      "metadata": {
        "id": "_w8nqWalbGlO"
      },
      "execution_count": 20,
      "outputs": []
    },
    {
      "cell_type": "markdown",
      "source": [
        "https://www.geeksforgeeks.org/machine-learning/introduction-convolution-neural-network/"
      ],
      "metadata": {
        "id": "vBuwHd10YZYH"
      }
    },
    {
      "cell_type": "code",
      "source": [
        "import torch\n",
        "import torch.nn as nn\n",
        "import torch.nn.functional as F\n",
        "from torch.utils.data import DataLoader"
      ],
      "metadata": {
        "id": "3brJivzKYY8e"
      },
      "execution_count": 21,
      "outputs": []
    },
    {
      "cell_type": "markdown",
      "source": [
        "https://stanford.edu/~shervine/teaching/cs-230/cheatsheet-convolutional-neural-networks\n",
        "\n",
        "Convolution layer (**CONV**) uses filters that perform convolution operations\n",
        "\n",
        "Pooling layer (**POOL**) is a downsampling operation, typically applied after a convolution layer, which does some spatial invariance.\n",
        "\n",
        "Fully connected layer (**FC**) operates on a flattened input where each input is connected to all neurons. If present, FC layers are usually found towards the end of CNN architectures and can be used to optimize objectives such as class scores.\n"
      ],
      "metadata": {
        "id": "9QorZT6nv7UW"
      }
    },
    {
      "cell_type": "code",
      "source": [
        "import torch\n",
        "import torch.nn as nn\n",
        "import torch.nn.functional as F\n",
        "\n",
        "class EEGRegressor(nn.Module):\n",
        "    def __init__(self, n_channels=128, n_samples=200, n_meta=1):\n",
        "        super().__init__()\n",
        "        # convolution layers\n",
        "        self.conv1 = nn.Conv1d(n_channels, 64, kernel_size=5, padding=2)\n",
        "        self.conv2 = nn.Conv1d(64, 128, kernel_size=5, padding=2)\n",
        "        self.conv3 = nn.Conv1d(128, 64, kernel_size=5, padding=2)\n",
        "\n",
        "        # pooling layer\n",
        "        self.pool = nn.AdaptiveAvgPool1d(1)\n",
        "\n",
        "        # fully connected layer\n",
        "        self.meta_fc = nn.Linear(n_meta, 32)\n",
        "\n",
        "        # Combined fully connected layers\n",
        "        self.fc1 = nn.Linear(64 + 32, 32)\n",
        "        self.fc2 = nn.Linear(32, 1)\n",
        "\n",
        "    def forward(self, x):\n",
        "        \"\"\"\n",
        "        x: (batch_size, n_channels + n_meta, n_samples)\n",
        "        \"\"\"\n",
        "        # Split EEG and metadata\n",
        "        X_eeg = x[:, :128, :]        # EEG channels\n",
        "        X_meta = x[:, 128:, 0]       # metadata flattened to (batch, n_meta)\n",
        "\n",
        "        # EEG CNN path\n",
        "        x_eeg = F.relu(self.conv1(X_eeg))\n",
        "        x_eeg = F.relu(self.conv2(x_eeg))\n",
        "        x_eeg = F.relu(self.conv3(x_eeg))\n",
        "        x_eeg = self.pool(x_eeg).squeeze(-1)  # (batch, 64)\n",
        "\n",
        "        # Metadata path\n",
        "        x_meta = F.relu(self.meta_fc(X_meta))  # (batch, 32)\n",
        "\n",
        "        # Concatenate EEG + metadata\n",
        "        x = torch.cat([x_eeg, x_meta], dim=1)\n",
        "        x = F.relu(self.fc1(x))\n",
        "        x = self.fc2(x)  # predicted RT\n",
        "        return x"
      ],
      "metadata": {
        "id": "jnXKRRqgYq0O"
      },
      "execution_count": 22,
      "outputs": []
    },
    {
      "cell_type": "markdown",
      "source": [
        "https://docs.pytorch.org/docs/stable/generated/torch.optim.AdamW.html\n",
        "\n",
        "https://www.datacamp.com/tutorial/adamw-optimizer-in-pytorch\n",
        "\n",
        "**lr** (**learning rate**): how much to adjust the model weights with respect to the loss gradient during each training step. higher learning rate speeds up training but may cause the model to overshoot optimal weights, while a lower rate allows for more fine-tuned adjustments but can make training slower or get stuck in local minima\n",
        "\n",
        "**weights_Decay**:  regularization technique used to prevent overfitting by penalizing large weights in the model. adds a small penalty proportional to the size of the model weights during training, helping to reduce model complexity and improve generalization to new data.\n",
        "\n",
        "**epochs**: one complete pass through the entire training dataset\n",
        "\n"
      ],
      "metadata": {
        "id": "T6Vr-BQIyK0O"
      }
    },
    {
      "cell_type": "code",
      "source": [
        "# Defining training parameters\n",
        "\n",
        "lr = 1E-3\n",
        "weight_decay = 1E-5\n",
        "n_epochs = 100\n",
        "early_stopping_patience = 50"
      ],
      "metadata": {
        "id": "Yy6knZm5bv25"
      },
      "execution_count": 23,
      "outputs": []
    },
    {
      "cell_type": "markdown",
      "source": [
        "https://medium.com/@utkrisht14/cosine-learning-rate-schedulers-in-pytorch-486d8717d541\n",
        "\n",
        "Learning rate scheduler:\n",
        "\n",
        "\n",
        "*    Dynamically adjust the learning rate as training progresses\n",
        "*   Modifying the learning rate over time based on predefined rules or performance metrics\n",
        "\n",
        " **CosineAnnealingLR**: adjust the learning rate following a cosine curve, gradually reducing the rate over each cycle\n",
        "\n",
        "**StepLR**: decreases the learning rate by a factor at regular intervals\n",
        "\n",
        "**ReduceLROnPlateau**: reduces the learning rate based on the model's performance on the validation set.\n",
        "\n",
        "\n"
      ],
      "metadata": {
        "id": "V9iHjteDzxeL"
      }
    },
    {
      "cell_type": "code",
      "source": [
        "model = EEGRegressor(n_channels=128, n_samples=200).to(device)\n",
        "\n",
        "optimizer = torch.optim.AdamW(model.parameters(), lr=lr, weight_decay=weight_decay)\n",
        "scheduler = torch.optim.lr_scheduler.CosineAnnealingLR(optimizer, T_max=n_epochs - 1)\n",
        "loss_fn = torch.nn.MSELoss()"
      ],
      "metadata": {
        "id": "3kdS-tUgb65f"
      },
      "execution_count": 24,
      "outputs": []
    },
    {
      "cell_type": "code",
      "source": [
        "from typing import Optional\n",
        "import torch\n",
        "from torch.utils.data import DataLoader\n",
        "from tqdm import tqdm\n",
        "from torch.nn import Module\n",
        "from torch.optim.lr_scheduler import LRScheduler\n",
        "def train_one_epoch(\n",
        "    dataloader: DataLoader,\n",
        "    model: Module,\n",
        "    loss_fn,\n",
        "    optimizer,\n",
        "    scheduler: Optional[LRScheduler],\n",
        "    epoch: int,\n",
        "    device,\n",
        "    print_batch_stats: bool = True,\n",
        "):\n",
        "    model.train()\n",
        "\n",
        "    total_loss = 0.0\n",
        "    sum_sq_err = 0.0\n",
        "    n_samples = 0\n",
        "\n",
        "    progress_bar = tqdm(\n",
        "        enumerate(dataloader), total=len(dataloader), disable=not print_batch_stats\n",
        "    )\n",
        "\n",
        "    for batch_idx, batch in progress_bar:\n",
        "        # Support datasets that may return (X, y) or (X, y, ...)\n",
        "        X, y = batch[0], batch[1]\n",
        "        X, y = X.to(device).float(), y.to(device).float()\n",
        "\n",
        "        optimizer.zero_grad(set_to_none=True)\n",
        "        preds = model(X)\n",
        "        loss = loss_fn(preds, y)\n",
        "        loss.backward()\n",
        "        optimizer.step()\n",
        "\n",
        "        total_loss += loss.item()\n",
        "\n",
        "        # Flatten to 1D for regression metrics and accumulate squared error\n",
        "        preds_flat = preds.detach().view(-1)\n",
        "        y_flat = y.detach().view(-1)\n",
        "        sum_sq_err += torch.sum((preds_flat - y_flat) ** 2).item()\n",
        "        n_samples += y_flat.numel()\n",
        "\n",
        "        if print_batch_stats:\n",
        "            running_rmse = (sum_sq_err / max(n_samples, 1)) ** 0.5\n",
        "            progress_bar.set_description(\n",
        "                f\"Epoch {epoch}, Batch {batch_idx + 1}/{len(dataloader)}, \"\n",
        "                f\"Loss: {loss.item():.6f}, RMSE: {running_rmse:.6f}\"\n",
        "            )\n",
        "\n",
        "    if scheduler is not None:\n",
        "        scheduler.step()\n",
        "\n",
        "    avg_loss = total_loss / len(dataloader)\n",
        "    rmse = (sum_sq_err / max(n_samples, 1)) ** 0.5\n",
        "    return avg_loss, rmse"
      ],
      "metadata": {
        "id": "zooUMr3ib9xw"
      },
      "execution_count": 25,
      "outputs": []
    },
    {
      "cell_type": "code",
      "source": [
        "\n",
        "best_rmse = float(\"inf\")\n",
        "best_state, best_epoch = None, None\n",
        "train_rmse_list = []\n",
        "\n",
        "for epoch in range(1, n_epochs + 1):\n",
        "    print(f\"\\nEpoch {epoch}/{n_epochs}: \")\n",
        "\n",
        "    # Train one epoch\n",
        "    train_loss, train_rmse = train_one_epoch(\n",
        "        train_loader, model, loss_fn, optimizer, scheduler=None, epoch=epoch, device=device\n",
        "    )\n",
        "    train_rmse_list.append(train_rmse)\n",
        "\n",
        "    print(f\"Train RMSE: {train_rmse:.6f}, Train Loss: {train_loss:.6f}\")\n",
        "\n",
        "    # Optional early stopping on train RMSE\n",
        "    if train_rmse < best_rmse:\n",
        "        best_rmse = train_rmse\n",
        "        best_state = copy.deepcopy(model.state_dict())\n",
        "        best_epoch = epoch\n",
        "\n",
        "# Load best model\n",
        "if best_state is not None:\n",
        "    model.load_state_dict(best_state)\n",
        "    print(f\"Loaded best model from epoch {best_epoch} with Train RMSE: {best_rmse:.6f}\")\n"
      ],
      "metadata": {
        "colab": {
          "base_uri": "https://localhost:8080/"
        },
        "id": "AEO8B4iJazno",
        "outputId": "e9f23edf-a41e-4a16-e091-21606bd5c225"
      },
      "execution_count": 29,
      "outputs": [
        {
          "output_type": "stream",
          "name": "stdout",
          "text": [
            "\n",
            "Epoch 1/100: \n"
          ]
        },
        {
          "output_type": "stream",
          "name": "stderr",
          "text": [
            "\r  0%|          | 0/10 [00:00<?, ?it/s]Exception ignored in: <function _MultiProcessingDataLoaderIter.__del__ at 0x7b41e01f4540>\n",
            "Traceback (most recent call last):\n",
            "  File \"/usr/local/lib/python3.12/dist-packages/torch/utils/data/dataloader.py\", line 1664, in __del__\n",
            "    self._shutdown_workers()\n",
            "  File \"/usr/local/lib/python3.12/dist-packages/torch/utils/data/dataloader.py\", line 1647, in _shutdown_workers\n",
            "    if w.is_alive():\n",
            "       ^^^^^^^^^^^^\n",
            "  File \"/usr/lib/python3.12/multiprocessing/process.py\", line 160, in is_alive\n",
            "    assert self._parent_pid == os.getpid(), 'can only test a child process'\n",
            "           ^^^^^^^^^^^^^^^^^^^^^^^^^^^^^^^\n",
            "AssertionError: can only test a child process\n",
            "Epoch 1, Batch 10/10, Loss: 0.125816, RMSE: 0.408047: 100%|██████████| 10/10 [00:03<00:00,  2.51it/s]"
          ]
        },
        {
          "output_type": "stream",
          "name": "stdout",
          "text": [
            "Train RMSE: 0.408047, Train Loss: 0.164436\n",
            "\n",
            "Epoch 2/100: \n"
          ]
        },
        {
          "output_type": "stream",
          "name": "stderr",
          "text": [
            "\n",
            "  0%|          | 0/10 [00:00<?, ?it/s]Exception ignored in: <function _MultiProcessingDataLoaderIter.__del__ at 0x7b41e01f4540>\n",
            "Traceback (most recent call last):\n",
            "  File \"/usr/local/lib/python3.12/dist-packages/torch/utils/data/dataloader.py\", line 1664, in __del__\n",
            "    self._shutdown_workers()\n",
            "  File \"/usr/local/lib/python3.12/dist-packages/torch/utils/data/dataloader.py\", line 1647, in _shutdown_workers\n",
            "    if w.is_alive():\n",
            "       ^^^^^^^^^^^^\n",
            "  File \"/usr/lib/python3.12/multiprocessing/process.py\", line 160, in is_alive\n",
            "    assert self._parent_pid == os.getpid(), 'can only test a child process'\n",
            "           ^^^^^^^^^^^^^^^^^^^^^^^^^^^^^^^\n",
            "AssertionError: can only test a child process\n",
            "Epoch 2, Batch 10/10, Loss: 0.132724, RMSE: 0.409371: 100%|██████████| 10/10 [00:03<00:00,  2.65it/s]"
          ]
        },
        {
          "output_type": "stream",
          "name": "stdout",
          "text": [
            "Train RMSE: 0.409371, Train Loss: 0.165814\n",
            "\n",
            "Epoch 3/100: \n"
          ]
        },
        {
          "output_type": "stream",
          "name": "stderr",
          "text": [
            "\n",
            "  0%|          | 0/10 [00:00<?, ?it/s]Exception ignored in: <function _MultiProcessingDataLoaderIter.__del__ at 0x7b41e01f4540>\n",
            "Traceback (most recent call last):\n",
            "  File \"/usr/local/lib/python3.12/dist-packages/torch/utils/data/dataloader.py\", line 1664, in __del__\n",
            "    self._shutdown_workers()\n",
            "  File \"/usr/local/lib/python3.12/dist-packages/torch/utils/data/dataloader.py\", line 1647, in _shutdown_workers\n",
            "    if w.is_alive():\n",
            "       ^^^^^^^^^^^^\n",
            "  File \"/usr/lib/python3.12/multiprocessing/process.py\", line 160, in is_alive\n",
            "    assert self._parent_pid == os.getpid(), 'can only test a child process'\n",
            "           ^^^^^^^^^^^^^^^^^^^^^^^^^^^^^^^\n",
            "AssertionError: can only test a child process\n",
            "Epoch 3, Batch 10/10, Loss: 0.158689, RMSE: 0.407805: 100%|██████████| 10/10 [00:03<00:00,  2.93it/s]"
          ]
        },
        {
          "output_type": "stream",
          "name": "stdout",
          "text": [
            "Train RMSE: 0.407805, Train Loss: 0.165918\n",
            "\n",
            "Epoch 4/100: \n"
          ]
        },
        {
          "output_type": "stream",
          "name": "stderr",
          "text": [
            "\n",
            "Epoch 4, Batch 10/10, Loss: 0.229276, RMSE: 0.412250: 100%|██████████| 10/10 [00:03<00:00,  3.03it/s]"
          ]
        },
        {
          "output_type": "stream",
          "name": "stdout",
          "text": [
            "Train RMSE: 0.412250, Train Loss: 0.172962\n",
            "\n",
            "Epoch 5/100: \n"
          ]
        },
        {
          "output_type": "stream",
          "name": "stderr",
          "text": [
            "\n",
            "Epoch 5, Batch 10/10, Loss: 0.182945, RMSE: 0.415510: 100%|██████████| 10/10 [00:04<00:00,  2.25it/s]"
          ]
        },
        {
          "output_type": "stream",
          "name": "stdout",
          "text": [
            "Train RMSE: 0.415510, Train Loss: 0.173172\n",
            "\n",
            "Epoch 6/100: \n"
          ]
        },
        {
          "output_type": "stream",
          "name": "stderr",
          "text": [
            "\n",
            "Epoch 6, Batch 10/10, Loss: 0.227373, RMSE: 0.418270: 100%|██████████| 10/10 [00:03<00:00,  3.01it/s]"
          ]
        },
        {
          "output_type": "stream",
          "name": "stdout",
          "text": [
            "Train RMSE: 0.418270, Train Loss: 0.177612\n",
            "\n",
            "Epoch 7/100: \n"
          ]
        },
        {
          "output_type": "stream",
          "name": "stderr",
          "text": [
            "\n",
            "Epoch 7, Batch 10/10, Loss: 0.238265, RMSE: 0.411696: 100%|██████████| 10/10 [00:03<00:00,  3.08it/s]"
          ]
        },
        {
          "output_type": "stream",
          "name": "stdout",
          "text": [
            "Train RMSE: 0.411696, Train Loss: 0.172986\n",
            "\n",
            "Epoch 8/100: \n"
          ]
        },
        {
          "output_type": "stream",
          "name": "stderr",
          "text": [
            "\n",
            "Epoch 8, Batch 10/10, Loss: 0.167490, RMSE: 0.408469: 100%|██████████| 10/10 [00:04<00:00,  2.19it/s]"
          ]
        },
        {
          "output_type": "stream",
          "name": "stdout",
          "text": [
            "Train RMSE: 0.408469, Train Loss: 0.166880\n",
            "\n",
            "Epoch 9/100: \n"
          ]
        },
        {
          "output_type": "stream",
          "name": "stderr",
          "text": [
            "\n",
            "Epoch 9, Batch 10/10, Loss: 0.158714, RMSE: 0.406700: 100%|██████████| 10/10 [00:05<00:00,  1.96it/s]"
          ]
        },
        {
          "output_type": "stream",
          "name": "stdout",
          "text": [
            "Train RMSE: 0.406700, Train Loss: 0.165065\n",
            "\n",
            "Epoch 10/100: \n"
          ]
        },
        {
          "output_type": "stream",
          "name": "stderr",
          "text": [
            "\n",
            "Epoch 10, Batch 10/10, Loss: 0.163418, RMSE: 0.407989: 100%|██████████| 10/10 [00:03<00:00,  2.90it/s]"
          ]
        },
        {
          "output_type": "stream",
          "name": "stdout",
          "text": [
            "Train RMSE: 0.407989, Train Loss: 0.166301\n",
            "\n",
            "Epoch 11/100: \n"
          ]
        },
        {
          "output_type": "stream",
          "name": "stderr",
          "text": [
            "\n",
            "Epoch 11, Batch 10/10, Loss: 0.216105, RMSE: 0.405546: 100%|██████████| 10/10 [00:03<00:00,  2.54it/s]"
          ]
        },
        {
          "output_type": "stream",
          "name": "stdout",
          "text": [
            "Train RMSE: 0.405546, Train Loss: 0.167090\n",
            "\n",
            "Epoch 12/100: \n"
          ]
        },
        {
          "output_type": "stream",
          "name": "stderr",
          "text": [
            "\n",
            "Epoch 12, Batch 10/10, Loss: 0.188426, RMSE: 0.402894: 100%|██████████| 10/10 [00:04<00:00,  2.29it/s]"
          ]
        },
        {
          "output_type": "stream",
          "name": "stdout",
          "text": [
            "Train RMSE: 0.402894, Train Loss: 0.163649\n",
            "\n",
            "Epoch 13/100: \n"
          ]
        },
        {
          "output_type": "stream",
          "name": "stderr",
          "text": [
            "\n",
            "Epoch 13, Batch 10/10, Loss: 0.159067, RMSE: 0.404064: 100%|██████████| 10/10 [00:03<00:00,  2.95it/s]\n"
          ]
        },
        {
          "output_type": "stream",
          "name": "stdout",
          "text": [
            "Train RMSE: 0.404064, Train Loss: 0.163054\n",
            "\n",
            "Epoch 14/100: \n"
          ]
        },
        {
          "output_type": "stream",
          "name": "stderr",
          "text": [
            "Epoch 14, Batch 10/10, Loss: 0.142952, RMSE: 0.401928: 100%|██████████| 10/10 [00:03<00:00,  3.05it/s]"
          ]
        },
        {
          "output_type": "stream",
          "name": "stdout",
          "text": [
            "Train RMSE: 0.401928, Train Loss: 0.160602\n",
            "\n",
            "Epoch 15/100: \n"
          ]
        },
        {
          "output_type": "stream",
          "name": "stderr",
          "text": [
            "\n",
            "Epoch 15, Batch 10/10, Loss: 0.202045, RMSE: 0.405643: 100%|██████████| 10/10 [00:04<00:00,  2.19it/s]"
          ]
        },
        {
          "output_type": "stream",
          "name": "stdout",
          "text": [
            "Train RMSE: 0.405643, Train Loss: 0.166450\n",
            "\n",
            "Epoch 16/100: \n"
          ]
        },
        {
          "output_type": "stream",
          "name": "stderr",
          "text": [
            "\n",
            "Epoch 16, Batch 10/10, Loss: 0.179671, RMSE: 0.409600: 100%|██████████| 10/10 [00:03<00:00,  2.99it/s]"
          ]
        },
        {
          "output_type": "stream",
          "name": "stdout",
          "text": [
            "Train RMSE: 0.409600, Train Loss: 0.168376\n",
            "\n",
            "Epoch 17/100: \n"
          ]
        },
        {
          "output_type": "stream",
          "name": "stderr",
          "text": [
            "\n",
            "Epoch 17, Batch 10/10, Loss: 0.098665, RMSE: 0.406667: 100%|██████████| 10/10 [00:03<00:00,  3.05it/s]"
          ]
        },
        {
          "output_type": "stream",
          "name": "stdout",
          "text": [
            "Train RMSE: 0.406667, Train Loss: 0.161990\n",
            "\n",
            "Epoch 18/100: \n"
          ]
        },
        {
          "output_type": "stream",
          "name": "stderr",
          "text": [
            "\n",
            "Epoch 18, Batch 10/10, Loss: 0.140620, RMSE: 0.401415: 100%|██████████| 10/10 [00:04<00:00,  2.49it/s]"
          ]
        },
        {
          "output_type": "stream",
          "name": "stdout",
          "text": [
            "Train RMSE: 0.401415, Train Loss: 0.160093\n",
            "\n",
            "Epoch 19/100: \n"
          ]
        },
        {
          "output_type": "stream",
          "name": "stderr",
          "text": [
            "\n",
            "Epoch 19, Batch 10/10, Loss: 0.172641, RMSE: 0.407583: 100%|██████████| 10/10 [00:04<00:00,  2.28it/s]"
          ]
        },
        {
          "output_type": "stream",
          "name": "stdout",
          "text": [
            "Train RMSE: 0.407583, Train Loss: 0.166455\n",
            "\n",
            "Epoch 20/100: \n"
          ]
        },
        {
          "output_type": "stream",
          "name": "stderr",
          "text": [
            "\n",
            "Epoch 20, Batch 10/10, Loss: 0.209165, RMSE: 0.403710: 100%|██████████| 10/10 [00:03<00:00,  3.05it/s]"
          ]
        },
        {
          "output_type": "stream",
          "name": "stdout",
          "text": [
            "Train RMSE: 0.403710, Train Loss: 0.165327\n",
            "\n",
            "Epoch 21/100: \n"
          ]
        },
        {
          "output_type": "stream",
          "name": "stderr",
          "text": [
            "\n",
            "Epoch 21, Batch 10/10, Loss: 0.109497, RMSE: 0.397226: 100%|██████████| 10/10 [00:03<00:00,  3.04it/s]"
          ]
        },
        {
          "output_type": "stream",
          "name": "stdout",
          "text": [
            "Train RMSE: 0.397226, Train Loss: 0.155336\n",
            "\n",
            "Epoch 22/100: \n"
          ]
        },
        {
          "output_type": "stream",
          "name": "stderr",
          "text": [
            "\n",
            "Epoch 22, Batch 10/10, Loss: 0.142991, RMSE: 0.400760: 100%|██████████| 10/10 [00:04<00:00,  2.43it/s]"
          ]
        },
        {
          "output_type": "stream",
          "name": "stdout",
          "text": [
            "Train RMSE: 0.400760, Train Loss: 0.159714\n",
            "\n",
            "Epoch 23/100: \n"
          ]
        },
        {
          "output_type": "stream",
          "name": "stderr",
          "text": [
            "\n",
            "Epoch 23, Batch 10/10, Loss: 0.194604, RMSE: 0.398576: 100%|██████████| 10/10 [00:03<00:00,  3.08it/s]"
          ]
        },
        {
          "output_type": "stream",
          "name": "stdout",
          "text": [
            "Train RMSE: 0.398576, Train Loss: 0.160678\n",
            "\n",
            "Epoch 24/100: \n"
          ]
        },
        {
          "output_type": "stream",
          "name": "stderr",
          "text": [
            "\n",
            "Epoch 24, Batch 10/10, Loss: 0.136084, RMSE: 0.399928: 100%|██████████| 10/10 [00:03<00:00,  3.05it/s]"
          ]
        },
        {
          "output_type": "stream",
          "name": "stdout",
          "text": [
            "Train RMSE: 0.399928, Train Loss: 0.158731\n",
            "\n",
            "Epoch 25/100: \n"
          ]
        },
        {
          "output_type": "stream",
          "name": "stderr",
          "text": [
            "\n",
            "Epoch 25, Batch 10/10, Loss: 0.194705, RMSE: 0.395568: 100%|██████████| 10/10 [00:04<00:00,  2.48it/s]"
          ]
        },
        {
          "output_type": "stream",
          "name": "stdout",
          "text": [
            "Train RMSE: 0.395568, Train Loss: 0.158415\n",
            "\n",
            "Epoch 26/100: \n"
          ]
        },
        {
          "output_type": "stream",
          "name": "stderr",
          "text": [
            "\n",
            "Epoch 26, Batch 10/10, Loss: 0.156200, RMSE: 0.395837: 100%|██████████| 10/10 [00:03<00:00,  2.94it/s]"
          ]
        },
        {
          "output_type": "stream",
          "name": "stdout",
          "text": [
            "Train RMSE: 0.395837, Train Loss: 0.156662\n",
            "\n",
            "Epoch 27/100: \n"
          ]
        },
        {
          "output_type": "stream",
          "name": "stderr",
          "text": [
            "\n",
            "Epoch 27, Batch 10/10, Loss: 0.137893, RMSE: 0.394388: 100%|██████████| 10/10 [00:03<00:00,  3.08it/s]"
          ]
        },
        {
          "output_type": "stream",
          "name": "stdout",
          "text": [
            "Train RMSE: 0.394388, Train Loss: 0.154645\n",
            "\n",
            "Epoch 28/100: \n"
          ]
        },
        {
          "output_type": "stream",
          "name": "stderr",
          "text": [
            "\n",
            "Epoch 28, Batch 10/10, Loss: 0.119582, RMSE: 0.391745: 100%|██████████| 10/10 [00:04<00:00,  2.06it/s]"
          ]
        },
        {
          "output_type": "stream",
          "name": "stdout",
          "text": [
            "Train RMSE: 0.391745, Train Loss: 0.151744\n",
            "\n",
            "Epoch 29/100: \n"
          ]
        },
        {
          "output_type": "stream",
          "name": "stderr",
          "text": [
            "\n",
            "Epoch 29, Batch 10/10, Loss: 0.110229, RMSE: 0.398228: 100%|██████████| 10/10 [00:03<00:00,  2.69it/s]\n"
          ]
        },
        {
          "output_type": "stream",
          "name": "stdout",
          "text": [
            "Train RMSE: 0.398228, Train Loss: 0.156130\n",
            "\n",
            "Epoch 30/100: \n"
          ]
        },
        {
          "output_type": "stream",
          "name": "stderr",
          "text": [
            "Epoch 30, Batch 10/10, Loss: 0.166884, RMSE: 0.391194: 100%|██████████| 10/10 [00:03<00:00,  2.97it/s]\n"
          ]
        },
        {
          "output_type": "stream",
          "name": "stdout",
          "text": [
            "Train RMSE: 0.391194, Train Loss: 0.153736\n",
            "\n",
            "Epoch 31/100: \n"
          ]
        },
        {
          "output_type": "stream",
          "name": "stderr",
          "text": [
            "Epoch 31, Batch 10/10, Loss: 0.196124, RMSE: 0.392149: 100%|██████████| 10/10 [00:03<00:00,  3.04it/s]\n"
          ]
        },
        {
          "output_type": "stream",
          "name": "stdout",
          "text": [
            "Train RMSE: 0.392149, Train Loss: 0.155931\n",
            "\n",
            "Epoch 32/100: \n"
          ]
        },
        {
          "output_type": "stream",
          "name": "stderr",
          "text": [
            "Epoch 32, Batch 10/10, Loss: 0.074152, RMSE: 0.396166: 100%|██████████| 10/10 [00:04<00:00,  2.43it/s]"
          ]
        },
        {
          "output_type": "stream",
          "name": "stdout",
          "text": [
            "Train RMSE: 0.396166, Train Loss: 0.152743\n",
            "\n",
            "Epoch 33/100: \n"
          ]
        },
        {
          "output_type": "stream",
          "name": "stderr",
          "text": [
            "\n",
            "Epoch 33, Batch 10/10, Loss: 0.125606, RMSE: 0.390712: 100%|██████████| 10/10 [00:03<00:00,  3.09it/s]"
          ]
        },
        {
          "output_type": "stream",
          "name": "stdout",
          "text": [
            "Train RMSE: 0.390712, Train Loss: 0.151282\n",
            "\n",
            "Epoch 34/100: \n"
          ]
        },
        {
          "output_type": "stream",
          "name": "stderr",
          "text": [
            "\n",
            "Epoch 34, Batch 10/10, Loss: 0.113721, RMSE: 0.389207: 100%|██████████| 10/10 [00:03<00:00,  3.08it/s]"
          ]
        },
        {
          "output_type": "stream",
          "name": "stdout",
          "text": [
            "Train RMSE: 0.389207, Train Loss: 0.149564\n",
            "\n",
            "Epoch 35/100: \n"
          ]
        },
        {
          "output_type": "stream",
          "name": "stderr",
          "text": [
            "\n",
            "Epoch 35, Batch 10/10, Loss: 0.101706, RMSE: 0.388097: 100%|██████████| 10/10 [00:03<00:00,  2.63it/s]"
          ]
        },
        {
          "output_type": "stream",
          "name": "stdout",
          "text": [
            "Train RMSE: 0.388097, Train Loss: 0.148135\n",
            "\n",
            "Epoch 36/100: \n"
          ]
        },
        {
          "output_type": "stream",
          "name": "stderr",
          "text": [
            "\n",
            "Epoch 36, Batch 10/10, Loss: 0.163789, RMSE: 0.387081: 100%|██████████| 10/10 [00:03<00:00,  2.81it/s]"
          ]
        },
        {
          "output_type": "stream",
          "name": "stdout",
          "text": [
            "Train RMSE: 0.387081, Train Loss: 0.150541\n",
            "\n",
            "Epoch 37/100: \n"
          ]
        },
        {
          "output_type": "stream",
          "name": "stderr",
          "text": [
            "\n",
            "Epoch 37, Batch 10/10, Loss: 0.156618, RMSE: 0.386715: 100%|██████████| 10/10 [00:03<00:00,  3.10it/s]"
          ]
        },
        {
          "output_type": "stream",
          "name": "stdout",
          "text": [
            "Train RMSE: 0.386715, Train Loss: 0.149907\n",
            "\n",
            "Epoch 38/100: \n"
          ]
        },
        {
          "output_type": "stream",
          "name": "stderr",
          "text": [
            "\n",
            "Epoch 38, Batch 10/10, Loss: 0.207961, RMSE: 0.389377: 100%|██████████| 10/10 [00:03<00:00,  3.14it/s]"
          ]
        },
        {
          "output_type": "stream",
          "name": "stdout",
          "text": [
            "Train RMSE: 0.389377, Train Loss: 0.154476\n",
            "\n",
            "Epoch 39/100: \n"
          ]
        },
        {
          "output_type": "stream",
          "name": "stderr",
          "text": [
            "\n",
            "Epoch 39, Batch 10/10, Loss: 0.197677, RMSE: 0.391488: 100%|██████████| 10/10 [00:04<00:00,  2.48it/s]"
          ]
        },
        {
          "output_type": "stream",
          "name": "stdout",
          "text": [
            "Train RMSE: 0.391488, Train Loss: 0.155518\n",
            "\n",
            "Epoch 40/100: \n"
          ]
        },
        {
          "output_type": "stream",
          "name": "stderr",
          "text": [
            "\n",
            "Epoch 40, Batch 10/10, Loss: 0.148593, RMSE: 0.390284: 100%|██████████| 10/10 [00:03<00:00,  3.10it/s]"
          ]
        },
        {
          "output_type": "stream",
          "name": "stdout",
          "text": [
            "Train RMSE: 0.390284, Train Loss: 0.152132\n",
            "\n",
            "Epoch 41/100: \n"
          ]
        },
        {
          "output_type": "stream",
          "name": "stderr",
          "text": [
            "\n",
            "Epoch 41, Batch 10/10, Loss: 0.123594, RMSE: 0.399302: 100%|██████████| 10/10 [00:03<00:00,  2.63it/s]"
          ]
        },
        {
          "output_type": "stream",
          "name": "stdout",
          "text": [
            "Train RMSE: 0.399302, Train Loss: 0.157622\n",
            "\n",
            "Epoch 42/100: \n"
          ]
        },
        {
          "output_type": "stream",
          "name": "stderr",
          "text": [
            "\n",
            "Epoch 42, Batch 10/10, Loss: 0.155280, RMSE: 0.394694: 100%|██████████| 10/10 [00:05<00:00,  1.86it/s]"
          ]
        },
        {
          "output_type": "stream",
          "name": "stdout",
          "text": [
            "Train RMSE: 0.394694, Train Loss: 0.155758\n",
            "\n",
            "Epoch 43/100: \n"
          ]
        },
        {
          "output_type": "stream",
          "name": "stderr",
          "text": [
            "\n",
            "Epoch 43, Batch 10/10, Loss: 0.183330, RMSE: 0.390365: 100%|██████████| 10/10 [00:03<00:00,  3.16it/s]"
          ]
        },
        {
          "output_type": "stream",
          "name": "stdout",
          "text": [
            "Train RMSE: 0.390365, Train Loss: 0.153957\n",
            "\n",
            "Epoch 44/100: \n"
          ]
        },
        {
          "output_type": "stream",
          "name": "stderr",
          "text": [
            "\n",
            "Epoch 44, Batch 10/10, Loss: 0.147071, RMSE: 0.388149: 100%|██████████| 10/10 [00:03<00:00,  3.11it/s]"
          ]
        },
        {
          "output_type": "stream",
          "name": "stdout",
          "text": [
            "Train RMSE: 0.388149, Train Loss: 0.150477\n",
            "\n",
            "Epoch 45/100: \n"
          ]
        },
        {
          "output_type": "stream",
          "name": "stderr",
          "text": [
            "\n",
            "Epoch 45, Batch 10/10, Loss: 0.184177, RMSE: 0.382280: 100%|██████████| 10/10 [00:03<00:00,  2.62it/s]"
          ]
        },
        {
          "output_type": "stream",
          "name": "stdout",
          "text": [
            "Train RMSE: 0.382280, Train Loss: 0.148070\n",
            "\n",
            "Epoch 46/100: \n"
          ]
        },
        {
          "output_type": "stream",
          "name": "stderr",
          "text": [
            "\n",
            "Epoch 46, Batch 10/10, Loss: 0.204413, RMSE: 0.385388: 100%|██████████| 10/10 [00:04<00:00,  2.19it/s]"
          ]
        },
        {
          "output_type": "stream",
          "name": "stdout",
          "text": [
            "Train RMSE: 0.385388, Train Loss: 0.151362\n",
            "\n",
            "Epoch 47/100: \n"
          ]
        },
        {
          "output_type": "stream",
          "name": "stderr",
          "text": [
            "\n",
            "Epoch 47, Batch 10/10, Loss: 0.178160, RMSE: 0.387765: 100%|██████████| 10/10 [00:04<00:00,  2.39it/s]"
          ]
        },
        {
          "output_type": "stream",
          "name": "stdout",
          "text": [
            "Train RMSE: 0.387765, Train Loss: 0.151773\n",
            "\n",
            "Epoch 48/100: \n"
          ]
        },
        {
          "output_type": "stream",
          "name": "stderr",
          "text": [
            "\n",
            "Epoch 48, Batch 10/10, Loss: 0.150384, RMSE: 0.382906: 100%|██████████| 10/10 [00:03<00:00,  2.54it/s]"
          ]
        },
        {
          "output_type": "stream",
          "name": "stdout",
          "text": [
            "Train RMSE: 0.382906, Train Loss: 0.146809\n",
            "\n",
            "Epoch 49/100: \n"
          ]
        },
        {
          "output_type": "stream",
          "name": "stderr",
          "text": [
            "\n",
            "Epoch 49, Batch 10/10, Loss: 0.126658, RMSE: 0.386754: 100%|██████████| 10/10 [00:03<00:00,  2.97it/s]"
          ]
        },
        {
          "output_type": "stream",
          "name": "stdout",
          "text": [
            "Train RMSE: 0.386754, Train Loss: 0.148415\n",
            "\n",
            "Epoch 50/100: \n"
          ]
        },
        {
          "output_type": "stream",
          "name": "stderr",
          "text": [
            "\n",
            "Epoch 50, Batch 10/10, Loss: 0.145323, RMSE: 0.387833: 100%|██████████| 10/10 [00:03<00:00,  3.07it/s]"
          ]
        },
        {
          "output_type": "stream",
          "name": "stdout",
          "text": [
            "Train RMSE: 0.387833, Train Loss: 0.150156\n",
            "\n",
            "Epoch 51/100: \n"
          ]
        },
        {
          "output_type": "stream",
          "name": "stderr",
          "text": [
            "\n",
            "Epoch 51, Batch 10/10, Loss: 0.100305, RMSE: 0.382840: 100%|██████████| 10/10 [00:03<00:00,  3.01it/s]"
          ]
        },
        {
          "output_type": "stream",
          "name": "stdout",
          "text": [
            "Train RMSE: 0.382840, Train Loss: 0.144217\n",
            "\n",
            "Epoch 52/100: \n"
          ]
        },
        {
          "output_type": "stream",
          "name": "stderr",
          "text": [
            "\n",
            "Epoch 52, Batch 10/10, Loss: 0.136037, RMSE: 0.377170: 100%|██████████| 10/10 [00:04<00:00,  2.43it/s]\n"
          ]
        },
        {
          "output_type": "stream",
          "name": "stdout",
          "text": [
            "Train RMSE: 0.377170, Train Loss: 0.141942\n",
            "\n",
            "Epoch 53/100: \n"
          ]
        },
        {
          "output_type": "stream",
          "name": "stderr",
          "text": [
            "Epoch 53, Batch 10/10, Loss: 0.133250, RMSE: 0.390998: 100%|██████████| 10/10 [00:03<00:00,  3.05it/s]"
          ]
        },
        {
          "output_type": "stream",
          "name": "stdout",
          "text": [
            "Train RMSE: 0.390998, Train Loss: 0.151882\n",
            "\n",
            "Epoch 54/100: \n"
          ]
        },
        {
          "output_type": "stream",
          "name": "stderr",
          "text": [
            "\n",
            "Epoch 54, Batch 10/10, Loss: 0.172029, RMSE: 0.387688: 100%|██████████| 10/10 [00:03<00:00,  3.04it/s]"
          ]
        },
        {
          "output_type": "stream",
          "name": "stdout",
          "text": [
            "Train RMSE: 0.387688, Train Loss: 0.151405\n",
            "\n",
            "Epoch 55/100: \n"
          ]
        },
        {
          "output_type": "stream",
          "name": "stderr",
          "text": [
            "\n",
            "Epoch 55, Batch 10/10, Loss: 0.115297, RMSE: 0.385473: 100%|██████████| 10/10 [00:04<00:00,  2.44it/s]"
          ]
        },
        {
          "output_type": "stream",
          "name": "stdout",
          "text": [
            "Train RMSE: 0.385473, Train Loss: 0.146899\n",
            "\n",
            "Epoch 56/100: \n"
          ]
        },
        {
          "output_type": "stream",
          "name": "stderr",
          "text": [
            "\n",
            "Epoch 56, Batch 10/10, Loss: 0.127369, RMSE: 0.392105: 100%|██████████| 10/10 [00:03<00:00,  3.00it/s]"
          ]
        },
        {
          "output_type": "stream",
          "name": "stdout",
          "text": [
            "Train RMSE: 0.392105, Train Loss: 0.152407\n",
            "\n",
            "Epoch 57/100: \n"
          ]
        },
        {
          "output_type": "stream",
          "name": "stderr",
          "text": [
            "\n",
            "Epoch 57, Batch 10/10, Loss: 0.134487, RMSE: 0.382138: 100%|██████████| 10/10 [00:03<00:00,  3.01it/s]"
          ]
        },
        {
          "output_type": "stream",
          "name": "stdout",
          "text": [
            "Train RMSE: 0.382138, Train Loss: 0.145443\n",
            "\n",
            "Epoch 58/100: \n"
          ]
        },
        {
          "output_type": "stream",
          "name": "stderr",
          "text": [
            "\n",
            "Epoch 58, Batch 10/10, Loss: 0.133901, RMSE: 0.379528: 100%|██████████| 10/10 [00:03<00:00,  2.99it/s]"
          ]
        },
        {
          "output_type": "stream",
          "name": "stdout",
          "text": [
            "Train RMSE: 0.379528, Train Loss: 0.143526\n",
            "\n",
            "Epoch 59/100: \n"
          ]
        },
        {
          "output_type": "stream",
          "name": "stderr",
          "text": [
            "\n",
            "Epoch 59, Batch 10/10, Loss: 0.195251, RMSE: 0.381544: 100%|██████████| 10/10 [00:04<00:00,  2.50it/s]"
          ]
        },
        {
          "output_type": "stream",
          "name": "stdout",
          "text": [
            "Train RMSE: 0.381544, Train Loss: 0.148098\n",
            "\n",
            "Epoch 60/100: \n"
          ]
        },
        {
          "output_type": "stream",
          "name": "stderr",
          "text": [
            "\n",
            "Epoch 60, Batch 10/10, Loss: 0.146876, RMSE: 0.380072: 100%|██████████| 10/10 [00:03<00:00,  3.10it/s]"
          ]
        },
        {
          "output_type": "stream",
          "name": "stdout",
          "text": [
            "Train RMSE: 0.380072, Train Loss: 0.144578\n",
            "\n",
            "Epoch 61/100: \n"
          ]
        },
        {
          "output_type": "stream",
          "name": "stderr",
          "text": [
            "\n",
            "Epoch 61, Batch 10/10, Loss: 0.129338, RMSE: 0.385253: 100%|██████████| 10/10 [00:03<00:00,  3.04it/s]"
          ]
        },
        {
          "output_type": "stream",
          "name": "stdout",
          "text": [
            "Train RMSE: 0.385253, Train Loss: 0.147451\n",
            "\n",
            "Epoch 62/100: \n"
          ]
        },
        {
          "output_type": "stream",
          "name": "stderr",
          "text": [
            "\n",
            "Epoch 62, Batch 10/10, Loss: 0.177041, RMSE: 0.397246: 100%|██████████| 10/10 [00:05<00:00,  1.74it/s]"
          ]
        },
        {
          "output_type": "stream",
          "name": "stdout",
          "text": [
            "Train RMSE: 0.397246, Train Loss: 0.158781\n",
            "\n",
            "Epoch 63/100: \n"
          ]
        },
        {
          "output_type": "stream",
          "name": "stderr",
          "text": [
            "\n",
            "Epoch 63, Batch 10/10, Loss: 0.164148, RMSE: 0.383454: 100%|██████████| 10/10 [00:03<00:00,  3.00it/s]"
          ]
        },
        {
          "output_type": "stream",
          "name": "stdout",
          "text": [
            "Train RMSE: 0.383454, Train Loss: 0.147906\n",
            "\n",
            "Epoch 64/100: \n"
          ]
        },
        {
          "output_type": "stream",
          "name": "stderr",
          "text": [
            "\n",
            "Epoch 64, Batch 10/10, Loss: 0.093369, RMSE: 0.381770: 100%|██████████| 10/10 [00:03<00:00,  2.98it/s]"
          ]
        },
        {
          "output_type": "stream",
          "name": "stdout",
          "text": [
            "Train RMSE: 0.381770, Train Loss: 0.143088\n",
            "\n",
            "Epoch 65/100: \n"
          ]
        },
        {
          "output_type": "stream",
          "name": "stderr",
          "text": [
            "\n",
            "Epoch 65, Batch 10/10, Loss: 0.171692, RMSE: 0.376088: 100%|██████████| 10/10 [00:04<00:00,  2.46it/s]"
          ]
        },
        {
          "output_type": "stream",
          "name": "stdout",
          "text": [
            "Train RMSE: 0.376088, Train Loss: 0.142978\n",
            "\n",
            "Epoch 66/100: \n"
          ]
        },
        {
          "output_type": "stream",
          "name": "stderr",
          "text": [
            "\n",
            "Epoch 66, Batch 10/10, Loss: 0.102115, RMSE: 0.373983: 100%|██████████| 10/10 [00:03<00:00,  3.08it/s]"
          ]
        },
        {
          "output_type": "stream",
          "name": "stdout",
          "text": [
            "Train RMSE: 0.373983, Train Loss: 0.137947\n",
            "\n",
            "Epoch 67/100: \n"
          ]
        },
        {
          "output_type": "stream",
          "name": "stderr",
          "text": [
            "\n",
            "Epoch 67, Batch 10/10, Loss: 0.234447, RMSE: 0.378677: 100%|██████████| 10/10 [00:03<00:00,  3.06it/s]"
          ]
        },
        {
          "output_type": "stream",
          "name": "stdout",
          "text": [
            "Train RMSE: 0.378677, Train Loss: 0.148020\n",
            "\n",
            "Epoch 68/100: \n"
          ]
        },
        {
          "output_type": "stream",
          "name": "stderr",
          "text": [
            "\n",
            "Epoch 68, Batch 10/10, Loss: 0.120051, RMSE: 0.372293: 100%|██████████| 10/10 [00:03<00:00,  3.08it/s]"
          ]
        },
        {
          "output_type": "stream",
          "name": "stdout",
          "text": [
            "Train RMSE: 0.372293, Train Loss: 0.137660\n",
            "\n",
            "Epoch 69/100: \n"
          ]
        },
        {
          "output_type": "stream",
          "name": "stderr",
          "text": [
            "\n",
            "Epoch 69, Batch 10/10, Loss: 0.084708, RMSE: 0.370845: 100%|██████████| 10/10 [00:04<00:00,  2.44it/s]"
          ]
        },
        {
          "output_type": "stream",
          "name": "stdout",
          "text": [
            "Train RMSE: 0.370845, Train Loss: 0.134844\n",
            "\n",
            "Epoch 70/100: \n"
          ]
        },
        {
          "output_type": "stream",
          "name": "stderr",
          "text": [
            "\n",
            "Epoch 70, Batch 10/10, Loss: 0.157735, RMSE: 0.382009: 100%|██████████| 10/10 [00:03<00:00,  3.08it/s]"
          ]
        },
        {
          "output_type": "stream",
          "name": "stdout",
          "text": [
            "Train RMSE: 0.382009, Train Loss: 0.146530\n",
            "\n",
            "Epoch 71/100: \n"
          ]
        },
        {
          "output_type": "stream",
          "name": "stderr",
          "text": [
            "\n",
            "Epoch 71, Batch 10/10, Loss: 0.119414, RMSE: 0.379473: 100%|██████████| 10/10 [00:03<00:00,  3.01it/s]"
          ]
        },
        {
          "output_type": "stream",
          "name": "stdout",
          "text": [
            "Train RMSE: 0.379473, Train Loss: 0.142751\n",
            "\n",
            "Epoch 72/100: \n"
          ]
        },
        {
          "output_type": "stream",
          "name": "stderr",
          "text": [
            "\n",
            "Epoch 72, Batch 10/10, Loss: 0.095924, RMSE: 0.367927: 100%|██████████| 10/10 [00:04<00:00,  2.44it/s]"
          ]
        },
        {
          "output_type": "stream",
          "name": "stdout",
          "text": [
            "Train RMSE: 0.367927, Train Loss: 0.133367\n",
            "\n",
            "Epoch 73/100: \n"
          ]
        },
        {
          "output_type": "stream",
          "name": "stderr",
          "text": [
            "\n",
            "Epoch 73, Batch 10/10, Loss: 0.134901, RMSE: 0.367712: 100%|██████████| 10/10 [00:04<00:00,  2.38it/s]"
          ]
        },
        {
          "output_type": "stream",
          "name": "stdout",
          "text": [
            "Train RMSE: 0.367712, Train Loss: 0.135197\n",
            "\n",
            "Epoch 74/100: \n"
          ]
        },
        {
          "output_type": "stream",
          "name": "stderr",
          "text": [
            "\n",
            "Epoch 74, Batch 10/10, Loss: 0.150927, RMSE: 0.377409: 100%|██████████| 10/10 [00:03<00:00,  2.98it/s]"
          ]
        },
        {
          "output_type": "stream",
          "name": "stdout",
          "text": [
            "Train RMSE: 0.377409, Train Loss: 0.142869\n",
            "\n",
            "Epoch 75/100: \n"
          ]
        },
        {
          "output_type": "stream",
          "name": "stderr",
          "text": [
            "\n",
            "Epoch 75, Batch 10/10, Loss: 0.154438, RMSE: 0.376612: 100%|██████████| 10/10 [00:03<00:00,  2.70it/s]"
          ]
        },
        {
          "output_type": "stream",
          "name": "stdout",
          "text": [
            "Train RMSE: 0.376612, Train Loss: 0.142477\n",
            "\n",
            "Epoch 76/100: \n"
          ]
        },
        {
          "output_type": "stream",
          "name": "stderr",
          "text": [
            "\n",
            "Epoch 76, Batch 10/10, Loss: 0.173402, RMSE: 0.378999: 100%|██████████| 10/10 [00:03<00:00,  2.71it/s]"
          ]
        },
        {
          "output_type": "stream",
          "name": "stdout",
          "text": [
            "Train RMSE: 0.378999, Train Loss: 0.145151\n",
            "\n",
            "Epoch 77/100: \n"
          ]
        },
        {
          "output_type": "stream",
          "name": "stderr",
          "text": [
            "\n",
            "Epoch 77, Batch 10/10, Loss: 0.226675, RMSE: 0.379808: 100%|██████████| 10/10 [00:03<00:00,  3.01it/s]"
          ]
        },
        {
          "output_type": "stream",
          "name": "stdout",
          "text": [
            "Train RMSE: 0.379808, Train Loss: 0.148439\n",
            "\n",
            "Epoch 78/100: \n"
          ]
        },
        {
          "output_type": "stream",
          "name": "stderr",
          "text": [
            "\n",
            "Epoch 78, Batch 10/10, Loss: 0.141525, RMSE: 0.376407: 100%|██████████| 10/10 [00:03<00:00,  3.05it/s]"
          ]
        },
        {
          "output_type": "stream",
          "name": "stdout",
          "text": [
            "Train RMSE: 0.376407, Train Loss: 0.141674\n",
            "\n",
            "Epoch 79/100: \n"
          ]
        },
        {
          "output_type": "stream",
          "name": "stderr",
          "text": [
            "\n",
            "Epoch 79, Batch 10/10, Loss: 0.115867, RMSE: 0.372098: 100%|██████████| 10/10 [00:04<00:00,  2.41it/s]"
          ]
        },
        {
          "output_type": "stream",
          "name": "stdout",
          "text": [
            "Train RMSE: 0.372098, Train Loss: 0.137310\n",
            "\n",
            "Epoch 80/100: \n"
          ]
        },
        {
          "output_type": "stream",
          "name": "stderr",
          "text": [
            "\n",
            "Epoch 80, Batch 10/10, Loss: 0.111154, RMSE: 0.387158: 100%|██████████| 10/10 [00:03<00:00,  3.01it/s]"
          ]
        },
        {
          "output_type": "stream",
          "name": "stdout",
          "text": [
            "Train RMSE: 0.387158, Train Loss: 0.147924\n",
            "\n",
            "Epoch 81/100: \n"
          ]
        },
        {
          "output_type": "stream",
          "name": "stderr",
          "text": [
            "\n",
            "Epoch 81, Batch 10/10, Loss: 0.091145, RMSE: 0.376067: 100%|██████████| 10/10 [00:03<00:00,  2.94it/s]"
          ]
        },
        {
          "output_type": "stream",
          "name": "stdout",
          "text": [
            "Train RMSE: 0.376067, Train Loss: 0.138873\n",
            "\n",
            "Epoch 82/100: \n"
          ]
        },
        {
          "output_type": "stream",
          "name": "stderr",
          "text": [
            "\n",
            "Epoch 82, Batch 10/10, Loss: 0.174657, RMSE: 0.363519: 100%|██████████| 10/10 [00:04<00:00,  2.49it/s]"
          ]
        },
        {
          "output_type": "stream",
          "name": "stdout",
          "text": [
            "Train RMSE: 0.363519, Train Loss: 0.134305\n",
            "\n",
            "Epoch 83/100: \n"
          ]
        },
        {
          "output_type": "stream",
          "name": "stderr",
          "text": [
            "\n",
            "Epoch 83, Batch 10/10, Loss: 0.186036, RMSE: 0.365546: 100%|██████████| 10/10 [00:03<00:00,  2.97it/s]"
          ]
        },
        {
          "output_type": "stream",
          "name": "stdout",
          "text": [
            "Train RMSE: 0.365546, Train Loss: 0.136285\n",
            "\n",
            "Epoch 84/100: \n"
          ]
        },
        {
          "output_type": "stream",
          "name": "stderr",
          "text": [
            "\n",
            "Epoch 84, Batch 10/10, Loss: 0.117590, RMSE: 0.363028: 100%|██████████| 10/10 [00:03<00:00,  3.00it/s]"
          ]
        },
        {
          "output_type": "stream",
          "name": "stdout",
          "text": [
            "Train RMSE: 0.363028, Train Loss: 0.131068\n",
            "\n",
            "Epoch 85/100: \n"
          ]
        },
        {
          "output_type": "stream",
          "name": "stderr",
          "text": [
            "\n",
            "Epoch 85, Batch 10/10, Loss: 0.127723, RMSE: 0.367106: 100%|██████████| 10/10 [00:03<00:00,  3.12it/s]"
          ]
        },
        {
          "output_type": "stream",
          "name": "stdout",
          "text": [
            "Train RMSE: 0.367106, Train Loss: 0.134409\n",
            "\n",
            "Epoch 86/100: \n"
          ]
        },
        {
          "output_type": "stream",
          "name": "stderr",
          "text": [
            "\n",
            "Epoch 86, Batch 10/10, Loss: 0.132235, RMSE: 0.364045: 100%|██████████| 10/10 [00:04<00:00,  2.47it/s]"
          ]
        },
        {
          "output_type": "stream",
          "name": "stdout",
          "text": [
            "Train RMSE: 0.364045, Train Loss: 0.132514\n",
            "\n",
            "Epoch 87/100: \n"
          ]
        },
        {
          "output_type": "stream",
          "name": "stderr",
          "text": [
            "\n",
            "Epoch 87, Batch 10/10, Loss: 0.201158, RMSE: 0.377010: 100%|██████████| 10/10 [00:03<00:00,  3.03it/s]"
          ]
        },
        {
          "output_type": "stream",
          "name": "stdout",
          "text": [
            "Train RMSE: 0.377010, Train Loss: 0.145134\n",
            "\n",
            "Epoch 88/100: \n"
          ]
        },
        {
          "output_type": "stream",
          "name": "stderr",
          "text": [
            "\n",
            "Epoch 88, Batch 10/10, Loss: 0.120715, RMSE: 0.379489: 100%|██████████| 10/10 [00:03<00:00,  3.13it/s]"
          ]
        },
        {
          "output_type": "stream",
          "name": "stdout",
          "text": [
            "Train RMSE: 0.379489, Train Loss: 0.142829\n",
            "\n",
            "Epoch 89/100: \n"
          ]
        },
        {
          "output_type": "stream",
          "name": "stderr",
          "text": [
            "\n",
            "Epoch 89, Batch 10/10, Loss: 0.154231, RMSE: 0.365981: 100%|██████████| 10/10 [00:03<00:00,  2.56it/s]"
          ]
        },
        {
          "output_type": "stream",
          "name": "stdout",
          "text": [
            "Train RMSE: 0.365981, Train Loss: 0.134973\n",
            "\n",
            "Epoch 90/100: \n"
          ]
        },
        {
          "output_type": "stream",
          "name": "stderr",
          "text": [
            "\n",
            "Epoch 90, Batch 10/10, Loss: 0.093852, RMSE: 0.360625: 100%|██████████| 10/10 [00:03<00:00,  2.94it/s]"
          ]
        },
        {
          "output_type": "stream",
          "name": "stdout",
          "text": [
            "Train RMSE: 0.360625, Train Loss: 0.128212\n",
            "\n",
            "Epoch 91/100: \n"
          ]
        },
        {
          "output_type": "stream",
          "name": "stderr",
          "text": [
            "\n",
            "Epoch 91, Batch 10/10, Loss: 0.116769, RMSE: 0.364114: 100%|██████████| 10/10 [00:03<00:00,  2.52it/s]"
          ]
        },
        {
          "output_type": "stream",
          "name": "stdout",
          "text": [
            "Train RMSE: 0.364114, Train Loss: 0.131776\n",
            "\n",
            "Epoch 92/100: \n"
          ]
        },
        {
          "output_type": "stream",
          "name": "stderr",
          "text": [
            "\n",
            "Epoch 92, Batch 10/10, Loss: 0.182161, RMSE: 0.363247: 100%|██████████| 10/10 [00:03<00:00,  2.96it/s]"
          ]
        },
        {
          "output_type": "stream",
          "name": "stdout",
          "text": [
            "Train RMSE: 0.363247, Train Loss: 0.134498\n",
            "\n",
            "Epoch 93/100: \n"
          ]
        },
        {
          "output_type": "stream",
          "name": "stderr",
          "text": [
            "\n",
            "Epoch 93, Batch 10/10, Loss: 0.131566, RMSE: 0.369784: 100%|██████████| 10/10 [00:03<00:00,  2.55it/s]"
          ]
        },
        {
          "output_type": "stream",
          "name": "stdout",
          "text": [
            "Train RMSE: 0.369784, Train Loss: 0.136478\n",
            "\n",
            "Epoch 94/100: \n"
          ]
        },
        {
          "output_type": "stream",
          "name": "stderr",
          "text": [
            "\n",
            "Epoch 94, Batch 10/10, Loss: 0.228938, RMSE: 0.377434: 100%|██████████| 10/10 [00:03<00:00,  3.03it/s]"
          ]
        },
        {
          "output_type": "stream",
          "name": "stdout",
          "text": [
            "Train RMSE: 0.377434, Train Loss: 0.146848\n",
            "\n",
            "Epoch 95/100: \n"
          ]
        },
        {
          "output_type": "stream",
          "name": "stderr",
          "text": [
            "\n",
            "Epoch 95, Batch 10/10, Loss: 0.136896, RMSE: 0.376852: 100%|██████████| 10/10 [00:03<00:00,  3.11it/s]"
          ]
        },
        {
          "output_type": "stream",
          "name": "stdout",
          "text": [
            "Train RMSE: 0.376852, Train Loss: 0.141757\n",
            "\n",
            "Epoch 96/100: \n"
          ]
        },
        {
          "output_type": "stream",
          "name": "stderr",
          "text": [
            "\n",
            "Epoch 96, Batch 10/10, Loss: 0.152116, RMSE: 0.374169: 100%|██████████| 10/10 [00:04<00:00,  2.44it/s]"
          ]
        },
        {
          "output_type": "stream",
          "name": "stdout",
          "text": [
            "Train RMSE: 0.374169, Train Loss: 0.140617\n",
            "\n",
            "Epoch 97/100: \n"
          ]
        },
        {
          "output_type": "stream",
          "name": "stderr",
          "text": [
            "\n",
            "Epoch 97, Batch 10/10, Loss: 0.143027, RMSE: 0.363642: 100%|██████████| 10/10 [00:03<00:00,  3.05it/s]"
          ]
        },
        {
          "output_type": "stream",
          "name": "stdout",
          "text": [
            "Train RMSE: 0.363642, Train Loss: 0.132784\n",
            "\n",
            "Epoch 98/100: \n"
          ]
        },
        {
          "output_type": "stream",
          "name": "stderr",
          "text": [
            "\n",
            "Epoch 98, Batch 10/10, Loss: 0.144163, RMSE: 0.362710: 100%|██████████| 10/10 [00:03<00:00,  2.99it/s]"
          ]
        },
        {
          "output_type": "stream",
          "name": "stdout",
          "text": [
            "Train RMSE: 0.362710, Train Loss: 0.132198\n",
            "\n",
            "Epoch 99/100: \n"
          ]
        },
        {
          "output_type": "stream",
          "name": "stderr",
          "text": [
            "\n",
            "Epoch 99, Batch 10/10, Loss: 0.134857, RMSE: 0.359641: 100%|██████████| 10/10 [00:03<00:00,  2.86it/s]"
          ]
        },
        {
          "output_type": "stream",
          "name": "stdout",
          "text": [
            "Train RMSE: 0.359641, Train Loss: 0.129622\n",
            "\n",
            "Epoch 100/100: \n"
          ]
        },
        {
          "output_type": "stream",
          "name": "stderr",
          "text": [
            "\n",
            "Epoch 100, Batch 10/10, Loss: 0.130902, RMSE: 0.366885: 100%|██████████| 10/10 [00:04<00:00,  2.38it/s]\n"
          ]
        },
        {
          "output_type": "stream",
          "name": "stdout",
          "text": [
            "Train RMSE: 0.366885, Train Loss: 0.134417\n",
            "Loaded best model from epoch 99 with Train RMSE: 0.359641\n"
          ]
        }
      ]
    },
    {
      "cell_type": "code",
      "source": [
        "plt.plot(train_rmse_list, label=\"Train RMSE\", marker='x')\n",
        "plt.xlabel(\"Epoch\")\n",
        "plt.ylabel(\"RMSE\")\n",
        "plt.title(\"RMSE vs Epochs\")\n",
        "plt.legend()\n",
        "plt.grid(True)\n",
        "plt.show()"
      ],
      "metadata": {
        "colab": {
          "base_uri": "https://localhost:8080/",
          "height": 472
        },
        "id": "mnNbl1qq3fWI",
        "outputId": "d59ac52e-ec4c-42e5-d92a-c32520f423fc"
      },
      "execution_count": 30,
      "outputs": [
        {
          "output_type": "display_data",
          "data": {
            "text/plain": [
              "<Figure size 640x480 with 1 Axes>"
            ],
            "image/png": "[encoded data removed]"
          },
          "metadata": {}
        }
      ]
    },
    {
      "cell_type": "code",
      "source": [
        "model.load_state_dict(best_state)\n",
        "model.eval()\n"
      ],
      "metadata": {
        "colab": {
          "base_uri": "https://localhost:8080/"
        },
        "id": "XDSWpklK4lz4",
        "outputId": "708fdab7-31f8-4707-bc57-389a222eec42"
      },
      "execution_count": 34,
      "outputs": [
        {
          "output_type": "execute_result",
          "data": {
            "text/plain": [
              "EEGRegressor(\n",
              "  (conv1): Conv1d(128, 64, kernel_size=(5,), stride=(1,), padding=(2,))\n",
              "  (conv2): Conv1d(64, 128, kernel_size=(5,), stride=(1,), padding=(2,))\n",
              "  (conv3): Conv1d(128, 64, kernel_size=(5,), stride=(1,), padding=(2,))\n",
              "  (pool): AdaptiveAvgPool1d(output_size=1)\n",
              "  (meta_fc): Linear(in_features=1, out_features=32, bias=True)\n",
              "  (fc1): Linear(in_features=96, out_features=32, bias=True)\n",
              "  (fc2): Linear(in_features=32, out_features=1, bias=True)\n",
              ")"
            ]
          },
          "metadata": {},
          "execution_count": 34
        }
      ]
    }
  ]
}